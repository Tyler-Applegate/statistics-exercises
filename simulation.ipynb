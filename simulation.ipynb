{
 "cells": [
  {
   "cell_type": "markdown",
   "metadata": {},
   "source": [
    "# Simulation\n",
    "\n",
    "In this lesson, we will work through several examples of using random numbers to simulate real-world scenarios."
   ]
  },
  {
   "cell_type": "code",
   "execution_count": 209,
   "metadata": {},
   "outputs": [],
   "source": [
    "%matplotlib inline\n",
    "import numpy as np\n",
    "import pandas as pd\n",
    "\n",
    "# curriculum example visualizations\n",
    "# import viz\n",
    "np.random.seed(1349)"
   ]
  },
  {
   "cell_type": "markdown",
   "metadata": {},
   "source": [
    "### How will we utilize Python to obtain probabilities?"
   ]
  },
  {
   "cell_type": "markdown",
   "metadata": {},
   "source": [
    "We will utilize Monte Carlo simulations.\n",
    "\n",
    "A Monte Carlo simulation is a means to recreate potential events and empirically take the results of simiulated trials to obtain a reasonably precise estimate of a desired probability.\n",
    "\n",
    "What does this mean for us here?"
   ]
  },
  {
   "cell_type": "code",
   "execution_count": null,
   "metadata": {},
   "outputs": [],
   "source": [
    "# Let's take a hypothetical base probability. \n",
    "# What is the probability of rolling a one (1) on a single, standard, fair six-sided die?\n"
   ]
  },
  {
   "cell_type": "code",
   "execution_count": 2,
   "metadata": {},
   "outputs": [],
   "source": [
    "# Potential outcomes of a die roll:\n",
    "possible_outcomes = [1,2,3,4,5,6]"
   ]
  },
  {
   "cell_type": "code",
   "execution_count": null,
   "metadata": {},
   "outputs": [],
   "source": [
    "# options that equal 1: just 1, literally one"
   ]
  },
  {
   "cell_type": "code",
   "execution_count": 3,
   "metadata": {},
   "outputs": [],
   "source": [
    "ideal_roll = 1"
   ]
  },
  {
   "cell_type": "code",
   "execution_count": 4,
   "metadata": {},
   "outputs": [
    {
     "data": {
      "text/plain": [
       "0.16666666666666666"
      ]
     },
     "execution_count": 4,
     "metadata": {},
     "output_type": "execute_result"
    }
   ],
   "source": [
    "theoretical_prob = ideal_roll / len(possible_outcomes)\n",
    "theoretical_prob"
   ]
  },
  {
   "cell_type": "code",
   "execution_count": null,
   "metadata": {},
   "outputs": [],
   "source": [
    "# Now how would we do this with a simulation?\n"
   ]
  },
  {
   "cell_type": "code",
   "execution_count": null,
   "metadata": {},
   "outputs": [],
   "source": [
    "# We will do it utilizing a large number of trials, that we calculate."
   ]
  },
  {
   "cell_type": "code",
   "execution_count": null,
   "metadata": {},
   "outputs": [],
   "source": [
    "# Allow us to examine the same problem: Probability of rolling a 1 on a fair six-sided die."
   ]
  },
  {
   "cell_type": "code",
   "execution_count": 16,
   "metadata": {},
   "outputs": [],
   "source": [
    "# First, we will set a value for the number of trials that we want to conduct.\n",
    "# We have the power of computation at our finger tips, so let's shoot for something like one million.\n",
    "\n",
    "num_trials = 10 ** 7\n"
   ]
  },
  {
   "cell_type": "code",
   "execution_count": 17,
   "metadata": {},
   "outputs": [],
   "source": [
    "# We have one die roll for each trial, which is our event, that we call a single simulation\n",
    "n_dice =1"
   ]
  },
  {
   "cell_type": "code",
   "execution_count": 18,
   "metadata": {},
   "outputs": [],
   "source": [
    "# We will do a single simulation one million times, with each simulation being a die roll."
   ]
  },
  {
   "cell_type": "code",
   "execution_count": 19,
   "metadata": {},
   "outputs": [],
   "source": [
    "rolls = np.random.choice(possible_outcomes, num_trials*n_dice).reshape(num_trials, n_dice)"
   ]
  },
  {
   "cell_type": "code",
   "execution_count": 20,
   "metadata": {},
   "outputs": [],
   "source": [
    "# let's make our simulations!"
   ]
  },
  {
   "cell_type": "code",
   "execution_count": 21,
   "metadata": {},
   "outputs": [
    {
     "data": {
      "text/plain": [
       "numpy.ndarray"
      ]
     },
     "execution_count": 21,
     "metadata": {},
     "output_type": "execute_result"
    }
   ],
   "source": [
    "type(rolls)"
   ]
  },
  {
   "cell_type": "code",
   "execution_count": 22,
   "metadata": {},
   "outputs": [
    {
     "data": {
      "text/plain": [
       "0.1666628"
      ]
     },
     "execution_count": 22,
     "metadata": {},
     "output_type": "execute_result"
    }
   ],
   "source": [
    "(rolls == 1).mean()"
   ]
  },
  {
   "cell_type": "markdown",
   "metadata": {},
   "source": [
    "## Generating Random Numbers with Numpy\n",
    "\n",
    "The `numpy.random` module provides a number of functions for generating random numbers.\n",
    "\n",
    "- `np.random.choice`: selects random options from a list\n",
    "- `np.random.uniform`: generates numbers between a given lower and upper bound\n",
    "- `np.random.random`: generates numbers between 0 and 1\n",
    "- `np.random.randn`: generates numbers from the standard normal distribution\n",
    "- `np.random.normal`: generates numbers from a normal distribution with a specified mean and standard deviation"
   ]
  },
  {
   "cell_type": "markdown",
   "metadata": {},
   "source": [
    "## Example Problems\n",
    "\n",
    "### Carnival Dice Rolls\n",
    "\n",
    "> You are at a carnival and come across a person in a booth offering you a game\n",
    "> of \"chance\" (as people in booths at carnivals tend to do).\n",
    "\n",
    "> You pay 5 dollars and roll 3 dice. If the sum of the dice rolls is greater\n",
    "> than 12, you get 15 dollars. If it's less than or equal to 12, you get\n",
    "> nothing.\n",
    "\n",
    "> Assuming the dice are fair, should you play this game? How would this change\n",
    "> if the winning condition was a sum greater than *or equal to* 12?"
   ]
  },
  {
   "cell_type": "markdown",
   "metadata": {},
   "source": [
    "To simulate this problem, we'll write the python code to simulate the scenario described above, then repeat it a large amount of times.\n",
    "\n",
    "One way we can keep track of all the simulations is to use a 2-dimensional matrix. We can create a matrix where each row represents one \"trial\". Each row will have 3 columns, representing the 3 dice rolls."
   ]
  },
  {
   "cell_type": "code",
   "execution_count": 25,
   "metadata": {},
   "outputs": [
    {
     "data": {
      "text/plain": [
       "array([[1, 1, 4],\n",
       "       [4, 6, 5],\n",
       "       [3, 6, 1],\n",
       "       ...,\n",
       "       [6, 1, 4],\n",
       "       [2, 6, 2],\n",
       "       [2, 1, 2]])"
      ]
     },
     "execution_count": 25,
     "metadata": {},
     "output_type": "execute_result"
    }
   ],
   "source": [
    "n_trials = nrows = 10_000\n",
    "n_dice = ncols = 3\n",
    "\n",
    "rolls = np.random.choice(possible_outcomes, n_trials * n_dice).reshape(nrows, ncols)\n",
    "rolls"
   ]
  },
  {
   "cell_type": "markdown",
   "metadata": {},
   "source": [
    "Here we used the `choice` function to randomly select an element out of the list of the number 1-6, effectively simulating a dice roll. The second argument supplied to `choice` is the total number of dice to roll. Once we have generated all the dice rolls, we use the `.reshape` method to create our matrix with 3 columns and 10,000 rows.\n",
    "\n",
    "Now that we have all of the simulated dice rolls, we want to get the sum of the dice rolls for each trial. To do this, we can use the `.sum` function and specify that we want the sum of every row (as opposed to the sum of all the numbers, or the sum by column) with the `axis` key word argument."
   ]
  },
  {
   "cell_type": "code",
   "execution_count": 26,
   "metadata": {},
   "outputs": [
    {
     "data": {
      "text/plain": [
       "array([ 6, 15, 10, ..., 11, 10,  5])"
      ]
     },
     "execution_count": 26,
     "metadata": {},
     "output_type": "execute_result"
    }
   ],
   "source": [
    "sums_by_trial = rolls.sum(axis=1)\n",
    "sums_by_trial"
   ]
  },
  {
   "cell_type": "markdown",
   "metadata": {},
   "source": [
    "Let's pause here for a minute and visualize the data we have:"
   ]
  },
  {
   "cell_type": "code",
   "execution_count": null,
   "metadata": {},
   "outputs": [],
   "source": [
    "viz.simulation_example1(sums_by_trial)"
   ]
  },
  {
   "cell_type": "markdown",
   "metadata": {},
   "source": [
    "The area shaded in lightblue represents our chance of winning, that is, the number of times that the sum of 3 dice rolls is greater than 12.\n",
    "\n",
    "We can now convert each value in our array to a boolean value indicating whether or not we won:"
   ]
  },
  {
   "cell_type": "code",
   "execution_count": 29,
   "metadata": {},
   "outputs": [],
   "source": [
    "wins = sums_by_trial > 12"
   ]
  },
  {
   "cell_type": "markdown",
   "metadata": {},
   "source": [
    "To calculate an overall win rate, we can treat each win as a `1` and each loss as `0`, then take the average of the array:"
   ]
  },
  {
   "cell_type": "code",
   "execution_count": 31,
   "metadata": {},
   "outputs": [],
   "source": [
    "win_rate = wins.mean()"
   ]
  },
  {
   "cell_type": "code",
   "execution_count": 32,
   "metadata": {},
   "outputs": [
    {
     "data": {
      "text/plain": [
       "0.2639"
      ]
     },
     "execution_count": 32,
     "metadata": {},
     "output_type": "execute_result"
    }
   ],
   "source": [
    "win_rate"
   ]
  },
  {
   "cell_type": "markdown",
   "metadata": {},
   "source": [
    "Now that we know our win rate, we can calculate the expected profit:"
   ]
  },
  {
   "cell_type": "code",
   "execution_count": null,
   "metadata": {},
   "outputs": [],
   "source": []
  },
  {
   "cell_type": "code",
   "execution_count": 34,
   "metadata": {},
   "outputs": [
    {
     "data": {
      "text/plain": [
       "-1.0414999999999996"
      ]
     },
     "execution_count": 34,
     "metadata": {},
     "output_type": "execute_result"
    }
   ],
   "source": [
    "expected_winnings = win_rate * 15\n",
    "cost = 5\n",
    "expected_profit = expected_winnings - cost\n",
    "expected_profit"
   ]
  },
  {
   "cell_type": "markdown",
   "metadata": {},
   "source": [
    "So we would expect, based on our simulations, on average, to lose a little over a dollar everytime we play this game.\n",
    "\n",
    "To answer the last part of the question, we can recalculate our win rate based on the sums being greater than or equal to 12:"
   ]
  },
  {
   "cell_type": "code",
   "execution_count": 35,
   "metadata": {},
   "outputs": [
    {
     "data": {
      "text/plain": [
       "0.6129999999999995"
      ]
     },
     "execution_count": 35,
     "metadata": {},
     "output_type": "execute_result"
    }
   ],
   "source": [
    "wins = sums_by_trial >= 12\n",
    "win_rate = wins.mean()\n",
    "expected_winnings = win_rate * 15\n",
    "cost = 5\n",
    "expected_profit = expected_winnings - cost\n",
    "expected_profit"
   ]
  },
  {
   "cell_type": "markdown",
   "metadata": {},
   "source": [
    "If our win condition changes to the sum being greater than or equal to 12, then, based on our simulations, on average, we expect to win about 58 cents."
   ]
  },
  {
   "cell_type": "markdown",
   "metadata": {},
   "source": [
    "## Mini Exercise:\n",
    "\n",
    "What is the probability of rolling \"snake eyes\" on a roll of two (fair) dice?"
   ]
  },
  {
   "cell_type": "code",
   "execution_count": 49,
   "metadata": {},
   "outputs": [
    {
     "data": {
      "text/plain": [
       "array([[5, 6],\n",
       "       [4, 6],\n",
       "       [2, 4],\n",
       "       ...,\n",
       "       [4, 3],\n",
       "       [4, 3],\n",
       "       [4, 6]])"
      ]
     },
     "execution_count": 49,
     "metadata": {},
     "output_type": "execute_result"
    }
   ],
   "source": [
    "n_trials = n_rows = 10_000\n",
    "n_dice = n_cols = 2\n",
    "\n",
    "rolls = np.random.choice(possible_outcomes, n_trials * n_dice).reshape(n_rows, n_cols)\n",
    "rolls"
   ]
  },
  {
   "cell_type": "code",
   "execution_count": 51,
   "metadata": {},
   "outputs": [
    {
     "data": {
      "text/plain": [
       "array([11, 10,  6, ...,  7,  7, 10])"
      ]
     },
     "execution_count": 51,
     "metadata": {},
     "output_type": "execute_result"
    }
   ],
   "source": [
    "sums_by_trial = rolls.sum(axis=1)\n",
    "sums_by_trial"
   ]
  },
  {
   "cell_type": "code",
   "execution_count": 52,
   "metadata": {},
   "outputs": [
    {
     "data": {
      "text/plain": [
       "array([False, False, False, ..., False, False, False])"
      ]
     },
     "execution_count": 52,
     "metadata": {},
     "output_type": "execute_result"
    }
   ],
   "source": [
    "wins = sums_by_trial == 2\n",
    "wins"
   ]
  },
  {
   "cell_type": "code",
   "execution_count": 53,
   "metadata": {},
   "outputs": [
    {
     "data": {
      "text/plain": [
       "0.0279"
      ]
     },
     "execution_count": 53,
     "metadata": {},
     "output_type": "execute_result"
    }
   ],
   "source": [
    "win_rate = wins.mean()\n",
    "win_rate"
   ]
  },
  {
   "cell_type": "markdown",
   "metadata": {},
   "source": [
    "### No Rest or Relaxation\n",
    "\n",
    "> There's a 30% chance my son takes a nap on any given weekend day. What is the chance that he takes a nap at least one day this weekend? What is the probability that he doesn't nap at all?\n",
    "\n",
    "Let's first do a little bit of setup:"
   ]
  },
  {
   "cell_type": "code",
   "execution_count": 46,
   "metadata": {},
   "outputs": [],
   "source": [
    "p_nap = 0.3\n",
    "ndays = n_cols = 2\n",
    "n_simulated_weekends = n_rows = 10_000"
   ]
  },
  {
   "cell_type": "markdown",
   "metadata": {},
   "source": [
    "To simulate the results from many weekends, we'll create a 2 x 10,000 matrix, with 2 being the number of days in a weekend and 10,000 being the number of simulations we want to run.\n",
    "\n",
    "To determine whether or not a nap is taken on a given day, we'll generate a random number between 0 and 1, and say that it is a nap if it is less than our probability of taking a nap."
   ]
  },
  {
   "cell_type": "code",
   "execution_count": 54,
   "metadata": {},
   "outputs": [],
   "source": [
    "naps = np.random.random((n_rows, n_cols))"
   ]
  },
  {
   "cell_type": "code",
   "execution_count": 55,
   "metadata": {},
   "outputs": [
    {
     "data": {
      "text/plain": [
       "array([[0.23382281, 0.3297641 ],\n",
       "       [0.11605216, 0.78718142],\n",
       "       [0.47561055, 0.80916677],\n",
       "       [0.61620839, 0.63293275],\n",
       "       [0.72558482, 0.71991363],\n",
       "       [0.73446911, 0.29487962],\n",
       "       [0.32333043, 0.38173145],\n",
       "       [0.66978573, 0.12105864],\n",
       "       [0.98754934, 0.4552965 ],\n",
       "       [0.57135483, 0.37211968]])"
      ]
     },
     "execution_count": 55,
     "metadata": {},
     "output_type": "execute_result"
    }
   ],
   "source": [
    "naps[:10]"
   ]
  },
  {
   "cell_type": "code",
   "execution_count": 56,
   "metadata": {},
   "outputs": [],
   "source": [
    "naps = naps < p_nap"
   ]
  },
  {
   "cell_type": "code",
   "execution_count": 57,
   "metadata": {},
   "outputs": [
    {
     "data": {
      "text/plain": [
       "array([[ True, False],\n",
       "       [ True, False],\n",
       "       [False, False],\n",
       "       ...,\n",
       "       [ True,  True],\n",
       "       [False, False],\n",
       "       [False, False]])"
      ]
     },
     "execution_count": 57,
     "metadata": {},
     "output_type": "execute_result"
    }
   ],
   "source": [
    "naps"
   ]
  },
  {
   "cell_type": "markdown",
   "metadata": {},
   "source": [
    "Now that we have each day as either true or false, we can take the sum of each row to find the total number of naps for the weekend. When we sum an array of boolean values, numpy will treat `True` as 1 and `False` as 0."
   ]
  },
  {
   "cell_type": "code",
   "execution_count": 58,
   "metadata": {},
   "outputs": [
    {
     "data": {
      "text/plain": [
       "array([1, 1, 0, ..., 2, 0, 0])"
      ]
     },
     "execution_count": 58,
     "metadata": {},
     "output_type": "execute_result"
    }
   ],
   "source": [
    "naps.sum(axis=1)"
   ]
  },
  {
   "cell_type": "markdown",
   "metadata": {},
   "source": [
    "Now we have the results of our simulation, an array where each number in the array represents how many naps were taken in a two day weekend."
   ]
  },
  {
   "cell_type": "code",
   "execution_count": null,
   "metadata": {},
   "outputs": [],
   "source": [
    "viz.simulation_example2(naps)"
   ]
  },
  {
   "cell_type": "markdown",
   "metadata": {},
   "source": [
    "We can use this to answer our original questions, what is the probability that at least one nap is taken?"
   ]
  },
  {
   "cell_type": "code",
   "execution_count": 59,
   "metadata": {},
   "outputs": [
    {
     "data": {
      "text/plain": [
       "0.5171"
      ]
     },
     "execution_count": 59,
     "metadata": {},
     "output_type": "execute_result"
    }
   ],
   "source": [
    "(naps.sum(axis=1) > 0).mean()"
   ]
  },
  {
   "cell_type": "markdown",
   "metadata": {},
   "source": [
    "What is the probability no naps are taken?"
   ]
  },
  {
   "cell_type": "code",
   "execution_count": 60,
   "metadata": {},
   "outputs": [
    {
     "data": {
      "text/plain": [
       "0.4829"
      ]
     },
     "execution_count": 60,
     "metadata": {},
     "output_type": "execute_result"
    }
   ],
   "source": [
    "(naps.sum(axis=1) == 0).mean()"
   ]
  },
  {
   "cell_type": "code",
   "execution_count": 61,
   "metadata": {},
   "outputs": [
    {
     "data": {
      "text/plain": [
       "0.0867"
      ]
     },
     "execution_count": 61,
     "metadata": {},
     "output_type": "execute_result"
    }
   ],
   "source": [
    "(naps.sum(axis=1) > 1).mean()"
   ]
  },
  {
   "cell_type": "code",
   "execution_count": null,
   "metadata": {},
   "outputs": [],
   "source": []
  },
  {
   "cell_type": "markdown",
   "metadata": {},
   "source": [
    "## Mini Exercise:\n",
    "\n",
    "There are ten options in a blind-box style collectable, but you are only likely to get the one you want the most at a probability of one out of every twenty boxes because its a little rarer.\n",
    "\n",
    "What is the probability of getting your desired collectable if you buy three blindbox toys?"
   ]
  },
  {
   "cell_type": "code",
   "execution_count": 63,
   "metadata": {},
   "outputs": [],
   "source": [
    "p_fav = 0.05\n",
    "nplays = n_cols = 3\n",
    "n_trials = n_rows = 10_000"
   ]
  },
  {
   "cell_type": "code",
   "execution_count": 65,
   "metadata": {},
   "outputs": [
    {
     "data": {
      "text/plain": [
       "array([[0.22596562, 0.31973196, 0.86943127],\n",
       "       [0.17174395, 0.54952612, 0.28639282],\n",
       "       [0.42943705, 0.01793972, 0.36891534],\n",
       "       ...,\n",
       "       [0.06169977, 0.61223719, 0.41337371],\n",
       "       [0.41772704, 0.1214792 , 0.44829514],\n",
       "       [0.67195496, 0.27106252, 0.95803998]])"
      ]
     },
     "execution_count": 65,
     "metadata": {},
     "output_type": "execute_result"
    }
   ],
   "source": [
    "tests = np.random.random((n_rows, n_cols))\n",
    "tests"
   ]
  },
  {
   "cell_type": "code",
   "execution_count": 67,
   "metadata": {},
   "outputs": [
    {
     "data": {
      "text/plain": [
       "array([[False, False, False],\n",
       "       [False, False, False],\n",
       "       [False,  True, False],\n",
       "       ...,\n",
       "       [False, False, False],\n",
       "       [False, False, False],\n",
       "       [False, False, False]])"
      ]
     },
     "execution_count": 67,
     "metadata": {},
     "output_type": "execute_result"
    }
   ],
   "source": [
    "success = tests < p_fav\n",
    "success"
   ]
  },
  {
   "cell_type": "code",
   "execution_count": 68,
   "metadata": {},
   "outputs": [
    {
     "data": {
      "text/plain": [
       "0.143"
      ]
     },
     "execution_count": 68,
     "metadata": {},
     "output_type": "execute_result"
    }
   ],
   "source": [
    "(success.sum(axis=1) > 0).mean()"
   ]
  },
  {
   "cell_type": "markdown",
   "metadata": {},
   "source": [
    "### One With Dataframes\n",
    "\n",
    "Let's take a look at one more problem:\n",
    "\n",
    "> What is the probability of getting at least one 3 in 3 dice rolls?\n",
    "\n",
    "To simulate this, we'll use a similar strategy to how we modeled the dice rolls in the previous example, but this time, we'll store the results in a pandas dataframe so that we can apply a lambda function that will check to see if one of the rolls was a 3."
   ]
  },
  {
   "cell_type": "code",
   "execution_count": 69,
   "metadata": {},
   "outputs": [],
   "source": [
    "n_trials = nrows = 10 ** 6\n",
    "n_dice_rolled = ncols = 3\n",
    "\n",
    "rolls = np.random.choice(possible_outcomes, n_trials * n_dice_rolled).reshape(nrows, ncols)"
   ]
  },
  {
   "cell_type": "code",
   "execution_count": 70,
   "metadata": {},
   "outputs": [
    {
     "data": {
      "text/plain": [
       "0         False\n",
       "1         False\n",
       "2          True\n",
       "3          True\n",
       "4         False\n",
       "          ...  \n",
       "999995     True\n",
       "999996    False\n",
       "999997     True\n",
       "999998     True\n",
       "999999     True\n",
       "Length: 1000000, dtype: bool"
      ]
     },
     "execution_count": 70,
     "metadata": {},
     "output_type": "execute_result"
    }
   ],
   "source": [
    "pd.DataFrame(rolls).apply(lambda row: 3 in row.values, axis=1)"
   ]
  },
  {
   "cell_type": "code",
   "execution_count": 71,
   "metadata": {},
   "outputs": [
    {
     "data": {
      "text/plain": [
       "0.421488"
      ]
     },
     "execution_count": 71,
     "metadata": {},
     "output_type": "execute_result"
    }
   ],
   "source": [
    "pd.DataFrame(rolls).apply(lambda row: 3 in row.values, axis=1).mean()"
   ]
  },
  {
   "cell_type": "markdown",
   "metadata": {},
   "source": [
    "Let's break down what's going on here:\n",
    "\n",
    "1. First we assign values for the number of rows and columns we are going to use\n",
    "1. Next we create the `rolls` variable that holds a 3 x 10,000 matrix where each element is a randomly chosen number from 1 to 6\n",
    "1. Lastly we create a dataframe from the rolls\n",
    "    1. `pd.DataFrame(rolls)` converts our 2d numpy matrix to a pandas DataFrame\n",
    "    1. `.apply(...` applies a function to each **row** in our dataframe, because we specified `axis=1`, the function will be called with each row as it's argument. The body of the function checks to see if the value `3` is in the values of the row, and will return either `True` or `False`\n",
    "    1. `.mean()` takes our resulting series of boolean values, and treats `True` as 1 and `False` as 0, to give us the average rate of `True`s, in this case, the simulated probability of getting a 3 in 3 dice rolls."
   ]
  },
  {
   "cell_type": "markdown",
   "metadata": {},
   "source": [
    "## Mini Exercise:\n",
    "\n",
    "Recreate the blindbox problem utilizing the above strategy!\n"
   ]
  },
  {
   "cell_type": "code",
   "execution_count": 72,
   "metadata": {},
   "outputs": [],
   "source": [
    "p_fav = 0.05\n",
    "nplays = n_cols = 3\n",
    "n_trials = n_rows = 10_000"
   ]
  },
  {
   "cell_type": "code",
   "execution_count": 73,
   "metadata": {},
   "outputs": [
    {
     "data": {
      "text/plain": [
       "array([[0.45391365, 0.83744253, 0.84064129],\n",
       "       [0.78509321, 0.15537387, 0.22148265],\n",
       "       [0.6611318 , 0.07268316, 0.75565033],\n",
       "       ...,\n",
       "       [0.31063658, 0.0877315 , 0.36093516],\n",
       "       [0.42984108, 0.50983725, 0.70044963],\n",
       "       [0.94927515, 0.16843756, 0.04954599]])"
      ]
     },
     "execution_count": 73,
     "metadata": {},
     "output_type": "execute_result"
    }
   ],
   "source": [
    "tests = np.random.random((n_rows, n_cols))\n",
    "tests"
   ]
  },
  {
   "cell_type": "code",
   "execution_count": 108,
   "metadata": {},
   "outputs": [
    {
     "data": {
      "text/plain": [
       "0    0.0522\n",
       "1    0.0506\n",
       "2    0.0509\n",
       "dtype: float64"
      ]
     },
     "execution_count": 108,
     "metadata": {},
     "output_type": "execute_result"
    }
   ],
   "source": [
    "pd.DataFrame(tests).apply(lambda x: x<p_fav, axis=1).mean()"
   ]
  },
  {
   "cell_type": "code",
   "execution_count": 88,
   "metadata": {},
   "outputs": [],
   "source": [
    "# diferent method...\n",
    "n_rows = 10_000\n",
    "n_cols = 3\n",
    "outcomes = [1,2,3,4,5,6,7,8,9,10]\n",
    "prob_win = 0.05\n",
    "prob_others = (1-prob_win)/9"
   ]
  },
  {
   "cell_type": "code",
   "execution_count": 92,
   "metadata": {},
   "outputs": [],
   "source": [
    "data = np.random.choice(outcomes, n_rows * n_cols, p=[prob_win, prob_others, prob_others, prob_others, prob_others, prob_others, prob_others, prob_others, prob_others, prob_others]).reshape(n_rows, n_cols)"
   ]
  },
  {
   "cell_type": "code",
   "execution_count": 93,
   "metadata": {},
   "outputs": [
    {
     "data": {
      "text/plain": [
       "array([[ 1, 10, 10],\n",
       "       [ 3, 10,  8],\n",
       "       [ 3,  2, 10],\n",
       "       [ 7,  6,  3],\n",
       "       [10,  3, 10]])"
      ]
     },
     "execution_count": 93,
     "metadata": {},
     "output_type": "execute_result"
    }
   ],
   "source": [
    "data[:5]"
   ]
  },
  {
   "cell_type": "code",
   "execution_count": 94,
   "metadata": {},
   "outputs": [
    {
     "data": {
      "text/plain": [
       "0.1418"
      ]
     },
     "execution_count": 94,
     "metadata": {},
     "output_type": "execute_result"
    }
   ],
   "source": [
    "pd.DataFrame(data).apply(lambda row: 1 in row.values, axis=1).mean()"
   ]
  },
  {
   "cell_type": "markdown",
   "metadata": {},
   "source": [
    "## Exercises\n",
    "\n",
    "Within your `codeup-data-science directory`, create a directory named `statistics-exercises`. This will be where you do your work for this module. Create a repository on GitHub with the same name, and link your local repository to GitHub.\n",
    "\n",
    "Do your work for this exercise in either a python file named `simulation.py` or a jupyter notebook named `simulation.ipynb`."
   ]
  },
  {
   "cell_type": "markdown",
   "metadata": {},
   "source": [
    "1. How likely is it that you roll doubles when rolling two dice?"
   ]
  },
  {
   "cell_type": "code",
   "execution_count": 109,
   "metadata": {},
   "outputs": [
    {
     "data": {
      "text/plain": [
       "0.16666666666666666"
      ]
     },
     "execution_count": 109,
     "metadata": {},
     "output_type": "execute_result"
    }
   ],
   "source": [
    "# first I am going to solve the problem mathematically, so I have a baseline and can get my bearings...\n",
    "(1/6)*(1/6)*6"
   ]
  },
  {
   "cell_type": "code",
   "execution_count": 100,
   "metadata": {},
   "outputs": [
    {
     "data": {
      "text/plain": [
       "array([[1, 4],\n",
       "       [2, 3],\n",
       "       [2, 4],\n",
       "       [5, 3],\n",
       "       [5, 4]])"
      ]
     },
     "execution_count": 100,
     "metadata": {},
     "output_type": "execute_result"
    }
   ],
   "source": [
    "# now programmatically\n",
    "n_trials = r_rows = 10_000\n",
    "n_dice = n_cols = 2\n",
    "possible_outcomes = [1,2,3,4,5,6]\n",
    "\n",
    "data = np.random.choice(possible_outcomes, n_rows * n_cols).reshape(n_rows, n_cols)\n",
    "data[:5]"
   ]
  },
  {
   "cell_type": "code",
   "execution_count": 110,
   "metadata": {},
   "outputs": [
    {
     "data": {
      "text/plain": [
       "0.1645"
      ]
     },
     "execution_count": 110,
     "metadata": {},
     "output_type": "execute_result"
    }
   ],
   "source": [
    "pd.DataFrame(data).apply(lambda x: x[0]==x[1] in x.values, axis=1).mean()"
   ]
  },
  {
   "cell_type": "code",
   "execution_count": 115,
   "metadata": {},
   "outputs": [
    {
     "data": {
      "text/plain": [
       "0.165"
      ]
     },
     "execution_count": 115,
     "metadata": {},
     "output_type": "execute_result"
    }
   ],
   "source": [
    "# another way to do this would be to do the snake eyes method, and then multiply by 6\n",
    "# since each set of doubles has an identical chance of occurring\n",
    "n_trials = n_rows = 10_000\n",
    "n_dice = n_cols = 2\n",
    "\n",
    "rolls = np.random.choice(possible_outcomes, n_trials * n_dice).reshape(n_rows, n_cols)\n",
    "\n",
    "sums_by_trial = rolls.sum(axis=1)\n",
    "\n",
    "wins = sums_by_trial == 2\n",
    "\n",
    "win_rate = wins.mean()\n",
    "\n",
    "doubles = win_rate*6\n",
    "doubles\n"
   ]
  },
  {
   "cell_type": "code",
   "execution_count": null,
   "metadata": {},
   "outputs": [],
   "source": []
  },
  {
   "cell_type": "markdown",
   "metadata": {},
   "source": [
    "2. If you flip 8 coins, what is the probability of getting exactly 3 heads? "
   ]
  },
  {
   "cell_type": "code",
   "execution_count": null,
   "metadata": {},
   "outputs": [],
   "source": [
    "# first let's solve this mathematically, to make sure our work in the future is correct\n",
    "#  you can get exactly 3 heads\n",
    "\n"
   ]
  },
  {
   "cell_type": "code",
   "execution_count": 116,
   "metadata": {},
   "outputs": [
    {
     "data": {
      "text/plain": [
       "array([[0, 0, 1, ..., 0, 1, 1],\n",
       "       [0, 1, 1, ..., 1, 0, 1],\n",
       "       [1, 1, 1, ..., 1, 0, 0],\n",
       "       ...,\n",
       "       [0, 1, 1, ..., 0, 1, 0],\n",
       "       [1, 0, 0, ..., 0, 1, 1],\n",
       "       [1, 1, 1, ..., 0, 1, 0]])"
      ]
     },
     "execution_count": 116,
     "metadata": {},
     "output_type": "execute_result"
    }
   ],
   "source": [
    "n_trials = n_rows = 10_000\n",
    "n_coins = n_cols = 8\n",
    "\n",
    "heads = 1\n",
    "tails =0\n",
    "\n",
    "outcomes = [heads, tails]\n",
    "\n",
    "flips = np.random.choice(outcomes, n_coins * n_trials).reshape(n_trials, n_coins)\n",
    "flips\n",
    "\n"
   ]
  },
  {
   "cell_type": "code",
   "execution_count": 120,
   "metadata": {},
   "outputs": [
    {
     "data": {
      "text/plain": [
       "array([4, 5, 5, ..., 3, 3, 6])"
      ]
     },
     "execution_count": 120,
     "metadata": {},
     "output_type": "execute_result"
    }
   ],
   "source": [
    "sum_by_flips = flips.sum(axis=1)\n",
    "sum_by_flips"
   ]
  },
  {
   "cell_type": "code",
   "execution_count": 122,
   "metadata": {},
   "outputs": [
    {
     "data": {
      "text/plain": [
       "0.2226"
      ]
     },
     "execution_count": 122,
     "metadata": {},
     "output_type": "execute_result"
    }
   ],
   "source": [
    "exactly_three = (sum_by_flips==3).mean()\n",
    "exactly_three"
   ]
  },
  {
   "cell_type": "markdown",
   "metadata": {},
   "source": [
    "What is the probability of getting more than 3 heads?"
   ]
  },
  {
   "cell_type": "code",
   "execution_count": 123,
   "metadata": {},
   "outputs": [
    {
     "data": {
      "text/plain": [
       "array([[0, 1, 1, ..., 1, 1, 1],\n",
       "       [1, 0, 1, ..., 1, 0, 1],\n",
       "       [1, 0, 0, ..., 1, 1, 0],\n",
       "       ...,\n",
       "       [0, 0, 1, ..., 0, 0, 1],\n",
       "       [1, 0, 1, ..., 0, 1, 0],\n",
       "       [0, 0, 1, ..., 1, 1, 0]])"
      ]
     },
     "execution_count": 123,
     "metadata": {},
     "output_type": "execute_result"
    }
   ],
   "source": [
    "n_trials = n_rows = 10_000\n",
    "n_coins = n_cols = 8\n",
    "\n",
    "heads = 1\n",
    "tails =0\n",
    "\n",
    "outcomes = [heads, tails]\n",
    "\n",
    "flips = np.random.choice(outcomes, n_coins * n_trials).reshape(n_trials, n_coins)\n",
    "flips"
   ]
  },
  {
   "cell_type": "code",
   "execution_count": 124,
   "metadata": {},
   "outputs": [
    {
     "data": {
      "text/plain": [
       "array([6, 5, 5, ..., 3, 5, 4])"
      ]
     },
     "execution_count": 124,
     "metadata": {},
     "output_type": "execute_result"
    }
   ],
   "source": [
    "sum_by_flips = flips.sum(axis=1)\n",
    "sum_by_flips"
   ]
  },
  {
   "cell_type": "code",
   "execution_count": 125,
   "metadata": {},
   "outputs": [
    {
     "data": {
      "text/plain": [
       "0.6436"
      ]
     },
     "execution_count": 125,
     "metadata": {},
     "output_type": "execute_result"
    }
   ],
   "source": [
    "more_than_three = (sum_by_flips>3).mean()\n",
    "more_than_three"
   ]
  },
  {
   "cell_type": "code",
   "execution_count": null,
   "metadata": {},
   "outputs": [],
   "source": []
  },
  {
   "cell_type": "markdown",
   "metadata": {},
   "source": [
    "3. There are approximitely 3 web development cohorts for every 1 data science cohort at Codeup. Assuming that Codeup randomly selects an alumni to put on a billboard, what are the odds that the two billboards I drive past both have data science students on them?"
   ]
  },
  {
   "cell_type": "code",
   "execution_count": 130,
   "metadata": {},
   "outputs": [
    {
     "data": {
      "text/plain": [
       "array([[3, 3],\n",
       "       [1, 3],\n",
       "       [3, 3],\n",
       "       ...,\n",
       "       [3, 3],\n",
       "       [1, 1],\n",
       "       [3, 3]])"
      ]
     },
     "execution_count": 130,
     "metadata": {},
     "output_type": "execute_result"
    }
   ],
   "source": [
    "# let's assume each cohort has the same number of students\n",
    "\n",
    "n_trials = n_rows = 10_000\n",
    "n_draw = n_cols = 2\n",
    "\n",
    "outcomes = [3,1]\n",
    "\n",
    "prob_wb = 0.75\n",
    "prob_ds = 1-prob_wb\n",
    "\n",
    "data = np.random.choice(outcomes, n_rows * n_cols, p=[prob_wb, prob_ds]).reshape(n_rows, n_cols)\n",
    "data"
   ]
  },
  {
   "cell_type": "code",
   "execution_count": null,
   "metadata": {},
   "outputs": [],
   "source": []
  },
  {
   "cell_type": "code",
   "execution_count": 132,
   "metadata": {},
   "outputs": [
    {
     "data": {
      "text/plain": [
       "array([6, 4, 6, ..., 6, 2, 6])"
      ]
     },
     "execution_count": 132,
     "metadata": {},
     "output_type": "execute_result"
    }
   ],
   "source": [
    "sum_it_up = data.sum(axis=1)\n",
    "sum_it_up"
   ]
  },
  {
   "cell_type": "code",
   "execution_count": 134,
   "metadata": {},
   "outputs": [
    {
     "data": {
      "text/plain": [
       "0.0655"
      ]
     },
     "execution_count": 134,
     "metadata": {},
     "output_type": "execute_result"
    }
   ],
   "source": [
    "double_ds = (sum_it_up == 2).mean()\n",
    "double_ds"
   ]
  },
  {
   "cell_type": "markdown",
   "metadata": {},
   "source": [
    "4. Codeup students buy, on average, 3 poptart packages (+- 1.5) a day from the snack vending machine. If on monday the machine is restocked with 17 poptart packages, how likely is it that I will be able to buy some poptarts on Friday afternoon?"
   ]
  },
  {
   "cell_type": "code",
   "execution_count": 136,
   "metadata": {},
   "outputs": [
    {
     "data": {
      "text/plain": [
       "array([[2.43866448, 4.87013369, 4.8715226 , 2.04130249, 6.85496171],\n",
       "       [4.05565403, 1.8379895 , 3.19315957, 1.0575082 , 4.4505543 ],\n",
       "       [3.99840932, 5.8840454 , 2.56779069, 3.27359235, 3.09818416],\n",
       "       ...,\n",
       "       [2.16824873, 1.41760355, 0.91106326, 1.83914501, 3.81046331],\n",
       "       [3.83944191, 2.30066346, 2.86039039, 3.8918159 , 0.86232609],\n",
       "       [4.26067385, 2.78429632, 3.77184781, 0.82072434, 2.85670489]])"
      ]
     },
     "execution_count": 136,
     "metadata": {},
     "output_type": "execute_result"
    }
   ],
   "source": [
    "n_trials = n_rows = 10_000\n",
    "n_days = n_cols = 5\n",
    "\n",
    "testing = np.random.normal(3, 1.5, size =(10_000,5))\n",
    "testing"
   ]
  },
  {
   "cell_type": "code",
   "execution_count": 137,
   "metadata": {},
   "outputs": [
    {
     "data": {
      "text/plain": [
       "array([21.07658497, 14.5948656 , 18.82202194, ..., 10.14652386,\n",
       "       13.75463775, 14.49424721])"
      ]
     },
     "execution_count": 137,
     "metadata": {},
     "output_type": "execute_result"
    }
   ],
   "source": [
    "testing_sums = testing.sum(axis=1)\n",
    "testing_sums"
   ]
  },
  {
   "cell_type": "code",
   "execution_count": 138,
   "metadata": {},
   "outputs": [
    {
     "data": {
      "text/plain": [
       "0.7329"
      ]
     },
     "execution_count": 138,
     "metadata": {},
     "output_type": "execute_result"
    }
   ],
   "source": [
    "yes_poptarts = (testing_sums < 17).mean()\n",
    "yes_poptarts"
   ]
  },
  {
   "cell_type": "markdown",
   "metadata": {},
   "source": [
    "5. Compare Heights\n",
    "\n",
    "    - Men have an average height of 178 cm and standard deviation of 8cm.\n",
    "    - Women have a mean of 170, sd = 6cm.\n",
    "    - If a man and woman are chosen at random, P(woman taller than man)?"
   ]
  },
  {
   "cell_type": "code",
   "execution_count": 150,
   "metadata": {},
   "outputs": [
    {
     "data": {
      "text/plain": [
       "array([[164.61184159, 165.72115202],\n",
       "       [186.44955827, 178.54518593],\n",
       "       [191.20717195, 174.17166328],\n",
       "       ...,\n",
       "       [187.85186067, 158.91601912],\n",
       "       [164.5663132 , 171.69550501],\n",
       "       [177.9268822 , 175.61132491]])"
      ]
     },
     "execution_count": 150,
     "metadata": {},
     "output_type": "execute_result"
    }
   ],
   "source": [
    "n_rows = 10_000\n",
    "n_cols = 2\n",
    "\n",
    "# create normal distribution of Men's height\n",
    "men_dist = np.random.normal(178, 8, size=(10_000,1))\n",
    "# create normal distribution of Women's height\n",
    "women_dist = np.random.normal(170, 6, size=(10_000,1))\n",
    "\n",
    "both_dist = np.column_stack((men_dist, women_dist))\n",
    "both_dist\n"
   ]
  },
  {
   "cell_type": "code",
   "execution_count": 153,
   "metadata": {},
   "outputs": [
    {
     "data": {
      "text/plain": [
       "array([[-1.10931043],\n",
       "       [ 7.90437234],\n",
       "       [17.03550868],\n",
       "       ...,\n",
       "       [28.93584154],\n",
       "       [-7.12919181],\n",
       "       [ 2.31555729]])"
      ]
     },
     "execution_count": 153,
     "metadata": {},
     "output_type": "execute_result"
    }
   ],
   "source": [
    "men_women = np.subtract(men_dist, women_dist)\n",
    "men_women"
   ]
  },
  {
   "cell_type": "code",
   "execution_count": 155,
   "metadata": {},
   "outputs": [
    {
     "data": {
      "text/plain": [
       "0.2257"
      ]
     },
     "execution_count": 155,
     "metadata": {},
     "output_type": "execute_result"
    }
   ],
   "source": [
    "women_men = (men_women < 0).mean()\n",
    "women_men"
   ]
  },
  {
   "cell_type": "markdown",
   "metadata": {},
   "source": [
    "6. When installing anaconda on a student's computer, there's a 1 in 250 chance\n",
    "   that the download is corrupted and the installation fails. What are the odds\n",
    "   that after having 50 students download anaconda, no one has an installation\n",
    "   issue?  100 students?\n",
    "\n",
    "    What is the probability that we observe an installation issue within the first\n",
    "    150 students that download anaconda?\n",
    "\n",
    "    How likely is it that 450 students all download anaconda without an issue?"
   ]
  },
  {
   "cell_type": "code",
   "execution_count": 174,
   "metadata": {},
   "outputs": [
    {
     "data": {
      "text/plain": [
       "array([[1, 1, 1, ..., 1, 1, 1],\n",
       "       [1, 1, 1, ..., 1, 1, 1],\n",
       "       [1, 1, 1, ..., 1, 1, 1],\n",
       "       ...,\n",
       "       [1, 1, 0, ..., 1, 1, 1],\n",
       "       [1, 1, 1, ..., 1, 1, 1],\n",
       "       [1, 1, 1, ..., 1, 1, 1]])"
      ]
     },
     "execution_count": 174,
     "metadata": {},
     "output_type": "execute_result"
    }
   ],
   "source": [
    "# fail = 0\n",
    "# succeed = 1\n",
    "n_trials = n_rows = 10_000\n",
    "n_students = n_cols = 50\n",
    "fail_prob = (1/250)\n",
    "no_fail = 1-fail_prob\n",
    "outcomes = [0,1]\n",
    "\n",
    "fifty_test = np.random.choice(outcomes, n_cols * n_rows, p = [fail_prob, no_fail]).reshape(n_rows, n_cols)\n",
    "fifty_test\n",
    "\n"
   ]
  },
  {
   "cell_type": "code",
   "execution_count": 175,
   "metadata": {},
   "outputs": [
    {
     "data": {
      "text/plain": [
       "array([50, 50, 49, ..., 49, 50, 50])"
      ]
     },
     "execution_count": 175,
     "metadata": {},
     "output_type": "execute_result"
    }
   ],
   "source": [
    "fifty_totals = fifty_test.sum(axis=1)\n",
    "fifty_totals"
   ]
  },
  {
   "cell_type": "code",
   "execution_count": 176,
   "metadata": {},
   "outputs": [
    {
     "data": {
      "text/plain": [
       "0.1834"
      ]
     },
     "execution_count": 176,
     "metadata": {},
     "output_type": "execute_result"
    }
   ],
   "source": [
    "fifty_fail = (fifty_totals<50).mean()\n",
    "fifty_fail"
   ]
  },
  {
   "cell_type": "code",
   "execution_count": 177,
   "metadata": {},
   "outputs": [
    {
     "data": {
      "text/plain": [
       "0.8166"
      ]
     },
     "execution_count": 177,
     "metadata": {},
     "output_type": "execute_result"
    }
   ],
   "source": [
    "fifty_success = 1-fifty_fail\n",
    "fifty_success"
   ]
  },
  {
   "cell_type": "code",
   "execution_count": 178,
   "metadata": {},
   "outputs": [
    {
     "data": {
      "text/plain": [
       "array([[1, 1, 1, ..., 1, 1, 1],\n",
       "       [1, 1, 1, ..., 1, 1, 1],\n",
       "       [1, 1, 1, ..., 1, 1, 1],\n",
       "       ...,\n",
       "       [1, 1, 1, ..., 1, 1, 1],\n",
       "       [1, 1, 1, ..., 1, 1, 1],\n",
       "       [1, 1, 1, ..., 1, 1, 1]])"
      ]
     },
     "execution_count": 178,
     "metadata": {},
     "output_type": "execute_result"
    }
   ],
   "source": [
    "# 100 students\n",
    "# fail = 0\n",
    "# succeed = 1\n",
    "n_trials = n_rows = 10_000\n",
    "n_students = n_cols = 100\n",
    "fail_prob = (1/250)\n",
    "no_fail = 1-fail_prob\n",
    "outcomes = [0,1]\n",
    "\n",
    "hundred_test = np.random.choice(outcomes, n_cols * n_rows, p = [fail_prob, no_fail]).reshape(n_rows, n_cols)\n",
    "hundred_test"
   ]
  },
  {
   "cell_type": "code",
   "execution_count": 179,
   "metadata": {},
   "outputs": [
    {
     "data": {
      "text/plain": [
       "array([100, 100, 100, ..., 100,  99, 100])"
      ]
     },
     "execution_count": 179,
     "metadata": {},
     "output_type": "execute_result"
    }
   ],
   "source": [
    "hundred_totals = hundred_test.sum(axis=1)\n",
    "hundred_totals"
   ]
  },
  {
   "cell_type": "code",
   "execution_count": 180,
   "metadata": {},
   "outputs": [
    {
     "data": {
      "text/plain": [
       "0.3339"
      ]
     },
     "execution_count": 180,
     "metadata": {},
     "output_type": "execute_result"
    }
   ],
   "source": [
    "hundred_fail = (hundred_totals<100).mean()\n",
    "hundred_fail"
   ]
  },
  {
   "cell_type": "code",
   "execution_count": 181,
   "metadata": {},
   "outputs": [
    {
     "data": {
      "text/plain": [
       "0.6661"
      ]
     },
     "execution_count": 181,
     "metadata": {},
     "output_type": "execute_result"
    }
   ],
   "source": [
    "hundred_success = 1-hundred_fail\n",
    "hundred_success"
   ]
  },
  {
   "cell_type": "code",
   "execution_count": 182,
   "metadata": {},
   "outputs": [
    {
     "data": {
      "text/plain": [
       "array([[1, 1, 1, ..., 1, 1, 1],\n",
       "       [1, 1, 1, ..., 1, 1, 1],\n",
       "       [1, 1, 1, ..., 1, 1, 1],\n",
       "       ...,\n",
       "       [1, 1, 1, ..., 1, 1, 1],\n",
       "       [1, 1, 1, ..., 1, 1, 1],\n",
       "       [1, 1, 1, ..., 1, 1, 1]])"
      ]
     },
     "execution_count": 182,
     "metadata": {},
     "output_type": "execute_result"
    }
   ],
   "source": [
    "# 150 students\n",
    "# fail = 0\n",
    "# succeed = 1\n",
    "n_trials = n_rows = 10_000\n",
    "n_students = n_cols = 150\n",
    "fail_prob = (1/250)\n",
    "no_fail = 1-fail_prob\n",
    "outcomes = [0,1]\n",
    "\n",
    "hundred_fifty_test = np.random.choice(outcomes, n_cols * n_rows, p = [fail_prob, no_fail]).reshape(n_rows, n_cols)\n",
    "hundred_fifty_test\n"
   ]
  },
  {
   "cell_type": "code",
   "execution_count": 183,
   "metadata": {},
   "outputs": [
    {
     "data": {
      "text/plain": [
       "array([150, 150, 150, ..., 150, 150, 150])"
      ]
     },
     "execution_count": 183,
     "metadata": {},
     "output_type": "execute_result"
    }
   ],
   "source": [
    "hundred_fifty_totals = hundred_fifty_test.sum(axis=1)\n",
    "hundred_fifty_totals"
   ]
  },
  {
   "cell_type": "code",
   "execution_count": 184,
   "metadata": {},
   "outputs": [
    {
     "data": {
      "text/plain": [
       "0.4522"
      ]
     },
     "execution_count": 184,
     "metadata": {},
     "output_type": "execute_result"
    }
   ],
   "source": [
    "hundred_fifty_fail = (hundred_fifty_totals<150).mean()\n",
    "hundred_fifty_fail"
   ]
  },
  {
   "cell_type": "code",
   "execution_count": 185,
   "metadata": {},
   "outputs": [
    {
     "data": {
      "text/plain": [
       "0.5478000000000001"
      ]
     },
     "execution_count": 185,
     "metadata": {},
     "output_type": "execute_result"
    }
   ],
   "source": [
    "hundred_fifty_success = 1-hundred_fifty_fail\n",
    "hundred_fifty_success"
   ]
  },
  {
   "cell_type": "code",
   "execution_count": 186,
   "metadata": {},
   "outputs": [
    {
     "data": {
      "text/plain": [
       "array([[1, 1, 1, ..., 1, 1, 1],\n",
       "       [1, 1, 1, ..., 1, 1, 1],\n",
       "       [1, 1, 1, ..., 1, 1, 1],\n",
       "       ...,\n",
       "       [1, 1, 1, ..., 1, 1, 1],\n",
       "       [1, 1, 1, ..., 1, 1, 1],\n",
       "       [1, 1, 1, ..., 1, 1, 1]])"
      ]
     },
     "execution_count": 186,
     "metadata": {},
     "output_type": "execute_result"
    }
   ],
   "source": [
    "# 450 students\n",
    "# fail = 0\n",
    "# succeed = 1\n",
    "n_trials = n_rows = 10_000\n",
    "n_students = n_cols = 450\n",
    "fail_prob = (1/250)\n",
    "no_fail = 1-fail_prob\n",
    "outcomes = [0,1]\n",
    "\n",
    "four_fifty_test = np.random.choice(outcomes, n_cols * n_rows, p = [fail_prob, no_fail]).reshape(n_rows, n_cols)\n",
    "four_fifty_test"
   ]
  },
  {
   "cell_type": "code",
   "execution_count": 187,
   "metadata": {},
   "outputs": [
    {
     "data": {
      "text/plain": [
       "array([448, 449, 449, ..., 448, 449, 450])"
      ]
     },
     "execution_count": 187,
     "metadata": {},
     "output_type": "execute_result"
    }
   ],
   "source": [
    "four_fifty_totals = four_fifty_test.sum(axis=1)\n",
    "four_fifty_totals"
   ]
  },
  {
   "cell_type": "code",
   "execution_count": 188,
   "metadata": {},
   "outputs": [
    {
     "data": {
      "text/plain": [
       "0.8327"
      ]
     },
     "execution_count": 188,
     "metadata": {},
     "output_type": "execute_result"
    }
   ],
   "source": [
    "four_fifty_fail = (four_fifty_totals<450).mean()\n",
    "four_fifty_fail"
   ]
  },
  {
   "cell_type": "code",
   "execution_count": 189,
   "metadata": {},
   "outputs": [
    {
     "data": {
      "text/plain": [
       "0.1673"
      ]
     },
     "execution_count": 189,
     "metadata": {},
     "output_type": "execute_result"
    }
   ],
   "source": [
    "four_fifty_success = 1-four_fifty_fail\n",
    "four_fifty_success"
   ]
  },
  {
   "cell_type": "code",
   "execution_count": null,
   "metadata": {},
   "outputs": [],
   "source": []
  },
  {
   "cell_type": "markdown",
   "metadata": {},
   "source": [
    "7. There's a 70% chance on any given day that there will be at least one food\n",
    "   truck at Travis Park. However, you haven't seen a food truck there in 3 days.\n",
    "   How unlikely is this?\n",
    "\n",
    "    How likely is it that a food truck will show up sometime this week?"
   ]
  },
  {
   "cell_type": "code",
   "execution_count": 190,
   "metadata": {},
   "outputs": [
    {
     "data": {
      "text/plain": [
       "array([[1, 0, 0],\n",
       "       [0, 1, 1],\n",
       "       [1, 1, 1],\n",
       "       ...,\n",
       "       [1, 1, 1],\n",
       "       [0, 0, 1],\n",
       "       [0, 1, 1]])"
      ]
     },
     "execution_count": 190,
     "metadata": {},
     "output_type": "execute_result"
    }
   ],
   "source": [
    "no_truck = 0\n",
    "truck = 1\n",
    "\n",
    "n_trials = n_rows = 10_000\n",
    "n_days = n_cols = 3\n",
    "outcomes = [0,1]\n",
    "truck_prob = 0.7\n",
    "no_truck_prob = 0.3\n",
    "\n",
    "three_day_test = np.random.choice(outcomes, n_cols * n_rows, p=[no_truck_prob, truck_prob]).reshape(n_rows, n_cols)\n",
    "three_day_test\n"
   ]
  },
  {
   "cell_type": "code",
   "execution_count": 191,
   "metadata": {},
   "outputs": [
    {
     "data": {
      "text/plain": [
       "array([1, 2, 3, ..., 3, 1, 2])"
      ]
     },
     "execution_count": 191,
     "metadata": {},
     "output_type": "execute_result"
    }
   ],
   "source": [
    "three_day_sum = three_day_test.sum(axis=1)\n",
    "three_day_sum"
   ]
  },
  {
   "cell_type": "code",
   "execution_count": 192,
   "metadata": {},
   "outputs": [
    {
     "data": {
      "text/plain": [
       "0.0261"
      ]
     },
     "execution_count": 192,
     "metadata": {},
     "output_type": "execute_result"
    }
   ],
   "source": [
    "bad_luck = (three_day_sum==0).mean()\n",
    "bad_luck"
   ]
  },
  {
   "cell_type": "code",
   "execution_count": 193,
   "metadata": {},
   "outputs": [
    {
     "data": {
      "text/plain": [
       "array([[1, 1, 1, 1],\n",
       "       [1, 1, 0, 0],\n",
       "       [1, 1, 0, 1],\n",
       "       ...,\n",
       "       [1, 1, 0, 0],\n",
       "       [0, 1, 0, 1],\n",
       "       [1, 1, 1, 1]])"
      ]
     },
     "execution_count": 193,
     "metadata": {},
     "output_type": "execute_result"
    }
   ],
   "source": [
    "# how likely is it that a truck will show up this week, \n",
    "# given that 3 days in, there has not been a truck, \n",
    "# what are the chances of a truck showing up at least once in the next 4 days?\n",
    "\n",
    "no_truck = 0\n",
    "truck = 1\n",
    "\n",
    "n_trials = n_rows = 10_000\n",
    "n_days = n_cols = 4\n",
    "outcomes = [0,1]\n",
    "truck_prob = 0.7\n",
    "no_truck_prob = 0.3\n",
    "\n",
    "four_day_test = np.random.choice(outcomes, n_cols * n_rows, p=[no_truck_prob, truck_prob]).reshape(n_rows, n_cols)\n",
    "four_day_test\n"
   ]
  },
  {
   "cell_type": "code",
   "execution_count": 194,
   "metadata": {},
   "outputs": [
    {
     "data": {
      "text/plain": [
       "array([4, 2, 3, ..., 2, 2, 4])"
      ]
     },
     "execution_count": 194,
     "metadata": {},
     "output_type": "execute_result"
    }
   ],
   "source": [
    "four_day_sum = four_day_test.sum(axis=1)\n",
    "four_day_sum"
   ]
  },
  {
   "cell_type": "code",
   "execution_count": 195,
   "metadata": {},
   "outputs": [
    {
     "data": {
      "text/plain": [
       "0.9917"
      ]
     },
     "execution_count": 195,
     "metadata": {},
     "output_type": "execute_result"
    }
   ],
   "source": [
    "good_luck = (four_day_sum > 0).mean()\n",
    "good_luck"
   ]
  },
  {
   "cell_type": "markdown",
   "metadata": {},
   "source": [
    "8. If 23 people are in the same room, what are the odds that two of them share a birthday? What if it's 20 people? 40?"
   ]
  },
  {
   "cell_type": "code",
   "execution_count": null,
   "metadata": {},
   "outputs": [],
   "source": []
  },
  {
   "cell_type": "code",
   "execution_count": 220,
   "metadata": {},
   "outputs": [
    {
     "data": {
      "text/plain": [
       "array([[275, 274, 165, ..., 247, 171,  85],\n",
       "       [ 82, 352,  92, ...,  20, 139, 290],\n",
       "       [315, 240, 355, ..., 262, 320, 225],\n",
       "       ...,\n",
       "       [ 46, 282,  46, ..., 298, 278, 114],\n",
       "       [ 39, 292, 288, ..., 250, 263, 191],\n",
       "       [ 64, 347,  31, ..., 315, 167,  16]])"
      ]
     },
     "execution_count": 220,
     "metadata": {},
     "output_type": "execute_result"
    }
   ],
   "source": [
    "# first, we have to assume that each date has an equal chance of being someone's birthdate\n",
    "\n",
    "b_days = np.arange(1,366)\n",
    "\n",
    "n_trials = n_rows = 10_000\n",
    "n_people = n_cols = 23\n",
    "\n",
    "first_test = np.random.choice(b_days, n_cols * n_rows).reshape(n_rows, n_cols)\n",
    "first_test"
   ]
  },
  {
   "cell_type": "code",
   "execution_count": null,
   "metadata": {},
   "outputs": [],
   "source": []
  },
  {
   "cell_type": "code",
   "execution_count": 222,
   "metadata": {},
   "outputs": [
    {
     "data": {
      "text/html": [
       "<div>\n",
       "<style scoped>\n",
       "    .dataframe tbody tr th:only-of-type {\n",
       "        vertical-align: middle;\n",
       "    }\n",
       "\n",
       "    .dataframe tbody tr th {\n",
       "        vertical-align: top;\n",
       "    }\n",
       "\n",
       "    .dataframe thead th {\n",
       "        text-align: right;\n",
       "    }\n",
       "</style>\n",
       "<table border=\"1\" class=\"dataframe\">\n",
       "  <thead>\n",
       "    <tr style=\"text-align: right;\">\n",
       "      <th></th>\n",
       "      <th>0</th>\n",
       "      <th>1</th>\n",
       "      <th>2</th>\n",
       "      <th>3</th>\n",
       "      <th>4</th>\n",
       "      <th>5</th>\n",
       "      <th>6</th>\n",
       "      <th>7</th>\n",
       "      <th>8</th>\n",
       "      <th>9</th>\n",
       "      <th>...</th>\n",
       "      <th>13</th>\n",
       "      <th>14</th>\n",
       "      <th>15</th>\n",
       "      <th>16</th>\n",
       "      <th>17</th>\n",
       "      <th>18</th>\n",
       "      <th>19</th>\n",
       "      <th>20</th>\n",
       "      <th>21</th>\n",
       "      <th>22</th>\n",
       "    </tr>\n",
       "  </thead>\n",
       "  <tbody>\n",
       "    <tr>\n",
       "      <th>0</th>\n",
       "      <td>275</td>\n",
       "      <td>274</td>\n",
       "      <td>165</td>\n",
       "      <td>167</td>\n",
       "      <td>228</td>\n",
       "      <td>256</td>\n",
       "      <td>310</td>\n",
       "      <td>183</td>\n",
       "      <td>40</td>\n",
       "      <td>122</td>\n",
       "      <td>...</td>\n",
       "      <td>280</td>\n",
       "      <td>340</td>\n",
       "      <td>224</td>\n",
       "      <td>93</td>\n",
       "      <td>78</td>\n",
       "      <td>238</td>\n",
       "      <td>250</td>\n",
       "      <td>247</td>\n",
       "      <td>171</td>\n",
       "      <td>85</td>\n",
       "    </tr>\n",
       "    <tr>\n",
       "      <th>1</th>\n",
       "      <td>82</td>\n",
       "      <td>352</td>\n",
       "      <td>92</td>\n",
       "      <td>270</td>\n",
       "      <td>167</td>\n",
       "      <td>224</td>\n",
       "      <td>77</td>\n",
       "      <td>353</td>\n",
       "      <td>5</td>\n",
       "      <td>279</td>\n",
       "      <td>...</td>\n",
       "      <td>356</td>\n",
       "      <td>236</td>\n",
       "      <td>131</td>\n",
       "      <td>69</td>\n",
       "      <td>364</td>\n",
       "      <td>27</td>\n",
       "      <td>271</td>\n",
       "      <td>20</td>\n",
       "      <td>139</td>\n",
       "      <td>290</td>\n",
       "    </tr>\n",
       "    <tr>\n",
       "      <th>2</th>\n",
       "      <td>315</td>\n",
       "      <td>240</td>\n",
       "      <td>355</td>\n",
       "      <td>287</td>\n",
       "      <td>107</td>\n",
       "      <td>262</td>\n",
       "      <td>308</td>\n",
       "      <td>88</td>\n",
       "      <td>54</td>\n",
       "      <td>229</td>\n",
       "      <td>...</td>\n",
       "      <td>236</td>\n",
       "      <td>317</td>\n",
       "      <td>50</td>\n",
       "      <td>25</td>\n",
       "      <td>173</td>\n",
       "      <td>329</td>\n",
       "      <td>351</td>\n",
       "      <td>262</td>\n",
       "      <td>320</td>\n",
       "      <td>225</td>\n",
       "    </tr>\n",
       "    <tr>\n",
       "      <th>3</th>\n",
       "      <td>196</td>\n",
       "      <td>201</td>\n",
       "      <td>335</td>\n",
       "      <td>116</td>\n",
       "      <td>195</td>\n",
       "      <td>150</td>\n",
       "      <td>30</td>\n",
       "      <td>194</td>\n",
       "      <td>275</td>\n",
       "      <td>281</td>\n",
       "      <td>...</td>\n",
       "      <td>215</td>\n",
       "      <td>154</td>\n",
       "      <td>127</td>\n",
       "      <td>65</td>\n",
       "      <td>203</td>\n",
       "      <td>153</td>\n",
       "      <td>293</td>\n",
       "      <td>279</td>\n",
       "      <td>243</td>\n",
       "      <td>270</td>\n",
       "    </tr>\n",
       "    <tr>\n",
       "      <th>4</th>\n",
       "      <td>158</td>\n",
       "      <td>179</td>\n",
       "      <td>275</td>\n",
       "      <td>59</td>\n",
       "      <td>246</td>\n",
       "      <td>123</td>\n",
       "      <td>254</td>\n",
       "      <td>326</td>\n",
       "      <td>154</td>\n",
       "      <td>207</td>\n",
       "      <td>...</td>\n",
       "      <td>126</td>\n",
       "      <td>224</td>\n",
       "      <td>18</td>\n",
       "      <td>308</td>\n",
       "      <td>64</td>\n",
       "      <td>338</td>\n",
       "      <td>358</td>\n",
       "      <td>170</td>\n",
       "      <td>327</td>\n",
       "      <td>187</td>\n",
       "    </tr>\n",
       "    <tr>\n",
       "      <th>...</th>\n",
       "      <td>...</td>\n",
       "      <td>...</td>\n",
       "      <td>...</td>\n",
       "      <td>...</td>\n",
       "      <td>...</td>\n",
       "      <td>...</td>\n",
       "      <td>...</td>\n",
       "      <td>...</td>\n",
       "      <td>...</td>\n",
       "      <td>...</td>\n",
       "      <td>...</td>\n",
       "      <td>...</td>\n",
       "      <td>...</td>\n",
       "      <td>...</td>\n",
       "      <td>...</td>\n",
       "      <td>...</td>\n",
       "      <td>...</td>\n",
       "      <td>...</td>\n",
       "      <td>...</td>\n",
       "      <td>...</td>\n",
       "      <td>...</td>\n",
       "    </tr>\n",
       "    <tr>\n",
       "      <th>9995</th>\n",
       "      <td>193</td>\n",
       "      <td>111</td>\n",
       "      <td>80</td>\n",
       "      <td>198</td>\n",
       "      <td>186</td>\n",
       "      <td>128</td>\n",
       "      <td>134</td>\n",
       "      <td>122</td>\n",
       "      <td>98</td>\n",
       "      <td>31</td>\n",
       "      <td>...</td>\n",
       "      <td>249</td>\n",
       "      <td>316</td>\n",
       "      <td>320</td>\n",
       "      <td>244</td>\n",
       "      <td>123</td>\n",
       "      <td>24</td>\n",
       "      <td>222</td>\n",
       "      <td>268</td>\n",
       "      <td>160</td>\n",
       "      <td>125</td>\n",
       "    </tr>\n",
       "    <tr>\n",
       "      <th>9996</th>\n",
       "      <td>309</td>\n",
       "      <td>35</td>\n",
       "      <td>172</td>\n",
       "      <td>198</td>\n",
       "      <td>229</td>\n",
       "      <td>54</td>\n",
       "      <td>346</td>\n",
       "      <td>302</td>\n",
       "      <td>96</td>\n",
       "      <td>156</td>\n",
       "      <td>...</td>\n",
       "      <td>293</td>\n",
       "      <td>283</td>\n",
       "      <td>91</td>\n",
       "      <td>204</td>\n",
       "      <td>342</td>\n",
       "      <td>173</td>\n",
       "      <td>73</td>\n",
       "      <td>308</td>\n",
       "      <td>88</td>\n",
       "      <td>1</td>\n",
       "    </tr>\n",
       "    <tr>\n",
       "      <th>9997</th>\n",
       "      <td>46</td>\n",
       "      <td>282</td>\n",
       "      <td>46</td>\n",
       "      <td>268</td>\n",
       "      <td>332</td>\n",
       "      <td>283</td>\n",
       "      <td>303</td>\n",
       "      <td>23</td>\n",
       "      <td>319</td>\n",
       "      <td>334</td>\n",
       "      <td>...</td>\n",
       "      <td>151</td>\n",
       "      <td>48</td>\n",
       "      <td>267</td>\n",
       "      <td>160</td>\n",
       "      <td>253</td>\n",
       "      <td>317</td>\n",
       "      <td>296</td>\n",
       "      <td>298</td>\n",
       "      <td>278</td>\n",
       "      <td>114</td>\n",
       "    </tr>\n",
       "    <tr>\n",
       "      <th>9998</th>\n",
       "      <td>39</td>\n",
       "      <td>292</td>\n",
       "      <td>288</td>\n",
       "      <td>250</td>\n",
       "      <td>225</td>\n",
       "      <td>337</td>\n",
       "      <td>44</td>\n",
       "      <td>358</td>\n",
       "      <td>214</td>\n",
       "      <td>277</td>\n",
       "      <td>...</td>\n",
       "      <td>341</td>\n",
       "      <td>162</td>\n",
       "      <td>351</td>\n",
       "      <td>26</td>\n",
       "      <td>75</td>\n",
       "      <td>57</td>\n",
       "      <td>187</td>\n",
       "      <td>250</td>\n",
       "      <td>263</td>\n",
       "      <td>191</td>\n",
       "    </tr>\n",
       "    <tr>\n",
       "      <th>9999</th>\n",
       "      <td>64</td>\n",
       "      <td>347</td>\n",
       "      <td>31</td>\n",
       "      <td>44</td>\n",
       "      <td>296</td>\n",
       "      <td>295</td>\n",
       "      <td>160</td>\n",
       "      <td>74</td>\n",
       "      <td>240</td>\n",
       "      <td>349</td>\n",
       "      <td>...</td>\n",
       "      <td>32</td>\n",
       "      <td>172</td>\n",
       "      <td>104</td>\n",
       "      <td>296</td>\n",
       "      <td>129</td>\n",
       "      <td>51</td>\n",
       "      <td>15</td>\n",
       "      <td>315</td>\n",
       "      <td>167</td>\n",
       "      <td>16</td>\n",
       "    </tr>\n",
       "  </tbody>\n",
       "</table>\n",
       "<p>10000 rows × 23 columns</p>\n",
       "</div>"
      ],
      "text/plain": [
       "       0    1    2    3    4    5    6    7    8    9   ...   13   14   15  \\\n",
       "0     275  274  165  167  228  256  310  183   40  122  ...  280  340  224   \n",
       "1      82  352   92  270  167  224   77  353    5  279  ...  356  236  131   \n",
       "2     315  240  355  287  107  262  308   88   54  229  ...  236  317   50   \n",
       "3     196  201  335  116  195  150   30  194  275  281  ...  215  154  127   \n",
       "4     158  179  275   59  246  123  254  326  154  207  ...  126  224   18   \n",
       "...   ...  ...  ...  ...  ...  ...  ...  ...  ...  ...  ...  ...  ...  ...   \n",
       "9995  193  111   80  198  186  128  134  122   98   31  ...  249  316  320   \n",
       "9996  309   35  172  198  229   54  346  302   96  156  ...  293  283   91   \n",
       "9997   46  282   46  268  332  283  303   23  319  334  ...  151   48  267   \n",
       "9998   39  292  288  250  225  337   44  358  214  277  ...  341  162  351   \n",
       "9999   64  347   31   44  296  295  160   74  240  349  ...   32  172  104   \n",
       "\n",
       "       16   17   18   19   20   21   22  \n",
       "0      93   78  238  250  247  171   85  \n",
       "1      69  364   27  271   20  139  290  \n",
       "2      25  173  329  351  262  320  225  \n",
       "3      65  203  153  293  279  243  270  \n",
       "4     308   64  338  358  170  327  187  \n",
       "...   ...  ...  ...  ...  ...  ...  ...  \n",
       "9995  244  123   24  222  268  160  125  \n",
       "9996  204  342  173   73  308   88    1  \n",
       "9997  160  253  317  296  298  278  114  \n",
       "9998   26   75   57  187  250  263  191  \n",
       "9999  296  129   51   15  315  167   16  \n",
       "\n",
       "[10000 rows x 23 columns]"
      ]
     },
     "execution_count": 222,
     "metadata": {},
     "output_type": "execute_result"
    }
   ],
   "source": [
    "second_test = pd.DataFrame(first_test)\n",
    "second_test"
   ]
  },
  {
   "cell_type": "code",
   "execution_count": 224,
   "metadata": {},
   "outputs": [
    {
     "data": {
      "text/plain": [
       "0       23\n",
       "1       23\n",
       "2       22\n",
       "3       23\n",
       "4       23\n",
       "        ..\n",
       "9995    22\n",
       "9996    23\n",
       "9997    22\n",
       "9998    22\n",
       "9999    22\n",
       "Length: 10000, dtype: int64"
      ]
     },
     "execution_count": 224,
     "metadata": {},
     "output_type": "execute_result"
    }
   ],
   "source": [
    "third_test = second_test.nunique(axis=1)\n",
    "third_test"
   ]
  },
  {
   "cell_type": "code",
   "execution_count": 225,
   "metadata": {},
   "outputs": [
    {
     "data": {
      "text/plain": [
       "0.5043"
      ]
     },
     "execution_count": 225,
     "metadata": {},
     "output_type": "execute_result"
    }
   ],
   "source": [
    "fourth_test = (third_test < 23).mean()\n",
    "fourth_test"
   ]
  },
  {
   "cell_type": "code",
   "execution_count": 226,
   "metadata": {},
   "outputs": [
    {
     "data": {
      "text/plain": [
       "array([[250, 127, 357, ..., 226, 114, 334],\n",
       "       [184, 184,  94, ...,  34, 255, 159],\n",
       "       [323, 238, 243, ..., 357,  25,  98],\n",
       "       ...,\n",
       "       [ 60, 205, 206, ...,  79, 140,  19],\n",
       "       [ 63, 115, 360, ..., 173, 307, 118],\n",
       "       [252, 112, 192, ..., 156, 242, 195]])"
      ]
     },
     "execution_count": 226,
     "metadata": {},
     "output_type": "execute_result"
    }
   ],
   "source": [
    "# what if it's only 20 people\n",
    "\n",
    "b_days = np.arange(1,366)\n",
    "\n",
    "n_trials = n_rows = 10_000\n",
    "n_people = n_cols = 20\n",
    "\n",
    "twenty_test = np.random.choice(b_days, n_cols * n_rows).reshape(n_rows, n_cols)\n",
    "twenty_test"
   ]
  },
  {
   "cell_type": "code",
   "execution_count": 227,
   "metadata": {},
   "outputs": [
    {
     "data": {
      "text/html": [
       "<div>\n",
       "<style scoped>\n",
       "    .dataframe tbody tr th:only-of-type {\n",
       "        vertical-align: middle;\n",
       "    }\n",
       "\n",
       "    .dataframe tbody tr th {\n",
       "        vertical-align: top;\n",
       "    }\n",
       "\n",
       "    .dataframe thead th {\n",
       "        text-align: right;\n",
       "    }\n",
       "</style>\n",
       "<table border=\"1\" class=\"dataframe\">\n",
       "  <thead>\n",
       "    <tr style=\"text-align: right;\">\n",
       "      <th></th>\n",
       "      <th>0</th>\n",
       "      <th>1</th>\n",
       "      <th>2</th>\n",
       "      <th>3</th>\n",
       "      <th>4</th>\n",
       "      <th>5</th>\n",
       "      <th>6</th>\n",
       "      <th>7</th>\n",
       "      <th>8</th>\n",
       "      <th>9</th>\n",
       "      <th>10</th>\n",
       "      <th>11</th>\n",
       "      <th>12</th>\n",
       "      <th>13</th>\n",
       "      <th>14</th>\n",
       "      <th>15</th>\n",
       "      <th>16</th>\n",
       "      <th>17</th>\n",
       "      <th>18</th>\n",
       "      <th>19</th>\n",
       "    </tr>\n",
       "  </thead>\n",
       "  <tbody>\n",
       "    <tr>\n",
       "      <th>0</th>\n",
       "      <td>250</td>\n",
       "      <td>127</td>\n",
       "      <td>357</td>\n",
       "      <td>13</td>\n",
       "      <td>343</td>\n",
       "      <td>365</td>\n",
       "      <td>282</td>\n",
       "      <td>79</td>\n",
       "      <td>106</td>\n",
       "      <td>10</td>\n",
       "      <td>27</td>\n",
       "      <td>184</td>\n",
       "      <td>27</td>\n",
       "      <td>172</td>\n",
       "      <td>283</td>\n",
       "      <td>171</td>\n",
       "      <td>190</td>\n",
       "      <td>226</td>\n",
       "      <td>114</td>\n",
       "      <td>334</td>\n",
       "    </tr>\n",
       "    <tr>\n",
       "      <th>1</th>\n",
       "      <td>184</td>\n",
       "      <td>184</td>\n",
       "      <td>94</td>\n",
       "      <td>74</td>\n",
       "      <td>282</td>\n",
       "      <td>208</td>\n",
       "      <td>192</td>\n",
       "      <td>259</td>\n",
       "      <td>352</td>\n",
       "      <td>118</td>\n",
       "      <td>261</td>\n",
       "      <td>108</td>\n",
       "      <td>90</td>\n",
       "      <td>233</td>\n",
       "      <td>186</td>\n",
       "      <td>308</td>\n",
       "      <td>211</td>\n",
       "      <td>34</td>\n",
       "      <td>255</td>\n",
       "      <td>159</td>\n",
       "    </tr>\n",
       "    <tr>\n",
       "      <th>2</th>\n",
       "      <td>323</td>\n",
       "      <td>238</td>\n",
       "      <td>243</td>\n",
       "      <td>262</td>\n",
       "      <td>218</td>\n",
       "      <td>130</td>\n",
       "      <td>142</td>\n",
       "      <td>91</td>\n",
       "      <td>239</td>\n",
       "      <td>52</td>\n",
       "      <td>282</td>\n",
       "      <td>144</td>\n",
       "      <td>217</td>\n",
       "      <td>123</td>\n",
       "      <td>295</td>\n",
       "      <td>103</td>\n",
       "      <td>265</td>\n",
       "      <td>357</td>\n",
       "      <td>25</td>\n",
       "      <td>98</td>\n",
       "    </tr>\n",
       "    <tr>\n",
       "      <th>3</th>\n",
       "      <td>251</td>\n",
       "      <td>82</td>\n",
       "      <td>203</td>\n",
       "      <td>73</td>\n",
       "      <td>63</td>\n",
       "      <td>95</td>\n",
       "      <td>1</td>\n",
       "      <td>144</td>\n",
       "      <td>198</td>\n",
       "      <td>301</td>\n",
       "      <td>127</td>\n",
       "      <td>144</td>\n",
       "      <td>251</td>\n",
       "      <td>116</td>\n",
       "      <td>257</td>\n",
       "      <td>233</td>\n",
       "      <td>159</td>\n",
       "      <td>108</td>\n",
       "      <td>168</td>\n",
       "      <td>334</td>\n",
       "    </tr>\n",
       "    <tr>\n",
       "      <th>4</th>\n",
       "      <td>165</td>\n",
       "      <td>2</td>\n",
       "      <td>119</td>\n",
       "      <td>33</td>\n",
       "      <td>51</td>\n",
       "      <td>253</td>\n",
       "      <td>126</td>\n",
       "      <td>199</td>\n",
       "      <td>152</td>\n",
       "      <td>67</td>\n",
       "      <td>120</td>\n",
       "      <td>145</td>\n",
       "      <td>185</td>\n",
       "      <td>290</td>\n",
       "      <td>54</td>\n",
       "      <td>127</td>\n",
       "      <td>231</td>\n",
       "      <td>174</td>\n",
       "      <td>229</td>\n",
       "      <td>87</td>\n",
       "    </tr>\n",
       "    <tr>\n",
       "      <th>...</th>\n",
       "      <td>...</td>\n",
       "      <td>...</td>\n",
       "      <td>...</td>\n",
       "      <td>...</td>\n",
       "      <td>...</td>\n",
       "      <td>...</td>\n",
       "      <td>...</td>\n",
       "      <td>...</td>\n",
       "      <td>...</td>\n",
       "      <td>...</td>\n",
       "      <td>...</td>\n",
       "      <td>...</td>\n",
       "      <td>...</td>\n",
       "      <td>...</td>\n",
       "      <td>...</td>\n",
       "      <td>...</td>\n",
       "      <td>...</td>\n",
       "      <td>...</td>\n",
       "      <td>...</td>\n",
       "      <td>...</td>\n",
       "    </tr>\n",
       "    <tr>\n",
       "      <th>9995</th>\n",
       "      <td>115</td>\n",
       "      <td>267</td>\n",
       "      <td>361</td>\n",
       "      <td>305</td>\n",
       "      <td>274</td>\n",
       "      <td>360</td>\n",
       "      <td>341</td>\n",
       "      <td>134</td>\n",
       "      <td>230</td>\n",
       "      <td>35</td>\n",
       "      <td>45</td>\n",
       "      <td>306</td>\n",
       "      <td>295</td>\n",
       "      <td>150</td>\n",
       "      <td>319</td>\n",
       "      <td>176</td>\n",
       "      <td>165</td>\n",
       "      <td>332</td>\n",
       "      <td>284</td>\n",
       "      <td>327</td>\n",
       "    </tr>\n",
       "    <tr>\n",
       "      <th>9996</th>\n",
       "      <td>306</td>\n",
       "      <td>351</td>\n",
       "      <td>344</td>\n",
       "      <td>274</td>\n",
       "      <td>76</td>\n",
       "      <td>166</td>\n",
       "      <td>309</td>\n",
       "      <td>47</td>\n",
       "      <td>88</td>\n",
       "      <td>129</td>\n",
       "      <td>309</td>\n",
       "      <td>71</td>\n",
       "      <td>113</td>\n",
       "      <td>231</td>\n",
       "      <td>243</td>\n",
       "      <td>102</td>\n",
       "      <td>344</td>\n",
       "      <td>358</td>\n",
       "      <td>67</td>\n",
       "      <td>72</td>\n",
       "    </tr>\n",
       "    <tr>\n",
       "      <th>9997</th>\n",
       "      <td>60</td>\n",
       "      <td>205</td>\n",
       "      <td>206</td>\n",
       "      <td>354</td>\n",
       "      <td>266</td>\n",
       "      <td>280</td>\n",
       "      <td>49</td>\n",
       "      <td>229</td>\n",
       "      <td>258</td>\n",
       "      <td>207</td>\n",
       "      <td>145</td>\n",
       "      <td>280</td>\n",
       "      <td>332</td>\n",
       "      <td>226</td>\n",
       "      <td>164</td>\n",
       "      <td>194</td>\n",
       "      <td>29</td>\n",
       "      <td>79</td>\n",
       "      <td>140</td>\n",
       "      <td>19</td>\n",
       "    </tr>\n",
       "    <tr>\n",
       "      <th>9998</th>\n",
       "      <td>63</td>\n",
       "      <td>115</td>\n",
       "      <td>360</td>\n",
       "      <td>138</td>\n",
       "      <td>316</td>\n",
       "      <td>2</td>\n",
       "      <td>60</td>\n",
       "      <td>106</td>\n",
       "      <td>216</td>\n",
       "      <td>78</td>\n",
       "      <td>351</td>\n",
       "      <td>234</td>\n",
       "      <td>115</td>\n",
       "      <td>125</td>\n",
       "      <td>202</td>\n",
       "      <td>52</td>\n",
       "      <td>44</td>\n",
       "      <td>173</td>\n",
       "      <td>307</td>\n",
       "      <td>118</td>\n",
       "    </tr>\n",
       "    <tr>\n",
       "      <th>9999</th>\n",
       "      <td>252</td>\n",
       "      <td>112</td>\n",
       "      <td>192</td>\n",
       "      <td>337</td>\n",
       "      <td>201</td>\n",
       "      <td>271</td>\n",
       "      <td>245</td>\n",
       "      <td>7</td>\n",
       "      <td>219</td>\n",
       "      <td>93</td>\n",
       "      <td>338</td>\n",
       "      <td>87</td>\n",
       "      <td>153</td>\n",
       "      <td>158</td>\n",
       "      <td>320</td>\n",
       "      <td>220</td>\n",
       "      <td>66</td>\n",
       "      <td>156</td>\n",
       "      <td>242</td>\n",
       "      <td>195</td>\n",
       "    </tr>\n",
       "  </tbody>\n",
       "</table>\n",
       "<p>10000 rows × 20 columns</p>\n",
       "</div>"
      ],
      "text/plain": [
       "       0    1    2    3    4    5    6    7    8    9    10   11   12   13  \\\n",
       "0     250  127  357   13  343  365  282   79  106   10   27  184   27  172   \n",
       "1     184  184   94   74  282  208  192  259  352  118  261  108   90  233   \n",
       "2     323  238  243  262  218  130  142   91  239   52  282  144  217  123   \n",
       "3     251   82  203   73   63   95    1  144  198  301  127  144  251  116   \n",
       "4     165    2  119   33   51  253  126  199  152   67  120  145  185  290   \n",
       "...   ...  ...  ...  ...  ...  ...  ...  ...  ...  ...  ...  ...  ...  ...   \n",
       "9995  115  267  361  305  274  360  341  134  230   35   45  306  295  150   \n",
       "9996  306  351  344  274   76  166  309   47   88  129  309   71  113  231   \n",
       "9997   60  205  206  354  266  280   49  229  258  207  145  280  332  226   \n",
       "9998   63  115  360  138  316    2   60  106  216   78  351  234  115  125   \n",
       "9999  252  112  192  337  201  271  245    7  219   93  338   87  153  158   \n",
       "\n",
       "       14   15   16   17   18   19  \n",
       "0     283  171  190  226  114  334  \n",
       "1     186  308  211   34  255  159  \n",
       "2     295  103  265  357   25   98  \n",
       "3     257  233  159  108  168  334  \n",
       "4      54  127  231  174  229   87  \n",
       "...   ...  ...  ...  ...  ...  ...  \n",
       "9995  319  176  165  332  284  327  \n",
       "9996  243  102  344  358   67   72  \n",
       "9997  164  194   29   79  140   19  \n",
       "9998  202   52   44  173  307  118  \n",
       "9999  320  220   66  156  242  195  \n",
       "\n",
       "[10000 rows x 20 columns]"
      ]
     },
     "execution_count": 227,
     "metadata": {},
     "output_type": "execute_result"
    }
   ],
   "source": [
    "second_twenty = pd.DataFrame(twenty_test)\n",
    "second_twenty"
   ]
  },
  {
   "cell_type": "code",
   "execution_count": 228,
   "metadata": {},
   "outputs": [
    {
     "data": {
      "text/plain": [
       "0       19\n",
       "1       19\n",
       "2       20\n",
       "3       18\n",
       "4       20\n",
       "        ..\n",
       "9995    20\n",
       "9996    18\n",
       "9997    19\n",
       "9998    19\n",
       "9999    20\n",
       "Length: 10000, dtype: int64"
      ]
     },
     "execution_count": 228,
     "metadata": {},
     "output_type": "execute_result"
    }
   ],
   "source": [
    "third_twenty = second_twenty.nunique(axis=1)\n",
    "third_twenty"
   ]
  },
  {
   "cell_type": "code",
   "execution_count": 229,
   "metadata": {},
   "outputs": [
    {
     "data": {
      "text/plain": [
       "0.406"
      ]
     },
     "execution_count": 229,
     "metadata": {},
     "output_type": "execute_result"
    }
   ],
   "source": [
    "fourth_twenty = (third_twenty < 20).mean()\n",
    "fourth_twenty"
   ]
  },
  {
   "cell_type": "code",
   "execution_count": 230,
   "metadata": {},
   "outputs": [
    {
     "data": {
      "text/plain": [
       "array([[258, 200,   8, ..., 172, 285, 329],\n",
       "       [308, 300, 219, ..., 301, 223,  32],\n",
       "       [128,  11, 204, ...,   7, 176, 241],\n",
       "       ...,\n",
       "       [162, 206,  88, ..., 159, 237, 130],\n",
       "       [254,  93,  69, ..., 240,  32, 216],\n",
       "       [124, 189, 177, ..., 168, 218,  13]])"
      ]
     },
     "execution_count": 230,
     "metadata": {},
     "output_type": "execute_result"
    }
   ],
   "source": [
    "# what about 40 people?\n",
    "b_days = np.arange(1,366)\n",
    "\n",
    "n_trials = n_rows = 10_000\n",
    "n_people = n_cols = 40\n",
    "\n",
    "forty_test = np.random.choice(b_days, n_cols * n_rows).reshape(n_rows, n_cols)\n",
    "forty_test"
   ]
  },
  {
   "cell_type": "code",
   "execution_count": 231,
   "metadata": {},
   "outputs": [
    {
     "data": {
      "text/html": [
       "<div>\n",
       "<style scoped>\n",
       "    .dataframe tbody tr th:only-of-type {\n",
       "        vertical-align: middle;\n",
       "    }\n",
       "\n",
       "    .dataframe tbody tr th {\n",
       "        vertical-align: top;\n",
       "    }\n",
       "\n",
       "    .dataframe thead th {\n",
       "        text-align: right;\n",
       "    }\n",
       "</style>\n",
       "<table border=\"1\" class=\"dataframe\">\n",
       "  <thead>\n",
       "    <tr style=\"text-align: right;\">\n",
       "      <th></th>\n",
       "      <th>0</th>\n",
       "      <th>1</th>\n",
       "      <th>2</th>\n",
       "      <th>3</th>\n",
       "      <th>4</th>\n",
       "      <th>5</th>\n",
       "      <th>6</th>\n",
       "      <th>7</th>\n",
       "      <th>8</th>\n",
       "      <th>9</th>\n",
       "      <th>...</th>\n",
       "      <th>30</th>\n",
       "      <th>31</th>\n",
       "      <th>32</th>\n",
       "      <th>33</th>\n",
       "      <th>34</th>\n",
       "      <th>35</th>\n",
       "      <th>36</th>\n",
       "      <th>37</th>\n",
       "      <th>38</th>\n",
       "      <th>39</th>\n",
       "    </tr>\n",
       "  </thead>\n",
       "  <tbody>\n",
       "    <tr>\n",
       "      <th>0</th>\n",
       "      <td>258</td>\n",
       "      <td>200</td>\n",
       "      <td>8</td>\n",
       "      <td>75</td>\n",
       "      <td>76</td>\n",
       "      <td>99</td>\n",
       "      <td>52</td>\n",
       "      <td>281</td>\n",
       "      <td>65</td>\n",
       "      <td>326</td>\n",
       "      <td>...</td>\n",
       "      <td>228</td>\n",
       "      <td>292</td>\n",
       "      <td>255</td>\n",
       "      <td>260</td>\n",
       "      <td>141</td>\n",
       "      <td>304</td>\n",
       "      <td>250</td>\n",
       "      <td>172</td>\n",
       "      <td>285</td>\n",
       "      <td>329</td>\n",
       "    </tr>\n",
       "    <tr>\n",
       "      <th>1</th>\n",
       "      <td>308</td>\n",
       "      <td>300</td>\n",
       "      <td>219</td>\n",
       "      <td>82</td>\n",
       "      <td>339</td>\n",
       "      <td>1</td>\n",
       "      <td>81</td>\n",
       "      <td>283</td>\n",
       "      <td>191</td>\n",
       "      <td>81</td>\n",
       "      <td>...</td>\n",
       "      <td>347</td>\n",
       "      <td>329</td>\n",
       "      <td>191</td>\n",
       "      <td>269</td>\n",
       "      <td>306</td>\n",
       "      <td>319</td>\n",
       "      <td>68</td>\n",
       "      <td>301</td>\n",
       "      <td>223</td>\n",
       "      <td>32</td>\n",
       "    </tr>\n",
       "    <tr>\n",
       "      <th>2</th>\n",
       "      <td>128</td>\n",
       "      <td>11</td>\n",
       "      <td>204</td>\n",
       "      <td>359</td>\n",
       "      <td>133</td>\n",
       "      <td>175</td>\n",
       "      <td>271</td>\n",
       "      <td>264</td>\n",
       "      <td>102</td>\n",
       "      <td>107</td>\n",
       "      <td>...</td>\n",
       "      <td>233</td>\n",
       "      <td>295</td>\n",
       "      <td>140</td>\n",
       "      <td>359</td>\n",
       "      <td>169</td>\n",
       "      <td>11</td>\n",
       "      <td>329</td>\n",
       "      <td>7</td>\n",
       "      <td>176</td>\n",
       "      <td>241</td>\n",
       "    </tr>\n",
       "    <tr>\n",
       "      <th>3</th>\n",
       "      <td>329</td>\n",
       "      <td>269</td>\n",
       "      <td>314</td>\n",
       "      <td>233</td>\n",
       "      <td>162</td>\n",
       "      <td>144</td>\n",
       "      <td>81</td>\n",
       "      <td>12</td>\n",
       "      <td>225</td>\n",
       "      <td>213</td>\n",
       "      <td>...</td>\n",
       "      <td>21</td>\n",
       "      <td>45</td>\n",
       "      <td>362</td>\n",
       "      <td>79</td>\n",
       "      <td>19</td>\n",
       "      <td>183</td>\n",
       "      <td>88</td>\n",
       "      <td>274</td>\n",
       "      <td>102</td>\n",
       "      <td>304</td>\n",
       "    </tr>\n",
       "    <tr>\n",
       "      <th>4</th>\n",
       "      <td>241</td>\n",
       "      <td>355</td>\n",
       "      <td>92</td>\n",
       "      <td>58</td>\n",
       "      <td>138</td>\n",
       "      <td>141</td>\n",
       "      <td>348</td>\n",
       "      <td>100</td>\n",
       "      <td>346</td>\n",
       "      <td>146</td>\n",
       "      <td>...</td>\n",
       "      <td>204</td>\n",
       "      <td>135</td>\n",
       "      <td>73</td>\n",
       "      <td>108</td>\n",
       "      <td>99</td>\n",
       "      <td>18</td>\n",
       "      <td>72</td>\n",
       "      <td>1</td>\n",
       "      <td>148</td>\n",
       "      <td>31</td>\n",
       "    </tr>\n",
       "    <tr>\n",
       "      <th>...</th>\n",
       "      <td>...</td>\n",
       "      <td>...</td>\n",
       "      <td>...</td>\n",
       "      <td>...</td>\n",
       "      <td>...</td>\n",
       "      <td>...</td>\n",
       "      <td>...</td>\n",
       "      <td>...</td>\n",
       "      <td>...</td>\n",
       "      <td>...</td>\n",
       "      <td>...</td>\n",
       "      <td>...</td>\n",
       "      <td>...</td>\n",
       "      <td>...</td>\n",
       "      <td>...</td>\n",
       "      <td>...</td>\n",
       "      <td>...</td>\n",
       "      <td>...</td>\n",
       "      <td>...</td>\n",
       "      <td>...</td>\n",
       "      <td>...</td>\n",
       "    </tr>\n",
       "    <tr>\n",
       "      <th>9995</th>\n",
       "      <td>234</td>\n",
       "      <td>256</td>\n",
       "      <td>215</td>\n",
       "      <td>130</td>\n",
       "      <td>236</td>\n",
       "      <td>219</td>\n",
       "      <td>216</td>\n",
       "      <td>314</td>\n",
       "      <td>36</td>\n",
       "      <td>191</td>\n",
       "      <td>...</td>\n",
       "      <td>69</td>\n",
       "      <td>332</td>\n",
       "      <td>167</td>\n",
       "      <td>134</td>\n",
       "      <td>87</td>\n",
       "      <td>75</td>\n",
       "      <td>8</td>\n",
       "      <td>364</td>\n",
       "      <td>334</td>\n",
       "      <td>3</td>\n",
       "    </tr>\n",
       "    <tr>\n",
       "      <th>9996</th>\n",
       "      <td>200</td>\n",
       "      <td>249</td>\n",
       "      <td>81</td>\n",
       "      <td>282</td>\n",
       "      <td>81</td>\n",
       "      <td>69</td>\n",
       "      <td>287</td>\n",
       "      <td>58</td>\n",
       "      <td>203</td>\n",
       "      <td>185</td>\n",
       "      <td>...</td>\n",
       "      <td>71</td>\n",
       "      <td>310</td>\n",
       "      <td>315</td>\n",
       "      <td>80</td>\n",
       "      <td>125</td>\n",
       "      <td>47</td>\n",
       "      <td>84</td>\n",
       "      <td>235</td>\n",
       "      <td>266</td>\n",
       "      <td>195</td>\n",
       "    </tr>\n",
       "    <tr>\n",
       "      <th>9997</th>\n",
       "      <td>162</td>\n",
       "      <td>206</td>\n",
       "      <td>88</td>\n",
       "      <td>209</td>\n",
       "      <td>103</td>\n",
       "      <td>297</td>\n",
       "      <td>18</td>\n",
       "      <td>309</td>\n",
       "      <td>36</td>\n",
       "      <td>44</td>\n",
       "      <td>...</td>\n",
       "      <td>307</td>\n",
       "      <td>159</td>\n",
       "      <td>196</td>\n",
       "      <td>88</td>\n",
       "      <td>124</td>\n",
       "      <td>326</td>\n",
       "      <td>319</td>\n",
       "      <td>159</td>\n",
       "      <td>237</td>\n",
       "      <td>130</td>\n",
       "    </tr>\n",
       "    <tr>\n",
       "      <th>9998</th>\n",
       "      <td>254</td>\n",
       "      <td>93</td>\n",
       "      <td>69</td>\n",
       "      <td>80</td>\n",
       "      <td>134</td>\n",
       "      <td>290</td>\n",
       "      <td>359</td>\n",
       "      <td>118</td>\n",
       "      <td>183</td>\n",
       "      <td>96</td>\n",
       "      <td>...</td>\n",
       "      <td>203</td>\n",
       "      <td>207</td>\n",
       "      <td>162</td>\n",
       "      <td>277</td>\n",
       "      <td>343</td>\n",
       "      <td>342</td>\n",
       "      <td>319</td>\n",
       "      <td>240</td>\n",
       "      <td>32</td>\n",
       "      <td>216</td>\n",
       "    </tr>\n",
       "    <tr>\n",
       "      <th>9999</th>\n",
       "      <td>124</td>\n",
       "      <td>189</td>\n",
       "      <td>177</td>\n",
       "      <td>199</td>\n",
       "      <td>179</td>\n",
       "      <td>232</td>\n",
       "      <td>296</td>\n",
       "      <td>72</td>\n",
       "      <td>70</td>\n",
       "      <td>20</td>\n",
       "      <td>...</td>\n",
       "      <td>126</td>\n",
       "      <td>121</td>\n",
       "      <td>92</td>\n",
       "      <td>40</td>\n",
       "      <td>57</td>\n",
       "      <td>158</td>\n",
       "      <td>317</td>\n",
       "      <td>168</td>\n",
       "      <td>218</td>\n",
       "      <td>13</td>\n",
       "    </tr>\n",
       "  </tbody>\n",
       "</table>\n",
       "<p>10000 rows × 40 columns</p>\n",
       "</div>"
      ],
      "text/plain": [
       "       0    1    2    3    4    5    6    7    8    9   ...   30   31   32  \\\n",
       "0     258  200    8   75   76   99   52  281   65  326  ...  228  292  255   \n",
       "1     308  300  219   82  339    1   81  283  191   81  ...  347  329  191   \n",
       "2     128   11  204  359  133  175  271  264  102  107  ...  233  295  140   \n",
       "3     329  269  314  233  162  144   81   12  225  213  ...   21   45  362   \n",
       "4     241  355   92   58  138  141  348  100  346  146  ...  204  135   73   \n",
       "...   ...  ...  ...  ...  ...  ...  ...  ...  ...  ...  ...  ...  ...  ...   \n",
       "9995  234  256  215  130  236  219  216  314   36  191  ...   69  332  167   \n",
       "9996  200  249   81  282   81   69  287   58  203  185  ...   71  310  315   \n",
       "9997  162  206   88  209  103  297   18  309   36   44  ...  307  159  196   \n",
       "9998  254   93   69   80  134  290  359  118  183   96  ...  203  207  162   \n",
       "9999  124  189  177  199  179  232  296   72   70   20  ...  126  121   92   \n",
       "\n",
       "       33   34   35   36   37   38   39  \n",
       "0     260  141  304  250  172  285  329  \n",
       "1     269  306  319   68  301  223   32  \n",
       "2     359  169   11  329    7  176  241  \n",
       "3      79   19  183   88  274  102  304  \n",
       "4     108   99   18   72    1  148   31  \n",
       "...   ...  ...  ...  ...  ...  ...  ...  \n",
       "9995  134   87   75    8  364  334    3  \n",
       "9996   80  125   47   84  235  266  195  \n",
       "9997   88  124  326  319  159  237  130  \n",
       "9998  277  343  342  319  240   32  216  \n",
       "9999   40   57  158  317  168  218   13  \n",
       "\n",
       "[10000 rows x 40 columns]"
      ]
     },
     "execution_count": 231,
     "metadata": {},
     "output_type": "execute_result"
    }
   ],
   "source": [
    "second_forty = pd.DataFrame(forty_test)\n",
    "second_forty"
   ]
  },
  {
   "cell_type": "code",
   "execution_count": 232,
   "metadata": {},
   "outputs": [
    {
     "data": {
      "text/plain": [
       "0       36\n",
       "1       37\n",
       "2       37\n",
       "3       40\n",
       "4       40\n",
       "        ..\n",
       "9995    36\n",
       "9996    37\n",
       "9997    37\n",
       "9998    40\n",
       "9999    35\n",
       "Length: 10000, dtype: int64"
      ]
     },
     "execution_count": 232,
     "metadata": {},
     "output_type": "execute_result"
    }
   ],
   "source": [
    "third_forty = second_forty.nunique(axis=1)\n",
    "third_forty"
   ]
  },
  {
   "cell_type": "code",
   "execution_count": 233,
   "metadata": {},
   "outputs": [
    {
     "data": {
      "text/plain": [
       "0.8869"
      ]
     },
     "execution_count": 233,
     "metadata": {},
     "output_type": "execute_result"
    }
   ],
   "source": [
    "fourth_forty = (third_forty < 40).mean()\n",
    "fourth_forty"
   ]
  },
  {
   "cell_type": "markdown",
   "metadata": {},
   "source": [
    "#### Bonus Exercises\n",
    "- [Mage Duel](https://gist.github.com/ryanorsinger/2996446f02c1bf30fcb3f8fdb88bd51d)\n",
    "- [Chuck a Luck](https://gist.github.com/ryanorsinger/eac1d7b7e978f90b8390bdc056312123)"
   ]
  },
  {
   "cell_type": "code",
   "execution_count": null,
   "metadata": {},
   "outputs": [],
   "source": []
  },
  {
   "cell_type": "code",
   "execution_count": null,
   "metadata": {},
   "outputs": [],
   "source": []
  }
 ],
 "metadata": {
  "kernelspec": {
   "display_name": "Python 3",
   "language": "python",
   "name": "python3"
  },
  "language_info": {
   "codemirror_mode": {
    "name": "ipython",
    "version": 3
   },
   "file_extension": ".py",
   "mimetype": "text/x-python",
   "name": "python",
   "nbconvert_exporter": "python",
   "pygments_lexer": "ipython3",
   "version": "3.8.5"
  }
 },
 "nbformat": 4,
 "nbformat_minor": 4
}
