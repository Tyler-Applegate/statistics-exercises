{
 "cells": [
  {
   "cell_type": "markdown",
   "metadata": {},
   "source": [
    "# Simulation\n",
    "\n",
    "In this lesson, we will work through several examples of using random numbers to simulate real-world scenarios."
   ]
  },
  {
   "cell_type": "code",
   "execution_count": 1,
   "metadata": {},
   "outputs": [],
   "source": [
    "%matplotlib inline\n",
    "import numpy as np\n",
    "import pandas as pd\n",
    "\n",
    "# curriculum example visualizations\n",
    "import viz\n",
    "np.random.seed(1349)"
   ]
  },
  {
   "cell_type": "markdown",
   "metadata": {},
   "source": [
    "### How will we utilize Python to obtain probabilities?"
   ]
  },
  {
   "cell_type": "markdown",
   "metadata": {},
   "source": [
    "We will utilize Monte Carlo simulations.\n",
    "\n",
    "A Monte Carlo simulation is a means to recreate potential events and empirically take the results of simiulated trials to obtain a reasonably precise estimate of a desired probability.\n",
    "\n",
    "What does this mean for us here?"
   ]
  },
  {
   "cell_type": "code",
   "execution_count": 2,
   "metadata": {},
   "outputs": [],
   "source": [
    "# Let's take a hypothetical base probability. \n",
    "# What is the probability of rolling a one (1) on a single, standard, fair six-sided die?\n"
   ]
  },
  {
   "cell_type": "code",
   "execution_count": 3,
   "metadata": {},
   "outputs": [],
   "source": [
    "# Potential outcomes of a die roll:\n",
    "possible_outcomes = [1,2,3,4,5,6]"
   ]
  },
  {
   "cell_type": "code",
   "execution_count": 4,
   "metadata": {},
   "outputs": [],
   "source": [
    "# options that equal 1: just 1, literally one"
   ]
  },
  {
   "cell_type": "code",
   "execution_count": 5,
   "metadata": {},
   "outputs": [],
   "source": [
    "ideal_roll = 1"
   ]
  },
  {
   "cell_type": "code",
   "execution_count": 6,
   "metadata": {},
   "outputs": [
    {
     "data": {
      "text/plain": [
       "0.16666666666666666"
      ]
     },
     "execution_count": 6,
     "metadata": {},
     "output_type": "execute_result"
    }
   ],
   "source": [
    "theoretical_prob = ideal_roll / len(possible_outcomes)\n",
    "theoretical_prob"
   ]
  },
  {
   "cell_type": "code",
   "execution_count": 7,
   "metadata": {},
   "outputs": [],
   "source": [
    "# Now how would we do this with a simulation?\n"
   ]
  },
  {
   "cell_type": "code",
   "execution_count": 8,
   "metadata": {},
   "outputs": [],
   "source": [
    "# We will do it utilizing a large number of trials, that we calculate."
   ]
  },
  {
   "cell_type": "code",
   "execution_count": 9,
   "metadata": {},
   "outputs": [],
   "source": [
    "# Allow us to examine the same problem: Probability of rolling a 1 on a fair six-sided die."
   ]
  },
  {
   "cell_type": "code",
   "execution_count": 10,
   "metadata": {},
   "outputs": [],
   "source": [
    "# First, we will set a value for the number of trials that we want to conduct.\n",
    "# We have the power of computation at our finger tips, so let's shoot for something like one million.\n",
    "\n",
    "num_trials = 10 ** 7\n"
   ]
  },
  {
   "cell_type": "code",
   "execution_count": 11,
   "metadata": {},
   "outputs": [],
   "source": [
    "# We have one die roll for each trial, which is our event, that we call a single simulation\n",
    "n_dice =1"
   ]
  },
  {
   "cell_type": "code",
   "execution_count": 12,
   "metadata": {},
   "outputs": [],
   "source": [
    "# We will do a single simulation one million times, with each simulation being a die roll."
   ]
  },
  {
   "cell_type": "code",
   "execution_count": 13,
   "metadata": {},
   "outputs": [],
   "source": [
    "rolls = np.random.choice(possible_outcomes, num_trials*n_dice).reshape(num_trials, n_dice)"
   ]
  },
  {
   "cell_type": "code",
   "execution_count": 14,
   "metadata": {},
   "outputs": [],
   "source": [
    "# let's make our simulations!"
   ]
  },
  {
   "cell_type": "code",
   "execution_count": 15,
   "metadata": {},
   "outputs": [
    {
     "data": {
      "text/plain": [
       "numpy.ndarray"
      ]
     },
     "execution_count": 15,
     "metadata": {},
     "output_type": "execute_result"
    }
   ],
   "source": [
    "type(rolls)"
   ]
  },
  {
   "cell_type": "code",
   "execution_count": 16,
   "metadata": {},
   "outputs": [
    {
     "data": {
      "text/plain": [
       "0.1666723"
      ]
     },
     "execution_count": 16,
     "metadata": {},
     "output_type": "execute_result"
    }
   ],
   "source": [
    "(rolls == 1).mean()"
   ]
  },
  {
   "cell_type": "markdown",
   "metadata": {},
   "source": [
    "## Generating Random Numbers with Numpy\n",
    "\n",
    "The `numpy.random` module provides a number of functions for generating random numbers.\n",
    "\n",
    "- `np.random.choice`: selects random options from a list\n",
    "- `np.random.uniform`: generates numbers between a given lower and upper bound\n",
    "- `np.random.random`: generates numbers between 0 and 1\n",
    "- `np.random.randn`: generates numbers from the standard normal distribution\n",
    "- `np.random.normal`: generates numbers from a normal distribution with a specified mean and standard deviation"
   ]
  },
  {
   "cell_type": "markdown",
   "metadata": {},
   "source": [
    "## Example Problems\n",
    "\n",
    "### Carnival Dice Rolls\n",
    "\n",
    "> You are at a carnival and come across a person in a booth offering you a game\n",
    "> of \"chance\" (as people in booths at carnivals tend to do).\n",
    "\n",
    "> You pay 5 dollars and roll 3 dice. If the sum of the dice rolls is greater\n",
    "> than 12, you get 15 dollars. If it's less than or equal to 12, you get\n",
    "> nothing.\n",
    "\n",
    "> Assuming the dice are fair, should you play this game? How would this change\n",
    "> if the winning condition was a sum greater than *or equal to* 12?"
   ]
  },
  {
   "cell_type": "markdown",
   "metadata": {},
   "source": [
    "To simulate this problem, we'll write the python code to simulate the scenario described above, then repeat it a large amount of times.\n",
    "\n",
    "One way we can keep track of all the simulations is to use a 2-dimensional matrix. We can create a matrix where each row represents one \"trial\". Each row will have 3 columns, representing the 3 dice rolls."
   ]
  },
  {
   "cell_type": "code",
   "execution_count": 17,
   "metadata": {},
   "outputs": [
    {
     "data": {
      "text/plain": [
       "array([[3, 2, 1],\n",
       "       [3, 6, 2],\n",
       "       [3, 3, 5],\n",
       "       ...,\n",
       "       [1, 1, 4],\n",
       "       [6, 6, 2],\n",
       "       [5, 4, 3]])"
      ]
     },
     "execution_count": 17,
     "metadata": {},
     "output_type": "execute_result"
    }
   ],
   "source": [
    "n_trials = nrows = 10_000\n",
    "n_dice = ncols = 3\n",
    "\n",
    "rolls = np.random.choice(possible_outcomes, n_trials * n_dice).reshape(nrows, ncols)\n",
    "rolls"
   ]
  },
  {
   "cell_type": "markdown",
   "metadata": {},
   "source": [
    "Here we used the `choice` function to randomly select an element out of the list of the number 1-6, effectively simulating a dice roll. The second argument supplied to `choice` is the total number of dice to roll. Once we have generated all the dice rolls, we use the `.reshape` method to create our matrix with 3 columns and 10,000 rows.\n",
    "\n",
    "Now that we have all of the simulated dice rolls, we want to get the sum of the dice rolls for each trial. To do this, we can use the `.sum` function and specify that we want the sum of every row (as opposed to the sum of all the numbers, or the sum by column) with the `axis` key word argument."
   ]
  },
  {
   "cell_type": "code",
   "execution_count": 18,
   "metadata": {},
   "outputs": [
    {
     "data": {
      "text/plain": [
       "array([ 6, 11, 11, ...,  6, 14, 12])"
      ]
     },
     "execution_count": 18,
     "metadata": {},
     "output_type": "execute_result"
    }
   ],
   "source": [
    "sums_by_trial = rolls.sum(axis=1)\n",
    "sums_by_trial"
   ]
  },
  {
   "cell_type": "markdown",
   "metadata": {},
   "source": [
    "Let's pause here for a minute and visualize the data we have:"
   ]
  },
  {
   "cell_type": "code",
   "execution_count": 19,
   "metadata": {},
   "outputs": [
    {
     "data": {
      "image/png": "[encoded data removed]",
      "text/plain": [
       "<Figure size 648x432 with 1 Axes>"
      ]
     },
     "metadata": {
      "needs_background": "light"
     },
     "output_type": "display_data"
    }
   ],
   "source": [
    "viz.simulation_example1(sums_by_trial)"
   ]
  },
  {
   "cell_type": "markdown",
   "metadata": {},
   "source": [
    "The area shaded in lightblue represents our chance of winning, that is, the number of times that the sum of 3 dice rolls is greater than 12.\n",
    "\n",
    "We can now convert each value in our array to a boolean value indicating whether or not we won:"
   ]
  },
  {
   "cell_type": "code",
   "execution_count": 20,
   "metadata": {},
   "outputs": [],
   "source": [
    "wins = sums_by_trial > 12"
   ]
  },
  {
   "cell_type": "markdown",
   "metadata": {},
   "source": [
    "To calculate an overall win rate, we can treat each win as a `1` and each loss as `0`, then take the average of the array:"
   ]
  },
  {
   "cell_type": "code",
   "execution_count": 21,
   "metadata": {},
   "outputs": [],
   "source": [
    "win_rate = wins.mean()"
   ]
  },
  {
   "cell_type": "code",
   "execution_count": 22,
   "metadata": {},
   "outputs": [
    {
     "data": {
      "text/plain": [
       "0.2586"
      ]
     },
     "execution_count": 22,
     "metadata": {},
     "output_type": "execute_result"
    }
   ],
   "source": [
    "win_rate"
   ]
  },
  {
   "cell_type": "markdown",
   "metadata": {},
   "source": [
    "Now that we know our win rate, we can calculate the expected profit:"
   ]
  },
  {
   "cell_type": "code",
   "execution_count": null,
   "metadata": {},
   "outputs": [],
   "source": []
  },
  {
   "cell_type": "code",
   "execution_count": 23,
   "metadata": {},
   "outputs": [
    {
     "data": {
      "text/plain": [
       "-1.121"
      ]
     },
     "execution_count": 23,
     "metadata": {},
     "output_type": "execute_result"
    }
   ],
   "source": [
    "expected_winnings = win_rate * 15\n",
    "cost = 5\n",
    "expected_profit = expected_winnings - cost\n",
    "expected_profit"
   ]
  },
  {
   "cell_type": "markdown",
   "metadata": {},
   "source": [
    "So we would expect, based on our simulations, on average, to lose a little over a dollar everytime we play this game.\n",
    "\n",
    "To answer the last part of the question, we can recalculate our win rate based on the sums being greater than or equal to 12:"
   ]
  },
  {
   "cell_type": "code",
   "execution_count": 24,
   "metadata": {},
   "outputs": [
    {
     "data": {
      "text/plain": [
       "0.5889999999999995"
      ]
     },
     "execution_count": 24,
     "metadata": {},
     "output_type": "execute_result"
    }
   ],
   "source": [
    "wins = sums_by_trial >= 12\n",
    "win_rate = wins.mean()\n",
    "expected_winnings = win_rate * 15\n",
    "cost = 5\n",
    "expected_profit = expected_winnings - cost\n",
    "expected_profit"
   ]
  },
  {
   "cell_type": "markdown",
   "metadata": {},
   "source": [
    "If our win condition changes to the sum being greater than or equal to 12, then, based on our simulations, on average, we expect to win about 58 cents."
   ]
  },
  {
   "cell_type": "markdown",
   "metadata": {},
   "source": [
    "## Mini Exercise:\n",
    "\n",
    "What is the probability of rolling \"snake eyes\" on a roll of two (fair) dice?"
   ]
  },
  {
   "cell_type": "code",
   "execution_count": 25,
   "metadata": {},
   "outputs": [
    {
     "data": {
      "text/plain": [
       "array([[6, 6],\n",
       "       [4, 3],\n",
       "       [2, 2],\n",
       "       ...,\n",
       "       [4, 6],\n",
       "       [2, 5],\n",
       "       [2, 2]])"
      ]
     },
     "execution_count": 25,
     "metadata": {},
     "output_type": "execute_result"
    }
   ],
   "source": [
    "n_trials = n_rows = 10_000\n",
    "n_dice = n_cols = 2\n",
    "\n",
    "rolls = np.random.choice(possible_outcomes, n_trials * n_dice).reshape(n_rows, n_cols)\n",
    "rolls"
   ]
  },
  {
   "cell_type": "code",
   "execution_count": 26,
   "metadata": {},
   "outputs": [
    {
     "data": {
      "text/plain": [
       "array([12,  7,  4, ..., 10,  7,  4])"
      ]
     },
     "execution_count": 26,
     "metadata": {},
     "output_type": "execute_result"
    }
   ],
   "source": [
    "sums_by_trial = rolls.sum(axis=1)\n",
    "sums_by_trial"
   ]
  },
  {
   "cell_type": "code",
   "execution_count": 27,
   "metadata": {},
   "outputs": [
    {
     "data": {
      "text/plain": [
       "array([False, False, False, ..., False, False, False])"
      ]
     },
     "execution_count": 27,
     "metadata": {},
     "output_type": "execute_result"
    }
   ],
   "source": [
    "wins = sums_by_trial == 2\n",
    "wins"
   ]
  },
  {
   "cell_type": "code",
   "execution_count": 28,
   "metadata": {},
   "outputs": [
    {
     "data": {
      "text/plain": [
       "0.0271"
      ]
     },
     "execution_count": 28,
     "metadata": {},
     "output_type": "execute_result"
    }
   ],
   "source": [
    "win_rate = wins.mean()\n",
    "win_rate"
   ]
  },
  {
   "cell_type": "markdown",
   "metadata": {},
   "source": [
    "### No Rest or Relaxation\n",
    "\n",
    "> There's a 30% chance my son takes a nap on any given weekend day. What is the chance that he takes a nap at least one day this weekend? What is the probability that he doesn't nap at all?\n",
    "\n",
    "Let's first do a little bit of setup:"
   ]
  },
  {
   "cell_type": "code",
   "execution_count": 29,
   "metadata": {},
   "outputs": [],
   "source": [
    "p_nap = 0.3\n",
    "ndays = n_cols = 2\n",
    "n_simulated_weekends = n_rows = 10_000"
   ]
  },
  {
   "cell_type": "markdown",
   "metadata": {},
   "source": [
    "To simulate the results from many weekends, we'll create a 2 x 10,000 matrix, with 2 being the number of days in a weekend and 10,000 being the number of simulations we want to run.\n",
    "\n",
    "To determine whether or not a nap is taken on a given day, we'll generate a random number between 0 and 1, and say that it is a nap if it is less than our probability of taking a nap."
   ]
  },
  {
   "cell_type": "code",
   "execution_count": 30,
   "metadata": {},
   "outputs": [],
   "source": [
    "naps = np.random.random((n_rows, n_cols))"
   ]
  },
  {
   "cell_type": "code",
   "execution_count": 31,
   "metadata": {},
   "outputs": [
    {
     "data": {
      "text/plain": [
       "array([[0.18524057, 0.29228782],\n",
       "       [0.64109676, 0.98283055],\n",
       "       [0.64218136, 0.6191205 ],\n",
       "       [0.36268078, 0.54111617],\n",
       "       [0.99423743, 0.92867078],\n",
       "       [0.67358305, 0.62189048],\n",
       "       [0.00721732, 0.58358248],\n",
       "       [0.94611047, 0.61110141],\n",
       "       [0.67978087, 0.8339732 ],\n",
       "       [0.01857456, 0.76816557]])"
      ]
     },
     "execution_count": 31,
     "metadata": {},
     "output_type": "execute_result"
    }
   ],
   "source": [
    "naps[:10]"
   ]
  },
  {
   "cell_type": "code",
   "execution_count": 32,
   "metadata": {},
   "outputs": [],
   "source": [
    "naps = naps < p_nap"
   ]
  },
  {
   "cell_type": "code",
   "execution_count": 33,
   "metadata": {},
   "outputs": [
    {
     "data": {
      "text/plain": [
       "array([[ True,  True],\n",
       "       [False, False],\n",
       "       [False, False],\n",
       "       ...,\n",
       "       [False, False],\n",
       "       [False,  True],\n",
       "       [ True,  True]])"
      ]
     },
     "execution_count": 33,
     "metadata": {},
     "output_type": "execute_result"
    }
   ],
   "source": [
    "naps"
   ]
  },
  {
   "cell_type": "markdown",
   "metadata": {},
   "source": [
    "Now that we have each day as either true or false, we can take the sum of each row to find the total number of naps for the weekend. When we sum an array of boolean values, numpy will treat `True` as 1 and `False` as 0."
   ]
  },
  {
   "cell_type": "code",
   "execution_count": 34,
   "metadata": {},
   "outputs": [
    {
     "data": {
      "text/plain": [
       "array([2, 0, 0, ..., 0, 1, 2])"
      ]
     },
     "execution_count": 34,
     "metadata": {},
     "output_type": "execute_result"
    }
   ],
   "source": [
    "naps.sum(axis=1)"
   ]
  },
  {
   "cell_type": "markdown",
   "metadata": {},
   "source": [
    "Now we have the results of our simulation, an array where each number in the array represents how many naps were taken in a two day weekend."
   ]
  },
  {
   "cell_type": "code",
   "execution_count": 35,
   "metadata": {},
   "outputs": [
    {
     "data": {
      "image/png": "[encoded data removed]",
      "text/plain": [
       "<Figure size 648x432 with 1 Axes>"
      ]
     },
     "metadata": {
      "needs_background": "light"
     },
     "output_type": "display_data"
    }
   ],
   "source": [
    "viz.simulation_example2(naps)"
   ]
  },
  {
   "cell_type": "markdown",
   "metadata": {},
   "source": [
    "We can use this to answer our original questions, what is the probability that at least one nap is taken?"
   ]
  },
  {
   "cell_type": "code",
   "execution_count": 36,
   "metadata": {},
   "outputs": [
    {
     "data": {
      "text/plain": [
       "0.5083"
      ]
     },
     "execution_count": 36,
     "metadata": {},
     "output_type": "execute_result"
    }
   ],
   "source": [
    "(naps.sum(axis=1) > 0).mean()"
   ]
  },
  {
   "cell_type": "markdown",
   "metadata": {},
   "source": [
    "What is the probability no naps are taken?"
   ]
  },
  {
   "cell_type": "code",
   "execution_count": 37,
   "metadata": {},
   "outputs": [
    {
     "data": {
      "text/plain": [
       "0.4917"
      ]
     },
     "execution_count": 37,
     "metadata": {},
     "output_type": "execute_result"
    }
   ],
   "source": [
    "(naps.sum(axis=1) == 0).mean()"
   ]
  },
  {
   "cell_type": "code",
   "execution_count": 38,
   "metadata": {},
   "outputs": [
    {
     "data": {
      "text/plain": [
       "0.0965"
      ]
     },
     "execution_count": 38,
     "metadata": {},
     "output_type": "execute_result"
    }
   ],
   "source": [
    "(naps.sum(axis=1) > 1).mean()"
   ]
  },
  {
   "cell_type": "code",
   "execution_count": null,
   "metadata": {},
   "outputs": [],
   "source": []
  },
  {
   "cell_type": "markdown",
   "metadata": {},
   "source": [
    "## Mini Exercise:\n",
    "\n",
    "There are ten options in a blind-box style collectable, but you are only likely to get the one you want the most at a probability of one out of every twenty boxes because its a little rarer.\n",
    "\n",
    "What is the probability of getting your desired collectable if you buy three blindbox toys?"
   ]
  },
  {
   "cell_type": "code",
   "execution_count": 39,
   "metadata": {},
   "outputs": [],
   "source": [
    "p_fav = 0.05\n",
    "nplays = n_cols = 3\n",
    "n_trials = n_rows = 10_000"
   ]
  },
  {
   "cell_type": "code",
   "execution_count": 40,
   "metadata": {},
   "outputs": [
    {
     "data": {
      "text/plain": [
       "array([[0.46190398, 0.59071453, 0.88420398],\n",
       "       [0.76071154, 0.11294317, 0.85745105],\n",
       "       [0.3217642 , 0.30661593, 0.90808991],\n",
       "       ...,\n",
       "       [0.2046499 , 0.55091891, 0.70115111],\n",
       "       [0.25669068, 0.1844005 , 0.9081634 ],\n",
       "       [0.55108994, 0.62560593, 0.63305804]])"
      ]
     },
     "execution_count": 40,
     "metadata": {},
     "output_type": "execute_result"
    }
   ],
   "source": [
    "tests = np.random.random((n_rows, n_cols))\n",
    "tests"
   ]
  },
  {
   "cell_type": "code",
   "execution_count": 41,
   "metadata": {},
   "outputs": [
    {
     "data": {
      "text/plain": [
       "array([[False, False, False],\n",
       "       [False, False, False],\n",
       "       [False, False, False],\n",
       "       ...,\n",
       "       [False, False, False],\n",
       "       [False, False, False],\n",
       "       [False, False, False]])"
      ]
     },
     "execution_count": 41,
     "metadata": {},
     "output_type": "execute_result"
    }
   ],
   "source": [
    "success = tests < p_fav\n",
    "success"
   ]
  },
  {
   "cell_type": "code",
   "execution_count": 42,
   "metadata": {},
   "outputs": [
    {
     "data": {
      "text/plain": [
       "0.1382"
      ]
     },
     "execution_count": 42,
     "metadata": {},
     "output_type": "execute_result"
    }
   ],
   "source": [
    "(success.sum(axis=1) > 0).mean()"
   ]
  },
  {
   "cell_type": "markdown",
   "metadata": {},
   "source": [
    "### One With Dataframes\n",
    "\n",
    "Let's take a look at one more problem:\n",
    "\n",
    "> What is the probability of getting at least one 3 in 3 dice rolls?\n",
    "\n",
    "To simulate this, we'll use a similar strategy to how we modeled the dice rolls in the previous example, but this time, we'll store the results in a pandas dataframe so that we can apply a lambda function that will check to see if one of the rolls was a 3."
   ]
  },
  {
   "cell_type": "code",
   "execution_count": 43,
   "metadata": {},
   "outputs": [],
   "source": [
    "n_trials = nrows = 10 ** 6\n",
    "n_dice_rolled = ncols = 3\n",
    "\n",
    "rolls = np.random.choice(possible_outcomes, n_trials * n_dice_rolled).reshape(nrows, ncols)"
   ]
  },
  {
   "cell_type": "code",
   "execution_count": 44,
   "metadata": {},
   "outputs": [
    {
     "data": {
      "text/plain": [
       "0         False\n",
       "1          True\n",
       "2         False\n",
       "3          True\n",
       "4         False\n",
       "          ...  \n",
       "999995    False\n",
       "999996     True\n",
       "999997    False\n",
       "999998    False\n",
       "999999     True\n",
       "Length: 1000000, dtype: bool"
      ]
     },
     "execution_count": 44,
     "metadata": {},
     "output_type": "execute_result"
    }
   ],
   "source": [
    "pd.DataFrame(rolls).apply(lambda row: 3 in row.values, axis=1)"
   ]
  },
  {
   "cell_type": "code",
   "execution_count": 45,
   "metadata": {},
   "outputs": [
    {
     "data": {
      "text/plain": [
       "0.421527"
      ]
     },
     "execution_count": 45,
     "metadata": {},
     "output_type": "execute_result"
    }
   ],
   "source": [
    "pd.DataFrame(rolls).apply(lambda row: 3 in row.values, axis=1).mean()"
   ]
  },
  {
   "cell_type": "markdown",
   "metadata": {},
   "source": [
    "Let's break down what's going on here:\n",
    "\n",
    "1. First we assign values for the number of rows and columns we are going to use\n",
    "1. Next we create the `rolls` variable that holds a 3 x 10,000 matrix where each element is a randomly chosen number from 1 to 6\n",
    "1. Lastly we create a dataframe from the rolls\n",
    "    1. `pd.DataFrame(rolls)` converts our 2d numpy matrix to a pandas DataFrame\n",
    "    1. `.apply(...` applies a function to each **row** in our dataframe, because we specified `axis=1`, the function will be called with each row as it's argument. The body of the function checks to see if the value `3` is in the values of the row, and will return either `True` or `False`\n",
    "    1. `.mean()` takes our resulting series of boolean values, and treats `True` as 1 and `False` as 0, to give us the average rate of `True`s, in this case, the simulated probability of getting a 3 in 3 dice rolls."
   ]
  },
  {
   "cell_type": "markdown",
   "metadata": {},
   "source": [
    "## Mini Exercise:\n",
    "\n",
    "Recreate the blindbox problem utilizing the above strategy!\n"
   ]
  },
  {
   "cell_type": "code",
   "execution_count": 46,
   "metadata": {},
   "outputs": [],
   "source": [
    "p_fav = 0.05\n",
    "nplays = n_cols = 3\n",
    "n_trials = n_rows = 10_000"
   ]
  },
  {
   "cell_type": "code",
   "execution_count": 47,
   "metadata": {},
   "outputs": [
    {
     "data": {
      "text/plain": [
       "array([[0.90388223, 0.63535659, 0.42247723],\n",
       "       [0.91952571, 0.61142113, 0.41237677],\n",
       "       [0.09147618, 0.15018211, 0.23808321],\n",
       "       ...,\n",
       "       [0.31770538, 0.79834288, 0.04716317],\n",
       "       [0.20084301, 0.01538891, 0.58192146],\n",
       "       [0.40327877, 0.74174039, 0.38113355]])"
      ]
     },
     "execution_count": 47,
     "metadata": {},
     "output_type": "execute_result"
    }
   ],
   "source": [
    "tests = np.random.random((n_rows, n_cols))\n",
    "tests"
   ]
  },
  {
   "cell_type": "code",
   "execution_count": 48,
   "metadata": {},
   "outputs": [
    {
     "data": {
      "text/plain": [
       "0    0.0498\n",
       "1    0.0519\n",
       "2    0.0511\n",
       "dtype: float64"
      ]
     },
     "execution_count": 48,
     "metadata": {},
     "output_type": "execute_result"
    }
   ],
   "source": [
    "pd.DataFrame(tests).apply(lambda x: x<p_fav, axis=1).mean()"
   ]
  },
  {
   "cell_type": "code",
   "execution_count": 49,
   "metadata": {},
   "outputs": [],
   "source": [
    "# diferent method...\n",
    "n_rows = 10_000\n",
    "n_cols = 3\n",
    "outcomes = [1,2,3,4,5,6,7,8,9,10]\n",
    "prob_win = 0.05\n",
    "prob_others = (1-prob_win)/9"
   ]
  },
  {
   "cell_type": "code",
   "execution_count": 50,
   "metadata": {},
   "outputs": [],
   "source": [
    "data = np.random.choice(outcomes, n_rows * n_cols, p=[prob_win, prob_others, prob_others, prob_others, prob_others, prob_others, prob_others, prob_others, prob_others, prob_others]).reshape(n_rows, n_cols)"
   ]
  },
  {
   "cell_type": "code",
   "execution_count": 51,
   "metadata": {},
   "outputs": [
    {
     "data": {
      "text/plain": [
       "array([[2, 4, 7],\n",
       "       [6, 6, 9],\n",
       "       [3, 7, 7],\n",
       "       [7, 8, 4],\n",
       "       [4, 2, 1]])"
      ]
     },
     "execution_count": 51,
     "metadata": {},
     "output_type": "execute_result"
    }
   ],
   "source": [
    "data[:5]"
   ]
  },
  {
   "cell_type": "code",
   "execution_count": 52,
   "metadata": {},
   "outputs": [
    {
     "data": {
      "text/plain": [
       "0.1395"
      ]
     },
     "execution_count": 52,
     "metadata": {},
     "output_type": "execute_result"
    }
   ],
   "source": [
    "pd.DataFrame(data).apply(lambda row: 1 in row.values, axis=1).mean()"
   ]
  },
  {
   "cell_type": "markdown",
   "metadata": {},
   "source": [
    "## Exercises\n",
    "\n",
    "Within your `codeup-data-science directory`, create a directory named `statistics-exercises`. This will be where you do your work for this module. Create a repository on GitHub with the same name, and link your local repository to GitHub.\n",
    "\n",
    "Do your work for this exercise in either a python file named `simulation.py` or a jupyter notebook named `simulation.ipynb`."
   ]
  },
  {
   "cell_type": "markdown",
   "metadata": {},
   "source": [
    "1. How likely is it that you roll doubles when rolling two dice?"
   ]
  },
  {
   "cell_type": "code",
   "execution_count": 53,
   "metadata": {},
   "outputs": [
    {
     "data": {
      "text/plain": [
       "0.16666666666666666"
      ]
     },
     "execution_count": 53,
     "metadata": {},
     "output_type": "execute_result"
    }
   ],
   "source": [
    "# first I am going to solve the problem mathematically, so I have a baseline and can get my bearings...\n",
    "(1/6)*(1/6)*6"
   ]
  },
  {
   "cell_type": "code",
   "execution_count": 54,
   "metadata": {},
   "outputs": [
    {
     "data": {
      "text/plain": [
       "array([[1, 1],\n",
       "       [1, 2],\n",
       "       [4, 1],\n",
       "       [3, 4],\n",
       "       [5, 5]])"
      ]
     },
     "execution_count": 54,
     "metadata": {},
     "output_type": "execute_result"
    }
   ],
   "source": [
    "# now programmatically\n",
    "n_trials = r_rows = 10_000\n",
    "n_dice = n_cols = 2\n",
    "possible_outcomes = [1,2,3,4,5,6]\n",
    "\n",
    "data = np.random.choice(possible_outcomes, n_rows * n_cols).reshape(n_rows, n_cols)\n",
    "data[:5]"
   ]
  },
  {
   "cell_type": "code",
   "execution_count": 55,
   "metadata": {},
   "outputs": [
    {
     "data": {
      "text/plain": [
       "0.1682"
      ]
     },
     "execution_count": 55,
     "metadata": {},
     "output_type": "execute_result"
    }
   ],
   "source": [
    "pd.DataFrame(data).apply(lambda x: x[0]==x[1] in x.values, axis=1).mean()"
   ]
  },
  {
   "cell_type": "code",
   "execution_count": 56,
   "metadata": {},
   "outputs": [
    {
     "data": {
      "text/plain": [
       "0.14579999999999999"
      ]
     },
     "execution_count": 56,
     "metadata": {},
     "output_type": "execute_result"
    }
   ],
   "source": [
    "# another way to do this would be to do the snake eyes method, and then multiply by 6\n",
    "# since each set of doubles has an identical chance of occurring\n",
    "n_trials = n_rows = 10_000\n",
    "n_dice = n_cols = 2\n",
    "\n",
    "rolls = np.random.choice(possible_outcomes, n_trials * n_dice).reshape(n_rows, n_cols)\n",
    "\n",
    "sums_by_trial = rolls.sum(axis=1)\n",
    "\n",
    "wins = sums_by_trial == 2\n",
    "\n",
    "win_rate = wins.mean()\n",
    "\n",
    "doubles = win_rate*6\n",
    "doubles\n"
   ]
  },
  {
   "cell_type": "code",
   "execution_count": null,
   "metadata": {},
   "outputs": [],
   "source": []
  },
  {
   "cell_type": "markdown",
   "metadata": {},
   "source": [
    "2. If you flip 8 coins, what is the probability of getting exactly 3 heads? "
   ]
  },
  {
   "cell_type": "code",
   "execution_count": 57,
   "metadata": {},
   "outputs": [],
   "source": [
    "# first let's solve this mathematically, to make sure our work in the future is correct\n",
    "#  you can get exactly 3 heads\n",
    "\n"
   ]
  },
  {
   "cell_type": "code",
   "execution_count": 58,
   "metadata": {},
   "outputs": [
    {
     "data": {
      "text/plain": [
       "array([[1, 1, 0, ..., 1, 0, 1],\n",
       "       [1, 0, 1, ..., 1, 1, 0],\n",
       "       [0, 1, 0, ..., 1, 0, 1],\n",
       "       ...,\n",
       "       [1, 1, 1, ..., 1, 1, 0],\n",
       "       [0, 1, 0, ..., 0, 1, 1],\n",
       "       [0, 1, 0, ..., 1, 0, 0]])"
      ]
     },
     "execution_count": 58,
     "metadata": {},
     "output_type": "execute_result"
    }
   ],
   "source": [
    "n_trials = n_rows = 10_000\n",
    "n_coins = n_cols = 8\n",
    "\n",
    "heads = 1\n",
    "tails =0\n",
    "\n",
    "outcomes = [heads, tails]\n",
    "\n",
    "flips = np.random.choice(outcomes, n_coins * n_trials).reshape(n_trials, n_coins)\n",
    "flips\n",
    "\n"
   ]
  },
  {
   "cell_type": "code",
   "execution_count": 59,
   "metadata": {},
   "outputs": [
    {
     "data": {
      "text/plain": [
       "array([5, 5, 4, ..., 6, 4, 3])"
      ]
     },
     "execution_count": 59,
     "metadata": {},
     "output_type": "execute_result"
    }
   ],
   "source": [
    "sum_by_flips = flips.sum(axis=1)\n",
    "sum_by_flips"
   ]
  },
  {
   "cell_type": "code",
   "execution_count": 60,
   "metadata": {},
   "outputs": [
    {
     "data": {
      "text/plain": [
       "0.2205"
      ]
     },
     "execution_count": 60,
     "metadata": {},
     "output_type": "execute_result"
    }
   ],
   "source": [
    "exactly_three = (sum_by_flips==3).mean()\n",
    "exactly_three"
   ]
  },
  {
   "cell_type": "markdown",
   "metadata": {},
   "source": [
    "What is the probability of getting more than 3 heads?"
   ]
  },
  {
   "cell_type": "code",
   "execution_count": 61,
   "metadata": {},
   "outputs": [
    {
     "data": {
      "text/plain": [
       "array([[1, 0, 1, ..., 1, 0, 0],\n",
       "       [1, 1, 1, ..., 0, 1, 0],\n",
       "       [1, 0, 1, ..., 1, 1, 0],\n",
       "       ...,\n",
       "       [1, 0, 0, ..., 0, 0, 1],\n",
       "       [0, 1, 0, ..., 0, 1, 1],\n",
       "       [0, 0, 0, ..., 1, 0, 1]])"
      ]
     },
     "execution_count": 61,
     "metadata": {},
     "output_type": "execute_result"
    }
   ],
   "source": [
    "n_trials = n_rows = 10_000\n",
    "n_coins = n_cols = 8\n",
    "\n",
    "heads = 1\n",
    "tails = 0\n",
    "\n",
    "outcomes = [heads, tails]\n",
    "\n",
    "flips = np.random.choice(outcomes, n_coins * n_trials).reshape(n_trials, n_coins)\n",
    "flips"
   ]
  },
  {
   "cell_type": "code",
   "execution_count": 62,
   "metadata": {},
   "outputs": [
    {
     "data": {
      "text/plain": [
       "array([3, 6, 6, ..., 3, 4, 3])"
      ]
     },
     "execution_count": 62,
     "metadata": {},
     "output_type": "execute_result"
    }
   ],
   "source": [
    "sum_by_flips = flips.sum(axis=1)\n",
    "sum_by_flips"
   ]
  },
  {
   "cell_type": "code",
   "execution_count": 63,
   "metadata": {},
   "outputs": [
    {
     "data": {
      "text/plain": [
       "0.6378"
      ]
     },
     "execution_count": 63,
     "metadata": {},
     "output_type": "execute_result"
    }
   ],
   "source": [
    "more_than_three = (sum_by_flips>3).mean()\n",
    "more_than_three"
   ]
  },
  {
   "cell_type": "code",
   "execution_count": null,
   "metadata": {},
   "outputs": [],
   "source": []
  },
  {
   "cell_type": "markdown",
   "metadata": {},
   "source": [
    "3. There are approximitely 3 web development cohorts for every 1 data science cohort at Codeup. Assuming that Codeup randomly selects an alumni to put on a billboard, what are the odds that the two billboards I drive past both have data science students on them?"
   ]
  },
  {
   "cell_type": "code",
   "execution_count": 64,
   "metadata": {},
   "outputs": [
    {
     "data": {
      "text/plain": [
       "array([[1, 3],\n",
       "       [3, 3],\n",
       "       [3, 3],\n",
       "       ...,\n",
       "       [3, 3],\n",
       "       [1, 1],\n",
       "       [3, 3]])"
      ]
     },
     "execution_count": 64,
     "metadata": {},
     "output_type": "execute_result"
    }
   ],
   "source": [
    "# let's assume each cohort has the same number of students\n",
    "\n",
    "n_trials = n_rows = 10_000\n",
    "n_draw = n_cols = 2\n",
    "\n",
    "outcomes = [3,1]\n",
    "\n",
    "prob_wb = 0.75\n",
    "prob_ds = 1-prob_wb\n",
    "\n",
    "data = np.random.choice(outcomes, n_rows * n_cols, p=[prob_wb, prob_ds]).reshape(n_rows, n_cols)\n",
    "data"
   ]
  },
  {
   "cell_type": "code",
   "execution_count": null,
   "metadata": {},
   "outputs": [],
   "source": []
  },
  {
   "cell_type": "code",
   "execution_count": 65,
   "metadata": {},
   "outputs": [
    {
     "data": {
      "text/plain": [
       "array([4, 6, 6, ..., 6, 2, 6])"
      ]
     },
     "execution_count": 65,
     "metadata": {},
     "output_type": "execute_result"
    }
   ],
   "source": [
    "sum_it_up = data.sum(axis=1)\n",
    "sum_it_up"
   ]
  },
  {
   "cell_type": "code",
   "execution_count": 66,
   "metadata": {},
   "outputs": [
    {
     "data": {
      "text/plain": [
       "0.0614"
      ]
     },
     "execution_count": 66,
     "metadata": {},
     "output_type": "execute_result"
    }
   ],
   "source": [
    "double_ds = (sum_it_up == 2).mean()\n",
    "double_ds"
   ]
  },
  {
   "cell_type": "code",
   "execution_count": null,
   "metadata": {},
   "outputs": [],
   "source": []
  },
  {
   "cell_type": "markdown",
   "metadata": {},
   "source": [
    "4. Codeup students buy, on average, 3 poptart packages (+- 1.5) a day from the snack vending machine. If on monday the machine is restocked with 17 poptart packages, how likely is it that I will be able to buy some poptarts on Friday afternoon?"
   ]
  },
  {
   "cell_type": "code",
   "execution_count": 67,
   "metadata": {},
   "outputs": [
    {
     "data": {
      "text/plain": [
       "array([[3.17317878, 4.34320172, 1.79818967, 3.72628749, 3.32456431],\n",
       "       [2.53269154, 3.59368194, 2.91677492, 2.88253772, 1.24946686],\n",
       "       [2.19351905, 2.51422637, 5.14692721, 3.79159344, 2.79119592],\n",
       "       ...,\n",
       "       [4.96245737, 6.13732849, 2.46683366, 2.04411034, 3.62661697],\n",
       "       [0.56379143, 1.19838439, 3.00140138, 3.03792432, 3.25052925],\n",
       "       [2.70914035, 1.31597063, 4.87940622, 3.38321013, 1.8148605 ]])"
      ]
     },
     "execution_count": 67,
     "metadata": {},
     "output_type": "execute_result"
    }
   ],
   "source": [
    "n_trials = n_rows = 10_000\n",
    "n_days = n_cols = 5\n",
    "\n",
    "testing = np.random.normal(3, 1.5, size =(n_trials, n_days))\n",
    "testing"
   ]
  },
  {
   "cell_type": "code",
   "execution_count": 68,
   "metadata": {},
   "outputs": [
    {
     "data": {
      "text/plain": [
       "array([16.36542197, 13.17515299, 16.43746198, ..., 19.23734683,\n",
       "       11.05203077, 14.10258783])"
      ]
     },
     "execution_count": 68,
     "metadata": {},
     "output_type": "execute_result"
    }
   ],
   "source": [
    "testing_sums = testing.sum(axis=1)\n",
    "testing_sums"
   ]
  },
  {
   "cell_type": "code",
   "execution_count": 69,
   "metadata": {},
   "outputs": [
    {
     "data": {
      "text/plain": [
       "0.725"
      ]
     },
     "execution_count": 69,
     "metadata": {},
     "output_type": "execute_result"
    }
   ],
   "source": [
    "yes_poptarts = (testing_sums < 17).mean()\n",
    "yes_poptarts"
   ]
  },
  {
   "cell_type": "markdown",
   "metadata": {},
   "source": [
    "5. Compare Heights\n",
    "\n",
    "    - Men have an average height of 178 cm and standard deviation of 8cm.\n",
    "    - Women have a mean of 170, sd = 6cm.\n",
    "    - If a man and woman are chosen at random, P(woman taller than man)?"
   ]
  },
  {
   "cell_type": "code",
   "execution_count": 70,
   "metadata": {},
   "outputs": [
    {
     "data": {
      "text/plain": [
       "array([[164.85567623, 162.55116268],\n",
       "       [178.50451268, 156.45432892],\n",
       "       [157.41566642, 168.07189581],\n",
       "       ...,\n",
       "       [181.32316483, 166.18913605],\n",
       "       [177.71824542, 173.07697128],\n",
       "       [163.36663411, 161.98614291]])"
      ]
     },
     "execution_count": 70,
     "metadata": {},
     "output_type": "execute_result"
    }
   ],
   "source": [
    "n_rows = 10_000\n",
    "n_cols = 2\n",
    "\n",
    "# create normal distribution of Men's height\n",
    "men_dist = np.random.normal(178, 8, size=(10_000,1))\n",
    "# create normal distribution of Women's height\n",
    "women_dist = np.random.normal(170, 6, size=(10_000,1))\n",
    "\n",
    "both_dist = np.column_stack((men_dist, women_dist))\n",
    "both_dist\n"
   ]
  },
  {
   "cell_type": "code",
   "execution_count": 71,
   "metadata": {},
   "outputs": [
    {
     "data": {
      "text/plain": [
       "array([[  2.30451355],\n",
       "       [ 22.05018376],\n",
       "       [-10.65622938],\n",
       "       ...,\n",
       "       [ 15.13402878],\n",
       "       [  4.64127414],\n",
       "       [  1.38049119]])"
      ]
     },
     "execution_count": 71,
     "metadata": {},
     "output_type": "execute_result"
    }
   ],
   "source": [
    "men_women = np.subtract(men_dist, women_dist)\n",
    "men_women"
   ]
  },
  {
   "cell_type": "code",
   "execution_count": 72,
   "metadata": {},
   "outputs": [
    {
     "data": {
      "text/plain": [
       "0.211"
      ]
     },
     "execution_count": 72,
     "metadata": {},
     "output_type": "execute_result"
    }
   ],
   "source": [
    "women_men = (men_women < 0).mean()\n",
    "women_men"
   ]
  },
  {
   "cell_type": "markdown",
   "metadata": {},
   "source": [
    "6. When installing anaconda on a student's computer, there's a 1 in 250 chance\n",
    "   that the download is corrupted and the installation fails. What are the odds\n",
    "   that after having 50 students download anaconda, no one has an installation\n",
    "   issue?  100 students?\n",
    "\n",
    "    What is the probability that we observe an installation issue within the first\n",
    "    150 students that download anaconda?\n",
    "\n",
    "    How likely is it that 450 students all download anaconda without an issue?"
   ]
  },
  {
   "cell_type": "code",
   "execution_count": 73,
   "metadata": {},
   "outputs": [
    {
     "data": {
      "text/plain": [
       "array([[1, 1, 1, ..., 1, 1, 1],\n",
       "       [1, 1, 1, ..., 1, 1, 1],\n",
       "       [1, 1, 1, ..., 1, 1, 1],\n",
       "       ...,\n",
       "       [1, 1, 1, ..., 1, 1, 1],\n",
       "       [1, 1, 1, ..., 1, 1, 1],\n",
       "       [1, 1, 1, ..., 1, 1, 1]])"
      ]
     },
     "execution_count": 73,
     "metadata": {},
     "output_type": "execute_result"
    }
   ],
   "source": [
    "# fail = 0\n",
    "# succeed = 1\n",
    "n_trials = n_rows = 10_000\n",
    "n_students = n_cols = 50\n",
    "fail_prob = (1/250)\n",
    "no_fail = 1-fail_prob\n",
    "outcomes = [0,1]\n",
    "\n",
    "fifty_test = np.random.choice(outcomes, n_cols * n_rows, p = [fail_prob, no_fail]).reshape(n_rows, n_cols)\n",
    "fifty_test\n",
    "\n"
   ]
  },
  {
   "cell_type": "code",
   "execution_count": 74,
   "metadata": {},
   "outputs": [
    {
     "data": {
      "text/plain": [
       "array([50, 50, 50, ..., 50, 49, 50])"
      ]
     },
     "execution_count": 74,
     "metadata": {},
     "output_type": "execute_result"
    }
   ],
   "source": [
    "fifty_totals = fifty_test.sum(axis=1)\n",
    "fifty_totals"
   ]
  },
  {
   "cell_type": "code",
   "execution_count": 75,
   "metadata": {},
   "outputs": [
    {
     "data": {
      "text/plain": [
       "0.1767"
      ]
     },
     "execution_count": 75,
     "metadata": {},
     "output_type": "execute_result"
    }
   ],
   "source": [
    "fifty_fail = (fifty_totals<50).mean()\n",
    "fifty_fail"
   ]
  },
  {
   "cell_type": "code",
   "execution_count": 76,
   "metadata": {},
   "outputs": [
    {
     "data": {
      "text/plain": [
       "0.8233"
      ]
     },
     "execution_count": 76,
     "metadata": {},
     "output_type": "execute_result"
    }
   ],
   "source": [
    "fifty_success = 1-fifty_fail\n",
    "fifty_success"
   ]
  },
  {
   "cell_type": "code",
   "execution_count": 77,
   "metadata": {},
   "outputs": [
    {
     "data": {
      "text/plain": [
       "array([[1, 1, 1, ..., 1, 1, 1],\n",
       "       [1, 1, 1, ..., 1, 1, 1],\n",
       "       [1, 1, 1, ..., 1, 1, 1],\n",
       "       ...,\n",
       "       [1, 1, 1, ..., 1, 1, 1],\n",
       "       [1, 1, 1, ..., 1, 1, 1],\n",
       "       [1, 1, 1, ..., 1, 1, 1]])"
      ]
     },
     "execution_count": 77,
     "metadata": {},
     "output_type": "execute_result"
    }
   ],
   "source": [
    "# 100 students\n",
    "# fail = 0\n",
    "# succeed = 1\n",
    "n_trials = n_rows = 10_000\n",
    "n_students = n_cols = 100\n",
    "fail_prob = (1/250)\n",
    "no_fail = 1-fail_prob\n",
    "outcomes = [0,1]\n",
    "\n",
    "hundred_test = np.random.choice(outcomes, n_cols * n_rows, p = [fail_prob, no_fail]).reshape(n_rows, n_cols)\n",
    "hundred_test"
   ]
  },
  {
   "cell_type": "code",
   "execution_count": 78,
   "metadata": {},
   "outputs": [
    {
     "data": {
      "text/plain": [
       "array([100, 100, 100, ..., 100, 100, 100])"
      ]
     },
     "execution_count": 78,
     "metadata": {},
     "output_type": "execute_result"
    }
   ],
   "source": [
    "hundred_totals = hundred_test.sum(axis=1)\n",
    "hundred_totals"
   ]
  },
  {
   "cell_type": "code",
   "execution_count": 79,
   "metadata": {},
   "outputs": [
    {
     "data": {
      "text/plain": [
       "0.3296"
      ]
     },
     "execution_count": 79,
     "metadata": {},
     "output_type": "execute_result"
    }
   ],
   "source": [
    "hundred_fail = (hundred_totals<100).mean()\n",
    "hundred_fail"
   ]
  },
  {
   "cell_type": "code",
   "execution_count": 80,
   "metadata": {},
   "outputs": [
    {
     "data": {
      "text/plain": [
       "0.6704"
      ]
     },
     "execution_count": 80,
     "metadata": {},
     "output_type": "execute_result"
    }
   ],
   "source": [
    "hundred_success = 1-hundred_fail\n",
    "hundred_success"
   ]
  },
  {
   "cell_type": "code",
   "execution_count": 81,
   "metadata": {},
   "outputs": [
    {
     "data": {
      "text/plain": [
       "array([[1, 1, 1, ..., 1, 1, 1],\n",
       "       [1, 1, 1, ..., 1, 1, 1],\n",
       "       [1, 1, 1, ..., 1, 1, 1],\n",
       "       ...,\n",
       "       [1, 1, 1, ..., 1, 1, 1],\n",
       "       [1, 1, 1, ..., 1, 1, 1],\n",
       "       [1, 1, 1, ..., 1, 1, 1]])"
      ]
     },
     "execution_count": 81,
     "metadata": {},
     "output_type": "execute_result"
    }
   ],
   "source": [
    "# 150 students\n",
    "# fail = 0\n",
    "# succeed = 1\n",
    "n_trials = n_rows = 10_000\n",
    "n_students = n_cols = 150\n",
    "fail_prob = (1/250)\n",
    "no_fail = 1-fail_prob\n",
    "outcomes = [0,1]\n",
    "\n",
    "hundred_fifty_test = np.random.choice(outcomes, n_cols * n_rows, p = [fail_prob, no_fail]).reshape(n_rows, n_cols)\n",
    "hundred_fifty_test\n"
   ]
  },
  {
   "cell_type": "code",
   "execution_count": 82,
   "metadata": {},
   "outputs": [
    {
     "data": {
      "text/plain": [
       "array([148, 150, 150, ..., 149, 147, 149])"
      ]
     },
     "execution_count": 82,
     "metadata": {},
     "output_type": "execute_result"
    }
   ],
   "source": [
    "hundred_fifty_totals = hundred_fifty_test.sum(axis=1)\n",
    "hundred_fifty_totals"
   ]
  },
  {
   "cell_type": "code",
   "execution_count": 83,
   "metadata": {},
   "outputs": [
    {
     "data": {
      "text/plain": [
       "0.4586"
      ]
     },
     "execution_count": 83,
     "metadata": {},
     "output_type": "execute_result"
    }
   ],
   "source": [
    "hundred_fifty_fail = (hundred_fifty_totals<150).mean()\n",
    "hundred_fifty_fail"
   ]
  },
  {
   "cell_type": "code",
   "execution_count": 84,
   "metadata": {},
   "outputs": [
    {
     "data": {
      "text/plain": [
       "0.5414"
      ]
     },
     "execution_count": 84,
     "metadata": {},
     "output_type": "execute_result"
    }
   ],
   "source": [
    "hundred_fifty_success = 1-hundred_fifty_fail\n",
    "hundred_fifty_success"
   ]
  },
  {
   "cell_type": "code",
   "execution_count": 85,
   "metadata": {},
   "outputs": [
    {
     "data": {
      "text/plain": [
       "array([[1, 1, 1, ..., 1, 1, 1],\n",
       "       [1, 1, 1, ..., 1, 1, 1],\n",
       "       [1, 1, 1, ..., 1, 1, 1],\n",
       "       ...,\n",
       "       [1, 1, 1, ..., 1, 1, 1],\n",
       "       [1, 1, 1, ..., 1, 1, 1],\n",
       "       [1, 1, 1, ..., 1, 1, 1]])"
      ]
     },
     "execution_count": 85,
     "metadata": {},
     "output_type": "execute_result"
    }
   ],
   "source": [
    "# 450 students\n",
    "# fail = 0\n",
    "# succeed = 1\n",
    "n_trials = n_rows = 10_000\n",
    "n_students = n_cols = 450\n",
    "fail_prob = (1/250)\n",
    "no_fail = 1-fail_prob\n",
    "outcomes = [0,1]\n",
    "\n",
    "four_fifty_test = np.random.choice(outcomes, n_cols * n_rows, p = [fail_prob, no_fail]).reshape(n_rows, n_cols)\n",
    "four_fifty_test"
   ]
  },
  {
   "cell_type": "code",
   "execution_count": 86,
   "metadata": {},
   "outputs": [
    {
     "data": {
      "text/plain": [
       "array([450, 449, 447, ..., 448, 449, 446])"
      ]
     },
     "execution_count": 86,
     "metadata": {},
     "output_type": "execute_result"
    }
   ],
   "source": [
    "four_fifty_totals = four_fifty_test.sum(axis=1)\n",
    "four_fifty_totals"
   ]
  },
  {
   "cell_type": "code",
   "execution_count": 87,
   "metadata": {},
   "outputs": [
    {
     "data": {
      "text/plain": [
       "0.8352"
      ]
     },
     "execution_count": 87,
     "metadata": {},
     "output_type": "execute_result"
    }
   ],
   "source": [
    "four_fifty_fail = (four_fifty_totals<450).mean()\n",
    "four_fifty_fail"
   ]
  },
  {
   "cell_type": "code",
   "execution_count": 88,
   "metadata": {},
   "outputs": [
    {
     "data": {
      "text/plain": [
       "0.16479999999999995"
      ]
     },
     "execution_count": 88,
     "metadata": {},
     "output_type": "execute_result"
    }
   ],
   "source": [
    "four_fifty_success = 1-four_fifty_fail\n",
    "four_fifty_success"
   ]
  },
  {
   "cell_type": "code",
   "execution_count": null,
   "metadata": {},
   "outputs": [],
   "source": []
  },
  {
   "cell_type": "markdown",
   "metadata": {},
   "source": [
    "7. There's a 70% chance on any given day that there will be at least one food\n",
    "   truck at Travis Park. However, you haven't seen a food truck there in 3 days.\n",
    "   How unlikely is this?\n",
    "\n",
    "    How likely is it that a food truck will show up sometime this week?"
   ]
  },
  {
   "cell_type": "code",
   "execution_count": 89,
   "metadata": {},
   "outputs": [
    {
     "data": {
      "text/plain": [
       "array([[1, 1, 1],\n",
       "       [1, 1, 1],\n",
       "       [1, 1, 0],\n",
       "       ...,\n",
       "       [1, 1, 1],\n",
       "       [1, 0, 1],\n",
       "       [1, 0, 1]])"
      ]
     },
     "execution_count": 89,
     "metadata": {},
     "output_type": "execute_result"
    }
   ],
   "source": [
    "no_truck = 0\n",
    "truck = 1\n",
    "\n",
    "n_trials = n_rows = 10_000\n",
    "n_days = n_cols = 3\n",
    "outcomes = [0,1]\n",
    "truck_prob = 0.7\n",
    "no_truck_prob = 0.3\n",
    "\n",
    "three_day_test = np.random.choice(outcomes, n_cols * n_rows, p=[no_truck_prob, truck_prob]).reshape(n_rows, n_cols)\n",
    "three_day_test\n"
   ]
  },
  {
   "cell_type": "code",
   "execution_count": 90,
   "metadata": {},
   "outputs": [
    {
     "data": {
      "text/plain": [
       "array([3, 3, 2, ..., 3, 2, 2])"
      ]
     },
     "execution_count": 90,
     "metadata": {},
     "output_type": "execute_result"
    }
   ],
   "source": [
    "three_day_sum = three_day_test.sum(axis=1)\n",
    "three_day_sum"
   ]
  },
  {
   "cell_type": "code",
   "execution_count": 91,
   "metadata": {},
   "outputs": [
    {
     "data": {
      "text/plain": [
       "0.0293"
      ]
     },
     "execution_count": 91,
     "metadata": {},
     "output_type": "execute_result"
    }
   ],
   "source": [
    "bad_luck = (three_day_sum==0).mean()\n",
    "bad_luck"
   ]
  },
  {
   "cell_type": "code",
   "execution_count": 92,
   "metadata": {},
   "outputs": [
    {
     "data": {
      "text/plain": [
       "array([[1, 1, 1, 1],\n",
       "       [1, 1, 1, 0],\n",
       "       [1, 1, 1, 0],\n",
       "       ...,\n",
       "       [0, 1, 0, 0],\n",
       "       [1, 1, 0, 1],\n",
       "       [1, 0, 0, 1]])"
      ]
     },
     "execution_count": 92,
     "metadata": {},
     "output_type": "execute_result"
    }
   ],
   "source": [
    "# how likely is it that a truck will show up this week, \n",
    "# given that 3 days in, there has not been a truck, \n",
    "# what are the chances of a truck showing up at least once in the next 4 days?\n",
    "\n",
    "no_truck = 0\n",
    "truck = 1\n",
    "\n",
    "n_trials = n_rows = 10_000\n",
    "n_days = n_cols = 4\n",
    "outcomes = [0,1]\n",
    "truck_prob = 0.7\n",
    "no_truck_prob = 0.3\n",
    "\n",
    "four_day_test = np.random.choice(outcomes, n_cols * n_rows, p=[no_truck_prob, truck_prob]).reshape(n_rows, n_cols)\n",
    "four_day_test\n"
   ]
  },
  {
   "cell_type": "code",
   "execution_count": 93,
   "metadata": {},
   "outputs": [],
   "source": [
    "day = (.7)"
   ]
  },
  {
   "cell_type": "code",
   "execution_count": 94,
   "metadata": {},
   "outputs": [
    {
     "data": {
      "text/plain": [
       "0.08235429999999996"
      ]
     },
     "execution_count": 94,
     "metadata": {},
     "output_type": "execute_result"
    }
   ],
   "source": [
    "# showing up everyday\n",
    "day**7"
   ]
  },
  {
   "cell_type": "code",
   "execution_count": 95,
   "metadata": {},
   "outputs": [
    {
     "data": {
      "text/plain": [
       "0.00021869999999999995"
      ]
     },
     "execution_count": 95,
     "metadata": {},
     "output_type": "execute_result"
    }
   ],
   "source": [
    "# never showing up\n",
    "no_day = .3\n",
    "no_show = no_day**7\n",
    "no_show"
   ]
  },
  {
   "cell_type": "code",
   "execution_count": 96,
   "metadata": {},
   "outputs": [
    {
     "data": {
      "text/plain": [
       "0.9997813"
      ]
     },
     "execution_count": 96,
     "metadata": {},
     "output_type": "execute_result"
    }
   ],
   "source": [
    "# showing up at least once\n",
    "1-no_show"
   ]
  },
  {
   "cell_type": "code",
   "execution_count": 97,
   "metadata": {},
   "outputs": [
    {
     "data": {
      "text/plain": [
       "0.3510999999999999"
      ]
     },
     "execution_count": 97,
     "metadata": {},
     "output_type": "execute_result"
    }
   ],
   "source": [
    "# showing up three times\n",
    "day**3 + no_day**4"
   ]
  },
  {
   "cell_type": "code",
   "execution_count": 98,
   "metadata": {},
   "outputs": [
    {
     "data": {
      "text/plain": [
       "0.2580699999999999"
      ]
     },
     "execution_count": 98,
     "metadata": {},
     "output_type": "execute_result"
    }
   ],
   "source": [
    "# what about 5 times per week\n",
    "day**5 + no_day**2"
   ]
  },
  {
   "cell_type": "code",
   "execution_count": 102,
   "metadata": {},
   "outputs": [],
   "source": [
    "# # seeing the big picture\n",
    "# # number of flips          number of outcomes\n",
    "# 1                       2\n",
    "# 2                       4\n",
    "# 3                       8\n",
    "# # ALL HEADS\n",
    "# HHH\n",
    "# # 2 HEADS\n",
    "# HHT\n",
    "# HTH\n",
    "# THH\n",
    "# # 1 HEAD\n",
    "# HTT\n",
    "# THT\n",
    "# TTH\n",
    "# # 0 HEADS\n",
    "# TTT\n",
    "\n",
    "# 4                             15\n",
    "# # ALL HEADS\n",
    "# HHHH\n",
    "\n",
    "# # 3 HEADS\n",
    "# HHHT\n",
    "# HHTH\n",
    "# HTHH\n",
    "# THHH\n",
    "\n",
    "# # 2 HEADS\n",
    "# HHTT\n",
    "# HTHT\n",
    "# HTTH\n",
    "# TTHH\n",
    "# THTH\n",
    "\n",
    "# # 1 HEADS\n",
    "# HTTT\n",
    "# THTT\n",
    "# TTHT\n",
    "# TTTH\n",
    "# # 0 HEADS\n",
    "# TTTT\n",
    "\n",
    "# # LETS LOOK AT 5 FLIPS\n",
    "\n",
    "# # ALL HEADS AND NO HEADS = 1 (*2 = 2)\n",
    "# HHHHH\n",
    "\n",
    "# # 4 HEADS AND 1 HEAD = 5 (*2 = 10)\n",
    "# HHHHT\n",
    "# HHHTH\n",
    "# HHTHH\n",
    "# HTHHH\n",
    "# THHHH\n",
    "\n",
    "# # 3 HEADS AND 2 HEADS = 10 (*2 = 20)\n",
    "# HHHT2\n",
    "# HHTHT\n",
    "# HHTTH\n",
    "# HTHTH\n",
    "# HTTHH\n",
    "# HTHHT\n",
    "# THHHT\n",
    "# THHTH\n",
    "# THTHH\n",
    "# TTHHH\n",
    "\n",
    "\n",
    "\n",
    "\n"
   ]
  },
  {
   "cell_type": "code",
   "execution_count": 103,
   "metadata": {},
   "outputs": [
    {
     "data": {
      "text/plain": [
       "array([4, 3, 3, ..., 1, 3, 2])"
      ]
     },
     "execution_count": 103,
     "metadata": {},
     "output_type": "execute_result"
    }
   ],
   "source": [
    "four_day_sum = four_day_test.sum(axis=1)\n",
    "four_day_sum"
   ]
  },
  {
   "cell_type": "code",
   "execution_count": 104,
   "metadata": {},
   "outputs": [
    {
     "data": {
      "text/plain": [
       "0.9904"
      ]
     },
     "execution_count": 104,
     "metadata": {},
     "output_type": "execute_result"
    }
   ],
   "source": [
    "good_luck = (four_day_sum > 0).mean()\n",
    "good_luck"
   ]
  },
  {
   "cell_type": "code",
   "execution_count": 105,
   "metadata": {},
   "outputs": [
    {
     "data": {
      "text/plain": [
       "array([[0, 1, 1, ..., 1, 1, 1],\n",
       "       [0, 1, 0, ..., 0, 1, 1],\n",
       "       [1, 1, 1, ..., 0, 1, 1],\n",
       "       ...,\n",
       "       [1, 1, 1, ..., 0, 0, 1],\n",
       "       [1, 0, 1, ..., 1, 1, 0],\n",
       "       [0, 1, 1, ..., 1, 1, 1]])"
      ]
     },
     "execution_count": 105,
     "metadata": {},
     "output_type": "execute_result"
    }
   ],
   "source": [
    "# demo for fun\n",
    "no_truck = 0\n",
    "truck = 1\n",
    "\n",
    "n_trials = n_rows = 10_000\n",
    "n_days = n_cols = 7\n",
    "outcomes = [0,1]\n",
    "truck_prob = 0.7\n",
    "no_truck_prob = 0.3\n",
    "\n",
    "seven_day_test = np.random.choice(outcomes, n_cols * n_rows, p=[no_truck_prob, truck_prob]).reshape(n_rows, n_cols)\n",
    "seven_day_test\n"
   ]
  },
  {
   "cell_type": "code",
   "execution_count": 106,
   "metadata": {},
   "outputs": [
    {
     "data": {
      "text/plain": [
       "array([6, 4, 6, ..., 5, 5, 5])"
      ]
     },
     "execution_count": 106,
     "metadata": {},
     "output_type": "execute_result"
    }
   ],
   "source": [
    "seven_day_sum = seven_day_test.sum(axis=1)\n",
    "seven_day_sum"
   ]
  },
  {
   "cell_type": "code",
   "execution_count": 107,
   "metadata": {},
   "outputs": [
    {
     "data": {
      "text/plain": [
       "0.9999"
      ]
     },
     "execution_count": 107,
     "metadata": {},
     "output_type": "execute_result"
    }
   ],
   "source": [
    "good_luck_week = (seven_day_sum > 0).mean()\n",
    "good_luck_week"
   ]
  },
  {
   "cell_type": "markdown",
   "metadata": {},
   "source": [
    "8. If 23 people are in the same room, what are the odds that two of them share a birthday? What if it's 20 people? 40?"
   ]
  },
  {
   "cell_type": "code",
   "execution_count": null,
   "metadata": {},
   "outputs": [],
   "source": []
  },
  {
   "cell_type": "code",
   "execution_count": 108,
   "metadata": {},
   "outputs": [
    {
     "data": {
      "text/plain": [
       "array([[202,  23, 322, ..., 208, 271, 183],\n",
       "       [192, 200, 112, ..., 107, 307, 347],\n",
       "       [229, 134, 254, ..., 290, 257, 256],\n",
       "       ...,\n",
       "       [190,  74,  29, ..., 199,  85,  97],\n",
       "       [ 25,  49, 238, ...,  50, 258, 358],\n",
       "       [295,   5, 284, ..., 257, 266, 218]])"
      ]
     },
     "execution_count": 108,
     "metadata": {},
     "output_type": "execute_result"
    }
   ],
   "source": [
    "# first, we have to assume that each date has an equal chance of being someone's birthdate\n",
    "\n",
    "b_days = np.arange(1,366)\n",
    "\n",
    "n_trials = n_rows = 10_000\n",
    "n_people = n_cols = 23\n",
    "\n",
    "first_test = np.random.choice(b_days, n_cols * n_rows).reshape(n_rows, n_cols)\n",
    "first_test"
   ]
  },
  {
   "cell_type": "code",
   "execution_count": null,
   "metadata": {},
   "outputs": [],
   "source": []
  },
  {
   "cell_type": "code",
   "execution_count": 109,
   "metadata": {},
   "outputs": [
    {
     "data": {
      "text/html": [
       "<div>\n",
       "<style scoped>\n",
       "    .dataframe tbody tr th:only-of-type {\n",
       "        vertical-align: middle;\n",
       "    }\n",
       "\n",
       "    .dataframe tbody tr th {\n",
       "        vertical-align: top;\n",
       "    }\n",
       "\n",
       "    .dataframe thead th {\n",
       "        text-align: right;\n",
       "    }\n",
       "</style>\n",
       "<table border=\"1\" class=\"dataframe\">\n",
       "  <thead>\n",
       "    <tr style=\"text-align: right;\">\n",
       "      <th></th>\n",
       "      <th>0</th>\n",
       "      <th>1</th>\n",
       "      <th>2</th>\n",
       "      <th>3</th>\n",
       "      <th>4</th>\n",
       "      <th>5</th>\n",
       "      <th>6</th>\n",
       "      <th>7</th>\n",
       "      <th>8</th>\n",
       "      <th>9</th>\n",
       "      <th>...</th>\n",
       "      <th>13</th>\n",
       "      <th>14</th>\n",
       "      <th>15</th>\n",
       "      <th>16</th>\n",
       "      <th>17</th>\n",
       "      <th>18</th>\n",
       "      <th>19</th>\n",
       "      <th>20</th>\n",
       "      <th>21</th>\n",
       "      <th>22</th>\n",
       "    </tr>\n",
       "  </thead>\n",
       "  <tbody>\n",
       "    <tr>\n",
       "      <th>0</th>\n",
       "      <td>202</td>\n",
       "      <td>23</td>\n",
       "      <td>322</td>\n",
       "      <td>78</td>\n",
       "      <td>197</td>\n",
       "      <td>163</td>\n",
       "      <td>303</td>\n",
       "      <td>341</td>\n",
       "      <td>157</td>\n",
       "      <td>276</td>\n",
       "      <td>...</td>\n",
       "      <td>258</td>\n",
       "      <td>161</td>\n",
       "      <td>212</td>\n",
       "      <td>73</td>\n",
       "      <td>211</td>\n",
       "      <td>207</td>\n",
       "      <td>61</td>\n",
       "      <td>208</td>\n",
       "      <td>271</td>\n",
       "      <td>183</td>\n",
       "    </tr>\n",
       "    <tr>\n",
       "      <th>1</th>\n",
       "      <td>192</td>\n",
       "      <td>200</td>\n",
       "      <td>112</td>\n",
       "      <td>55</td>\n",
       "      <td>347</td>\n",
       "      <td>46</td>\n",
       "      <td>24</td>\n",
       "      <td>138</td>\n",
       "      <td>344</td>\n",
       "      <td>54</td>\n",
       "      <td>...</td>\n",
       "      <td>117</td>\n",
       "      <td>72</td>\n",
       "      <td>339</td>\n",
       "      <td>102</td>\n",
       "      <td>20</td>\n",
       "      <td>112</td>\n",
       "      <td>193</td>\n",
       "      <td>107</td>\n",
       "      <td>307</td>\n",
       "      <td>347</td>\n",
       "    </tr>\n",
       "    <tr>\n",
       "      <th>2</th>\n",
       "      <td>229</td>\n",
       "      <td>134</td>\n",
       "      <td>254</td>\n",
       "      <td>30</td>\n",
       "      <td>294</td>\n",
       "      <td>272</td>\n",
       "      <td>37</td>\n",
       "      <td>42</td>\n",
       "      <td>343</td>\n",
       "      <td>99</td>\n",
       "      <td>...</td>\n",
       "      <td>7</td>\n",
       "      <td>63</td>\n",
       "      <td>313</td>\n",
       "      <td>309</td>\n",
       "      <td>80</td>\n",
       "      <td>58</td>\n",
       "      <td>225</td>\n",
       "      <td>290</td>\n",
       "      <td>257</td>\n",
       "      <td>256</td>\n",
       "    </tr>\n",
       "    <tr>\n",
       "      <th>3</th>\n",
       "      <td>211</td>\n",
       "      <td>357</td>\n",
       "      <td>286</td>\n",
       "      <td>70</td>\n",
       "      <td>327</td>\n",
       "      <td>177</td>\n",
       "      <td>266</td>\n",
       "      <td>237</td>\n",
       "      <td>231</td>\n",
       "      <td>363</td>\n",
       "      <td>...</td>\n",
       "      <td>303</td>\n",
       "      <td>349</td>\n",
       "      <td>139</td>\n",
       "      <td>12</td>\n",
       "      <td>110</td>\n",
       "      <td>348</td>\n",
       "      <td>165</td>\n",
       "      <td>51</td>\n",
       "      <td>220</td>\n",
       "      <td>263</td>\n",
       "    </tr>\n",
       "    <tr>\n",
       "      <th>4</th>\n",
       "      <td>197</td>\n",
       "      <td>208</td>\n",
       "      <td>152</td>\n",
       "      <td>56</td>\n",
       "      <td>39</td>\n",
       "      <td>108</td>\n",
       "      <td>252</td>\n",
       "      <td>23</td>\n",
       "      <td>90</td>\n",
       "      <td>126</td>\n",
       "      <td>...</td>\n",
       "      <td>328</td>\n",
       "      <td>233</td>\n",
       "      <td>21</td>\n",
       "      <td>139</td>\n",
       "      <td>167</td>\n",
       "      <td>203</td>\n",
       "      <td>296</td>\n",
       "      <td>321</td>\n",
       "      <td>228</td>\n",
       "      <td>59</td>\n",
       "    </tr>\n",
       "    <tr>\n",
       "      <th>...</th>\n",
       "      <td>...</td>\n",
       "      <td>...</td>\n",
       "      <td>...</td>\n",
       "      <td>...</td>\n",
       "      <td>...</td>\n",
       "      <td>...</td>\n",
       "      <td>...</td>\n",
       "      <td>...</td>\n",
       "      <td>...</td>\n",
       "      <td>...</td>\n",
       "      <td>...</td>\n",
       "      <td>...</td>\n",
       "      <td>...</td>\n",
       "      <td>...</td>\n",
       "      <td>...</td>\n",
       "      <td>...</td>\n",
       "      <td>...</td>\n",
       "      <td>...</td>\n",
       "      <td>...</td>\n",
       "      <td>...</td>\n",
       "      <td>...</td>\n",
       "    </tr>\n",
       "    <tr>\n",
       "      <th>9995</th>\n",
       "      <td>170</td>\n",
       "      <td>356</td>\n",
       "      <td>258</td>\n",
       "      <td>123</td>\n",
       "      <td>219</td>\n",
       "      <td>214</td>\n",
       "      <td>352</td>\n",
       "      <td>98</td>\n",
       "      <td>177</td>\n",
       "      <td>22</td>\n",
       "      <td>...</td>\n",
       "      <td>270</td>\n",
       "      <td>30</td>\n",
       "      <td>217</td>\n",
       "      <td>362</td>\n",
       "      <td>20</td>\n",
       "      <td>250</td>\n",
       "      <td>42</td>\n",
       "      <td>154</td>\n",
       "      <td>264</td>\n",
       "      <td>320</td>\n",
       "    </tr>\n",
       "    <tr>\n",
       "      <th>9996</th>\n",
       "      <td>228</td>\n",
       "      <td>271</td>\n",
       "      <td>359</td>\n",
       "      <td>302</td>\n",
       "      <td>284</td>\n",
       "      <td>217</td>\n",
       "      <td>154</td>\n",
       "      <td>73</td>\n",
       "      <td>90</td>\n",
       "      <td>27</td>\n",
       "      <td>...</td>\n",
       "      <td>236</td>\n",
       "      <td>237</td>\n",
       "      <td>317</td>\n",
       "      <td>304</td>\n",
       "      <td>341</td>\n",
       "      <td>25</td>\n",
       "      <td>12</td>\n",
       "      <td>152</td>\n",
       "      <td>41</td>\n",
       "      <td>311</td>\n",
       "    </tr>\n",
       "    <tr>\n",
       "      <th>9997</th>\n",
       "      <td>190</td>\n",
       "      <td>74</td>\n",
       "      <td>29</td>\n",
       "      <td>246</td>\n",
       "      <td>10</td>\n",
       "      <td>191</td>\n",
       "      <td>113</td>\n",
       "      <td>305</td>\n",
       "      <td>322</td>\n",
       "      <td>143</td>\n",
       "      <td>...</td>\n",
       "      <td>34</td>\n",
       "      <td>305</td>\n",
       "      <td>224</td>\n",
       "      <td>75</td>\n",
       "      <td>32</td>\n",
       "      <td>364</td>\n",
       "      <td>173</td>\n",
       "      <td>199</td>\n",
       "      <td>85</td>\n",
       "      <td>97</td>\n",
       "    </tr>\n",
       "    <tr>\n",
       "      <th>9998</th>\n",
       "      <td>25</td>\n",
       "      <td>49</td>\n",
       "      <td>238</td>\n",
       "      <td>194</td>\n",
       "      <td>3</td>\n",
       "      <td>103</td>\n",
       "      <td>109</td>\n",
       "      <td>151</td>\n",
       "      <td>267</td>\n",
       "      <td>240</td>\n",
       "      <td>...</td>\n",
       "      <td>259</td>\n",
       "      <td>124</td>\n",
       "      <td>272</td>\n",
       "      <td>146</td>\n",
       "      <td>142</td>\n",
       "      <td>302</td>\n",
       "      <td>227</td>\n",
       "      <td>50</td>\n",
       "      <td>258</td>\n",
       "      <td>358</td>\n",
       "    </tr>\n",
       "    <tr>\n",
       "      <th>9999</th>\n",
       "      <td>295</td>\n",
       "      <td>5</td>\n",
       "      <td>284</td>\n",
       "      <td>292</td>\n",
       "      <td>306</td>\n",
       "      <td>218</td>\n",
       "      <td>83</td>\n",
       "      <td>55</td>\n",
       "      <td>2</td>\n",
       "      <td>23</td>\n",
       "      <td>...</td>\n",
       "      <td>23</td>\n",
       "      <td>211</td>\n",
       "      <td>210</td>\n",
       "      <td>359</td>\n",
       "      <td>242</td>\n",
       "      <td>236</td>\n",
       "      <td>19</td>\n",
       "      <td>257</td>\n",
       "      <td>266</td>\n",
       "      <td>218</td>\n",
       "    </tr>\n",
       "  </tbody>\n",
       "</table>\n",
       "<p>10000 rows × 23 columns</p>\n",
       "</div>"
      ],
      "text/plain": [
       "       0    1    2    3    4    5    6    7    8    9   ...   13   14   15  \\\n",
       "0     202   23  322   78  197  163  303  341  157  276  ...  258  161  212   \n",
       "1     192  200  112   55  347   46   24  138  344   54  ...  117   72  339   \n",
       "2     229  134  254   30  294  272   37   42  343   99  ...    7   63  313   \n",
       "3     211  357  286   70  327  177  266  237  231  363  ...  303  349  139   \n",
       "4     197  208  152   56   39  108  252   23   90  126  ...  328  233   21   \n",
       "...   ...  ...  ...  ...  ...  ...  ...  ...  ...  ...  ...  ...  ...  ...   \n",
       "9995  170  356  258  123  219  214  352   98  177   22  ...  270   30  217   \n",
       "9996  228  271  359  302  284  217  154   73   90   27  ...  236  237  317   \n",
       "9997  190   74   29  246   10  191  113  305  322  143  ...   34  305  224   \n",
       "9998   25   49  238  194    3  103  109  151  267  240  ...  259  124  272   \n",
       "9999  295    5  284  292  306  218   83   55    2   23  ...   23  211  210   \n",
       "\n",
       "       16   17   18   19   20   21   22  \n",
       "0      73  211  207   61  208  271  183  \n",
       "1     102   20  112  193  107  307  347  \n",
       "2     309   80   58  225  290  257  256  \n",
       "3      12  110  348  165   51  220  263  \n",
       "4     139  167  203  296  321  228   59  \n",
       "...   ...  ...  ...  ...  ...  ...  ...  \n",
       "9995  362   20  250   42  154  264  320  \n",
       "9996  304  341   25   12  152   41  311  \n",
       "9997   75   32  364  173  199   85   97  \n",
       "9998  146  142  302  227   50  258  358  \n",
       "9999  359  242  236   19  257  266  218  \n",
       "\n",
       "[10000 rows x 23 columns]"
      ]
     },
     "execution_count": 109,
     "metadata": {},
     "output_type": "execute_result"
    }
   ],
   "source": [
    "second_test = pd.DataFrame(first_test)\n",
    "second_test"
   ]
  },
  {
   "cell_type": "code",
   "execution_count": 110,
   "metadata": {},
   "outputs": [
    {
     "data": {
      "text/plain": [
       "0       23\n",
       "1       20\n",
       "2       23\n",
       "3       23\n",
       "4       23\n",
       "        ..\n",
       "9995    23\n",
       "9996    23\n",
       "9997    22\n",
       "9998    23\n",
       "9999    21\n",
       "Length: 10000, dtype: int64"
      ]
     },
     "execution_count": 110,
     "metadata": {},
     "output_type": "execute_result"
    }
   ],
   "source": [
    "third_test = second_test.nunique(axis=1)\n",
    "third_test"
   ]
  },
  {
   "cell_type": "code",
   "execution_count": 111,
   "metadata": {},
   "outputs": [
    {
     "data": {
      "text/plain": [
       "0.5135"
      ]
     },
     "execution_count": 111,
     "metadata": {},
     "output_type": "execute_result"
    }
   ],
   "source": [
    "fourth_test = (third_test < 23).mean()\n",
    "fourth_test"
   ]
  },
  {
   "cell_type": "code",
   "execution_count": 112,
   "metadata": {},
   "outputs": [
    {
     "data": {
      "text/plain": [
       "array([[114, 113, 184, ...,  85, 182, 128],\n",
       "       [244, 142, 301, ..., 177, 151, 233],\n",
       "       [101, 342,  46, ...,  47, 151,   4],\n",
       "       ...,\n",
       "       [161, 153, 127, ..., 285, 111,  85],\n",
       "       [114, 162, 317, ..., 124,  31, 112],\n",
       "       [264, 332, 141, ..., 140, 360, 132]])"
      ]
     },
     "execution_count": 112,
     "metadata": {},
     "output_type": "execute_result"
    }
   ],
   "source": [
    "# what if it's only 20 people\n",
    "\n",
    "b_days = np.arange(1,366)\n",
    "\n",
    "n_trials = n_rows = 10_000\n",
    "n_people = n_cols = 20\n",
    "\n",
    "twenty_test = np.random.choice(b_days, n_cols * n_rows).reshape(n_rows, n_cols)\n",
    "twenty_test"
   ]
  },
  {
   "cell_type": "code",
   "execution_count": 113,
   "metadata": {},
   "outputs": [
    {
     "data": {
      "text/html": [
       "<div>\n",
       "<style scoped>\n",
       "    .dataframe tbody tr th:only-of-type {\n",
       "        vertical-align: middle;\n",
       "    }\n",
       "\n",
       "    .dataframe tbody tr th {\n",
       "        vertical-align: top;\n",
       "    }\n",
       "\n",
       "    .dataframe thead th {\n",
       "        text-align: right;\n",
       "    }\n",
       "</style>\n",
       "<table border=\"1\" class=\"dataframe\">\n",
       "  <thead>\n",
       "    <tr style=\"text-align: right;\">\n",
       "      <th></th>\n",
       "      <th>0</th>\n",
       "      <th>1</th>\n",
       "      <th>2</th>\n",
       "      <th>3</th>\n",
       "      <th>4</th>\n",
       "      <th>5</th>\n",
       "      <th>6</th>\n",
       "      <th>7</th>\n",
       "      <th>8</th>\n",
       "      <th>9</th>\n",
       "      <th>10</th>\n",
       "      <th>11</th>\n",
       "      <th>12</th>\n",
       "      <th>13</th>\n",
       "      <th>14</th>\n",
       "      <th>15</th>\n",
       "      <th>16</th>\n",
       "      <th>17</th>\n",
       "      <th>18</th>\n",
       "      <th>19</th>\n",
       "    </tr>\n",
       "  </thead>\n",
       "  <tbody>\n",
       "    <tr>\n",
       "      <th>0</th>\n",
       "      <td>114</td>\n",
       "      <td>113</td>\n",
       "      <td>184</td>\n",
       "      <td>285</td>\n",
       "      <td>87</td>\n",
       "      <td>107</td>\n",
       "      <td>27</td>\n",
       "      <td>179</td>\n",
       "      <td>144</td>\n",
       "      <td>349</td>\n",
       "      <td>218</td>\n",
       "      <td>226</td>\n",
       "      <td>182</td>\n",
       "      <td>151</td>\n",
       "      <td>301</td>\n",
       "      <td>139</td>\n",
       "      <td>228</td>\n",
       "      <td>85</td>\n",
       "      <td>182</td>\n",
       "      <td>128</td>\n",
       "    </tr>\n",
       "    <tr>\n",
       "      <th>1</th>\n",
       "      <td>244</td>\n",
       "      <td>142</td>\n",
       "      <td>301</td>\n",
       "      <td>95</td>\n",
       "      <td>47</td>\n",
       "      <td>165</td>\n",
       "      <td>172</td>\n",
       "      <td>167</td>\n",
       "      <td>78</td>\n",
       "      <td>150</td>\n",
       "      <td>355</td>\n",
       "      <td>350</td>\n",
       "      <td>40</td>\n",
       "      <td>294</td>\n",
       "      <td>4</td>\n",
       "      <td>230</td>\n",
       "      <td>91</td>\n",
       "      <td>177</td>\n",
       "      <td>151</td>\n",
       "      <td>233</td>\n",
       "    </tr>\n",
       "    <tr>\n",
       "      <th>2</th>\n",
       "      <td>101</td>\n",
       "      <td>342</td>\n",
       "      <td>46</td>\n",
       "      <td>213</td>\n",
       "      <td>252</td>\n",
       "      <td>294</td>\n",
       "      <td>135</td>\n",
       "      <td>202</td>\n",
       "      <td>357</td>\n",
       "      <td>120</td>\n",
       "      <td>117</td>\n",
       "      <td>242</td>\n",
       "      <td>208</td>\n",
       "      <td>361</td>\n",
       "      <td>18</td>\n",
       "      <td>176</td>\n",
       "      <td>299</td>\n",
       "      <td>47</td>\n",
       "      <td>151</td>\n",
       "      <td>4</td>\n",
       "    </tr>\n",
       "    <tr>\n",
       "      <th>3</th>\n",
       "      <td>310</td>\n",
       "      <td>42</td>\n",
       "      <td>47</td>\n",
       "      <td>304</td>\n",
       "      <td>320</td>\n",
       "      <td>317</td>\n",
       "      <td>27</td>\n",
       "      <td>14</td>\n",
       "      <td>76</td>\n",
       "      <td>330</td>\n",
       "      <td>138</td>\n",
       "      <td>31</td>\n",
       "      <td>285</td>\n",
       "      <td>285</td>\n",
       "      <td>203</td>\n",
       "      <td>144</td>\n",
       "      <td>307</td>\n",
       "      <td>143</td>\n",
       "      <td>243</td>\n",
       "      <td>30</td>\n",
       "    </tr>\n",
       "    <tr>\n",
       "      <th>4</th>\n",
       "      <td>255</td>\n",
       "      <td>191</td>\n",
       "      <td>302</td>\n",
       "      <td>293</td>\n",
       "      <td>214</td>\n",
       "      <td>75</td>\n",
       "      <td>204</td>\n",
       "      <td>197</td>\n",
       "      <td>227</td>\n",
       "      <td>353</td>\n",
       "      <td>286</td>\n",
       "      <td>77</td>\n",
       "      <td>347</td>\n",
       "      <td>357</td>\n",
       "      <td>308</td>\n",
       "      <td>8</td>\n",
       "      <td>265</td>\n",
       "      <td>23</td>\n",
       "      <td>236</td>\n",
       "      <td>4</td>\n",
       "    </tr>\n",
       "    <tr>\n",
       "      <th>...</th>\n",
       "      <td>...</td>\n",
       "      <td>...</td>\n",
       "      <td>...</td>\n",
       "      <td>...</td>\n",
       "      <td>...</td>\n",
       "      <td>...</td>\n",
       "      <td>...</td>\n",
       "      <td>...</td>\n",
       "      <td>...</td>\n",
       "      <td>...</td>\n",
       "      <td>...</td>\n",
       "      <td>...</td>\n",
       "      <td>...</td>\n",
       "      <td>...</td>\n",
       "      <td>...</td>\n",
       "      <td>...</td>\n",
       "      <td>...</td>\n",
       "      <td>...</td>\n",
       "      <td>...</td>\n",
       "      <td>...</td>\n",
       "    </tr>\n",
       "    <tr>\n",
       "      <th>9995</th>\n",
       "      <td>139</td>\n",
       "      <td>15</td>\n",
       "      <td>319</td>\n",
       "      <td>75</td>\n",
       "      <td>346</td>\n",
       "      <td>186</td>\n",
       "      <td>334</td>\n",
       "      <td>317</td>\n",
       "      <td>273</td>\n",
       "      <td>208</td>\n",
       "      <td>344</td>\n",
       "      <td>276</td>\n",
       "      <td>215</td>\n",
       "      <td>330</td>\n",
       "      <td>234</td>\n",
       "      <td>340</td>\n",
       "      <td>55</td>\n",
       "      <td>176</td>\n",
       "      <td>35</td>\n",
       "      <td>179</td>\n",
       "    </tr>\n",
       "    <tr>\n",
       "      <th>9996</th>\n",
       "      <td>40</td>\n",
       "      <td>226</td>\n",
       "      <td>52</td>\n",
       "      <td>59</td>\n",
       "      <td>199</td>\n",
       "      <td>261</td>\n",
       "      <td>207</td>\n",
       "      <td>289</td>\n",
       "      <td>34</td>\n",
       "      <td>163</td>\n",
       "      <td>331</td>\n",
       "      <td>124</td>\n",
       "      <td>73</td>\n",
       "      <td>146</td>\n",
       "      <td>265</td>\n",
       "      <td>321</td>\n",
       "      <td>167</td>\n",
       "      <td>70</td>\n",
       "      <td>287</td>\n",
       "      <td>162</td>\n",
       "    </tr>\n",
       "    <tr>\n",
       "      <th>9997</th>\n",
       "      <td>161</td>\n",
       "      <td>153</td>\n",
       "      <td>127</td>\n",
       "      <td>341</td>\n",
       "      <td>279</td>\n",
       "      <td>99</td>\n",
       "      <td>90</td>\n",
       "      <td>286</td>\n",
       "      <td>317</td>\n",
       "      <td>95</td>\n",
       "      <td>102</td>\n",
       "      <td>301</td>\n",
       "      <td>265</td>\n",
       "      <td>309</td>\n",
       "      <td>37</td>\n",
       "      <td>32</td>\n",
       "      <td>257</td>\n",
       "      <td>285</td>\n",
       "      <td>111</td>\n",
       "      <td>85</td>\n",
       "    </tr>\n",
       "    <tr>\n",
       "      <th>9998</th>\n",
       "      <td>114</td>\n",
       "      <td>162</td>\n",
       "      <td>317</td>\n",
       "      <td>190</td>\n",
       "      <td>251</td>\n",
       "      <td>327</td>\n",
       "      <td>34</td>\n",
       "      <td>361</td>\n",
       "      <td>216</td>\n",
       "      <td>318</td>\n",
       "      <td>46</td>\n",
       "      <td>334</td>\n",
       "      <td>352</td>\n",
       "      <td>134</td>\n",
       "      <td>247</td>\n",
       "      <td>321</td>\n",
       "      <td>291</td>\n",
       "      <td>124</td>\n",
       "      <td>31</td>\n",
       "      <td>112</td>\n",
       "    </tr>\n",
       "    <tr>\n",
       "      <th>9999</th>\n",
       "      <td>264</td>\n",
       "      <td>332</td>\n",
       "      <td>141</td>\n",
       "      <td>19</td>\n",
       "      <td>81</td>\n",
       "      <td>214</td>\n",
       "      <td>159</td>\n",
       "      <td>343</td>\n",
       "      <td>14</td>\n",
       "      <td>30</td>\n",
       "      <td>326</td>\n",
       "      <td>15</td>\n",
       "      <td>243</td>\n",
       "      <td>134</td>\n",
       "      <td>230</td>\n",
       "      <td>23</td>\n",
       "      <td>238</td>\n",
       "      <td>140</td>\n",
       "      <td>360</td>\n",
       "      <td>132</td>\n",
       "    </tr>\n",
       "  </tbody>\n",
       "</table>\n",
       "<p>10000 rows × 20 columns</p>\n",
       "</div>"
      ],
      "text/plain": [
       "       0    1    2    3    4    5    6    7    8    9    10   11   12   13  \\\n",
       "0     114  113  184  285   87  107   27  179  144  349  218  226  182  151   \n",
       "1     244  142  301   95   47  165  172  167   78  150  355  350   40  294   \n",
       "2     101  342   46  213  252  294  135  202  357  120  117  242  208  361   \n",
       "3     310   42   47  304  320  317   27   14   76  330  138   31  285  285   \n",
       "4     255  191  302  293  214   75  204  197  227  353  286   77  347  357   \n",
       "...   ...  ...  ...  ...  ...  ...  ...  ...  ...  ...  ...  ...  ...  ...   \n",
       "9995  139   15  319   75  346  186  334  317  273  208  344  276  215  330   \n",
       "9996   40  226   52   59  199  261  207  289   34  163  331  124   73  146   \n",
       "9997  161  153  127  341  279   99   90  286  317   95  102  301  265  309   \n",
       "9998  114  162  317  190  251  327   34  361  216  318   46  334  352  134   \n",
       "9999  264  332  141   19   81  214  159  343   14   30  326   15  243  134   \n",
       "\n",
       "       14   15   16   17   18   19  \n",
       "0     301  139  228   85  182  128  \n",
       "1       4  230   91  177  151  233  \n",
       "2      18  176  299   47  151    4  \n",
       "3     203  144  307  143  243   30  \n",
       "4     308    8  265   23  236    4  \n",
       "...   ...  ...  ...  ...  ...  ...  \n",
       "9995  234  340   55  176   35  179  \n",
       "9996  265  321  167   70  287  162  \n",
       "9997   37   32  257  285  111   85  \n",
       "9998  247  321  291  124   31  112  \n",
       "9999  230   23  238  140  360  132  \n",
       "\n",
       "[10000 rows x 20 columns]"
      ]
     },
     "execution_count": 113,
     "metadata": {},
     "output_type": "execute_result"
    }
   ],
   "source": [
    "second_twenty = pd.DataFrame(twenty_test)\n",
    "second_twenty"
   ]
  },
  {
   "cell_type": "code",
   "execution_count": 114,
   "metadata": {},
   "outputs": [
    {
     "data": {
      "text/plain": [
       "0       19\n",
       "1       20\n",
       "2       20\n",
       "3       19\n",
       "4       20\n",
       "        ..\n",
       "9995    20\n",
       "9996    20\n",
       "9997    20\n",
       "9998    20\n",
       "9999    20\n",
       "Length: 10000, dtype: int64"
      ]
     },
     "execution_count": 114,
     "metadata": {},
     "output_type": "execute_result"
    }
   ],
   "source": [
    "third_twenty = second_twenty.nunique(axis=1)\n",
    "third_twenty"
   ]
  },
  {
   "cell_type": "code",
   "execution_count": 115,
   "metadata": {},
   "outputs": [
    {
     "data": {
      "text/plain": [
       "0.4145"
      ]
     },
     "execution_count": 115,
     "metadata": {},
     "output_type": "execute_result"
    }
   ],
   "source": [
    "fourth_twenty = (third_twenty < 20).mean()\n",
    "fourth_twenty"
   ]
  },
  {
   "cell_type": "code",
   "execution_count": 116,
   "metadata": {},
   "outputs": [
    {
     "data": {
      "text/plain": [
       "array([[234, 139,  82, ..., 317, 234, 287],\n",
       "       [107, 277, 357, ..., 353, 223, 259],\n",
       "       [164, 311, 183, ..., 186,  74,  90],\n",
       "       ...,\n",
       "       [ 41, 248, 278, ...,  57, 307, 333],\n",
       "       [294,  27, 279, ..., 140, 282,   6],\n",
       "       [  2, 163, 125, ..., 278,  48,  33]])"
      ]
     },
     "execution_count": 116,
     "metadata": {},
     "output_type": "execute_result"
    }
   ],
   "source": [
    "# what about 40 people?\n",
    "b_days = np.arange(1,366)\n",
    "\n",
    "n_trials = n_rows = 10_000\n",
    "n_people = n_cols = 40\n",
    "\n",
    "forty_test = np.random.choice(b_days, n_cols * n_rows).reshape(n_rows, n_cols)\n",
    "forty_test"
   ]
  },
  {
   "cell_type": "code",
   "execution_count": 117,
   "metadata": {},
   "outputs": [
    {
     "data": {
      "text/html": [
       "<div>\n",
       "<style scoped>\n",
       "    .dataframe tbody tr th:only-of-type {\n",
       "        vertical-align: middle;\n",
       "    }\n",
       "\n",
       "    .dataframe tbody tr th {\n",
       "        vertical-align: top;\n",
       "    }\n",
       "\n",
       "    .dataframe thead th {\n",
       "        text-align: right;\n",
       "    }\n",
       "</style>\n",
       "<table border=\"1\" class=\"dataframe\">\n",
       "  <thead>\n",
       "    <tr style=\"text-align: right;\">\n",
       "      <th></th>\n",
       "      <th>0</th>\n",
       "      <th>1</th>\n",
       "      <th>2</th>\n",
       "      <th>3</th>\n",
       "      <th>4</th>\n",
       "      <th>5</th>\n",
       "      <th>6</th>\n",
       "      <th>7</th>\n",
       "      <th>8</th>\n",
       "      <th>9</th>\n",
       "      <th>...</th>\n",
       "      <th>30</th>\n",
       "      <th>31</th>\n",
       "      <th>32</th>\n",
       "      <th>33</th>\n",
       "      <th>34</th>\n",
       "      <th>35</th>\n",
       "      <th>36</th>\n",
       "      <th>37</th>\n",
       "      <th>38</th>\n",
       "      <th>39</th>\n",
       "    </tr>\n",
       "  </thead>\n",
       "  <tbody>\n",
       "    <tr>\n",
       "      <th>0</th>\n",
       "      <td>234</td>\n",
       "      <td>139</td>\n",
       "      <td>82</td>\n",
       "      <td>183</td>\n",
       "      <td>220</td>\n",
       "      <td>238</td>\n",
       "      <td>253</td>\n",
       "      <td>52</td>\n",
       "      <td>348</td>\n",
       "      <td>302</td>\n",
       "      <td>...</td>\n",
       "      <td>134</td>\n",
       "      <td>233</td>\n",
       "      <td>318</td>\n",
       "      <td>89</td>\n",
       "      <td>323</td>\n",
       "      <td>56</td>\n",
       "      <td>157</td>\n",
       "      <td>317</td>\n",
       "      <td>234</td>\n",
       "      <td>287</td>\n",
       "    </tr>\n",
       "    <tr>\n",
       "      <th>1</th>\n",
       "      <td>107</td>\n",
       "      <td>277</td>\n",
       "      <td>357</td>\n",
       "      <td>266</td>\n",
       "      <td>94</td>\n",
       "      <td>331</td>\n",
       "      <td>240</td>\n",
       "      <td>103</td>\n",
       "      <td>362</td>\n",
       "      <td>5</td>\n",
       "      <td>...</td>\n",
       "      <td>68</td>\n",
       "      <td>145</td>\n",
       "      <td>364</td>\n",
       "      <td>81</td>\n",
       "      <td>1</td>\n",
       "      <td>217</td>\n",
       "      <td>133</td>\n",
       "      <td>353</td>\n",
       "      <td>223</td>\n",
       "      <td>259</td>\n",
       "    </tr>\n",
       "    <tr>\n",
       "      <th>2</th>\n",
       "      <td>164</td>\n",
       "      <td>311</td>\n",
       "      <td>183</td>\n",
       "      <td>23</td>\n",
       "      <td>234</td>\n",
       "      <td>204</td>\n",
       "      <td>113</td>\n",
       "      <td>279</td>\n",
       "      <td>327</td>\n",
       "      <td>352</td>\n",
       "      <td>...</td>\n",
       "      <td>210</td>\n",
       "      <td>352</td>\n",
       "      <td>141</td>\n",
       "      <td>169</td>\n",
       "      <td>360</td>\n",
       "      <td>334</td>\n",
       "      <td>325</td>\n",
       "      <td>186</td>\n",
       "      <td>74</td>\n",
       "      <td>90</td>\n",
       "    </tr>\n",
       "    <tr>\n",
       "      <th>3</th>\n",
       "      <td>312</td>\n",
       "      <td>181</td>\n",
       "      <td>215</td>\n",
       "      <td>43</td>\n",
       "      <td>107</td>\n",
       "      <td>308</td>\n",
       "      <td>147</td>\n",
       "      <td>55</td>\n",
       "      <td>21</td>\n",
       "      <td>106</td>\n",
       "      <td>...</td>\n",
       "      <td>6</td>\n",
       "      <td>95</td>\n",
       "      <td>356</td>\n",
       "      <td>198</td>\n",
       "      <td>275</td>\n",
       "      <td>302</td>\n",
       "      <td>169</td>\n",
       "      <td>340</td>\n",
       "      <td>186</td>\n",
       "      <td>235</td>\n",
       "    </tr>\n",
       "    <tr>\n",
       "      <th>4</th>\n",
       "      <td>92</td>\n",
       "      <td>232</td>\n",
       "      <td>350</td>\n",
       "      <td>114</td>\n",
       "      <td>143</td>\n",
       "      <td>31</td>\n",
       "      <td>90</td>\n",
       "      <td>213</td>\n",
       "      <td>325</td>\n",
       "      <td>176</td>\n",
       "      <td>...</td>\n",
       "      <td>158</td>\n",
       "      <td>54</td>\n",
       "      <td>166</td>\n",
       "      <td>39</td>\n",
       "      <td>124</td>\n",
       "      <td>337</td>\n",
       "      <td>184</td>\n",
       "      <td>162</td>\n",
       "      <td>230</td>\n",
       "      <td>81</td>\n",
       "    </tr>\n",
       "    <tr>\n",
       "      <th>...</th>\n",
       "      <td>...</td>\n",
       "      <td>...</td>\n",
       "      <td>...</td>\n",
       "      <td>...</td>\n",
       "      <td>...</td>\n",
       "      <td>...</td>\n",
       "      <td>...</td>\n",
       "      <td>...</td>\n",
       "      <td>...</td>\n",
       "      <td>...</td>\n",
       "      <td>...</td>\n",
       "      <td>...</td>\n",
       "      <td>...</td>\n",
       "      <td>...</td>\n",
       "      <td>...</td>\n",
       "      <td>...</td>\n",
       "      <td>...</td>\n",
       "      <td>...</td>\n",
       "      <td>...</td>\n",
       "      <td>...</td>\n",
       "      <td>...</td>\n",
       "    </tr>\n",
       "    <tr>\n",
       "      <th>9995</th>\n",
       "      <td>142</td>\n",
       "      <td>361</td>\n",
       "      <td>350</td>\n",
       "      <td>245</td>\n",
       "      <td>76</td>\n",
       "      <td>257</td>\n",
       "      <td>333</td>\n",
       "      <td>102</td>\n",
       "      <td>9</td>\n",
       "      <td>249</td>\n",
       "      <td>...</td>\n",
       "      <td>172</td>\n",
       "      <td>110</td>\n",
       "      <td>140</td>\n",
       "      <td>8</td>\n",
       "      <td>157</td>\n",
       "      <td>364</td>\n",
       "      <td>38</td>\n",
       "      <td>138</td>\n",
       "      <td>207</td>\n",
       "      <td>12</td>\n",
       "    </tr>\n",
       "    <tr>\n",
       "      <th>9996</th>\n",
       "      <td>294</td>\n",
       "      <td>299</td>\n",
       "      <td>357</td>\n",
       "      <td>135</td>\n",
       "      <td>125</td>\n",
       "      <td>95</td>\n",
       "      <td>85</td>\n",
       "      <td>162</td>\n",
       "      <td>315</td>\n",
       "      <td>281</td>\n",
       "      <td>...</td>\n",
       "      <td>21</td>\n",
       "      <td>310</td>\n",
       "      <td>69</td>\n",
       "      <td>164</td>\n",
       "      <td>64</td>\n",
       "      <td>311</td>\n",
       "      <td>255</td>\n",
       "      <td>129</td>\n",
       "      <td>231</td>\n",
       "      <td>157</td>\n",
       "    </tr>\n",
       "    <tr>\n",
       "      <th>9997</th>\n",
       "      <td>41</td>\n",
       "      <td>248</td>\n",
       "      <td>278</td>\n",
       "      <td>154</td>\n",
       "      <td>33</td>\n",
       "      <td>67</td>\n",
       "      <td>142</td>\n",
       "      <td>227</td>\n",
       "      <td>184</td>\n",
       "      <td>15</td>\n",
       "      <td>...</td>\n",
       "      <td>293</td>\n",
       "      <td>325</td>\n",
       "      <td>72</td>\n",
       "      <td>227</td>\n",
       "      <td>311</td>\n",
       "      <td>92</td>\n",
       "      <td>73</td>\n",
       "      <td>57</td>\n",
       "      <td>307</td>\n",
       "      <td>333</td>\n",
       "    </tr>\n",
       "    <tr>\n",
       "      <th>9998</th>\n",
       "      <td>294</td>\n",
       "      <td>27</td>\n",
       "      <td>279</td>\n",
       "      <td>73</td>\n",
       "      <td>233</td>\n",
       "      <td>251</td>\n",
       "      <td>206</td>\n",
       "      <td>252</td>\n",
       "      <td>152</td>\n",
       "      <td>227</td>\n",
       "      <td>...</td>\n",
       "      <td>111</td>\n",
       "      <td>292</td>\n",
       "      <td>122</td>\n",
       "      <td>359</td>\n",
       "      <td>28</td>\n",
       "      <td>115</td>\n",
       "      <td>301</td>\n",
       "      <td>140</td>\n",
       "      <td>282</td>\n",
       "      <td>6</td>\n",
       "    </tr>\n",
       "    <tr>\n",
       "      <th>9999</th>\n",
       "      <td>2</td>\n",
       "      <td>163</td>\n",
       "      <td>125</td>\n",
       "      <td>191</td>\n",
       "      <td>355</td>\n",
       "      <td>186</td>\n",
       "      <td>323</td>\n",
       "      <td>190</td>\n",
       "      <td>186</td>\n",
       "      <td>219</td>\n",
       "      <td>...</td>\n",
       "      <td>362</td>\n",
       "      <td>135</td>\n",
       "      <td>196</td>\n",
       "      <td>47</td>\n",
       "      <td>29</td>\n",
       "      <td>195</td>\n",
       "      <td>101</td>\n",
       "      <td>278</td>\n",
       "      <td>48</td>\n",
       "      <td>33</td>\n",
       "    </tr>\n",
       "  </tbody>\n",
       "</table>\n",
       "<p>10000 rows × 40 columns</p>\n",
       "</div>"
      ],
      "text/plain": [
       "       0    1    2    3    4    5    6    7    8    9   ...   30   31   32  \\\n",
       "0     234  139   82  183  220  238  253   52  348  302  ...  134  233  318   \n",
       "1     107  277  357  266   94  331  240  103  362    5  ...   68  145  364   \n",
       "2     164  311  183   23  234  204  113  279  327  352  ...  210  352  141   \n",
       "3     312  181  215   43  107  308  147   55   21  106  ...    6   95  356   \n",
       "4      92  232  350  114  143   31   90  213  325  176  ...  158   54  166   \n",
       "...   ...  ...  ...  ...  ...  ...  ...  ...  ...  ...  ...  ...  ...  ...   \n",
       "9995  142  361  350  245   76  257  333  102    9  249  ...  172  110  140   \n",
       "9996  294  299  357  135  125   95   85  162  315  281  ...   21  310   69   \n",
       "9997   41  248  278  154   33   67  142  227  184   15  ...  293  325   72   \n",
       "9998  294   27  279   73  233  251  206  252  152  227  ...  111  292  122   \n",
       "9999    2  163  125  191  355  186  323  190  186  219  ...  362  135  196   \n",
       "\n",
       "       33   34   35   36   37   38   39  \n",
       "0      89  323   56  157  317  234  287  \n",
       "1      81    1  217  133  353  223  259  \n",
       "2     169  360  334  325  186   74   90  \n",
       "3     198  275  302  169  340  186  235  \n",
       "4      39  124  337  184  162  230   81  \n",
       "...   ...  ...  ...  ...  ...  ...  ...  \n",
       "9995    8  157  364   38  138  207   12  \n",
       "9996  164   64  311  255  129  231  157  \n",
       "9997  227  311   92   73   57  307  333  \n",
       "9998  359   28  115  301  140  282    6  \n",
       "9999   47   29  195  101  278   48   33  \n",
       "\n",
       "[10000 rows x 40 columns]"
      ]
     },
     "execution_count": 117,
     "metadata": {},
     "output_type": "execute_result"
    }
   ],
   "source": [
    "second_forty = pd.DataFrame(forty_test)\n",
    "second_forty"
   ]
  },
  {
   "cell_type": "code",
   "execution_count": 118,
   "metadata": {},
   "outputs": [
    {
     "data": {
      "text/plain": [
       "0       36\n",
       "1       36\n",
       "2       39\n",
       "3       39\n",
       "4       40\n",
       "        ..\n",
       "9995    36\n",
       "9996    38\n",
       "9997    38\n",
       "9998    38\n",
       "9999    38\n",
       "Length: 10000, dtype: int64"
      ]
     },
     "execution_count": 118,
     "metadata": {},
     "output_type": "execute_result"
    }
   ],
   "source": [
    "third_forty = second_forty.nunique(axis=1)\n",
    "third_forty"
   ]
  },
  {
   "cell_type": "code",
   "execution_count": 119,
   "metadata": {},
   "outputs": [
    {
     "data": {
      "text/plain": [
       "0.8961"
      ]
     },
     "execution_count": 119,
     "metadata": {},
     "output_type": "execute_result"
    }
   ],
   "source": [
    "fourth_forty = (third_forty < 40).mean()\n",
    "fourth_forty"
   ]
  },
  {
   "cell_type": "code",
   "execution_count": 120,
   "metadata": {},
   "outputs": [
    {
     "data": {
      "text/plain": [
       "array([[1, 1, 0, 0, 1],\n",
       "       [0, 1, 0, 1, 0],\n",
       "       [0, 1, 0, 1, 1],\n",
       "       ...,\n",
       "       [0, 1, 1, 0, 1],\n",
       "       [0, 0, 0, 1, 1],\n",
       "       [0, 1, 1, 1, 1]])"
      ]
     },
     "execution_count": 120,
     "metadata": {},
     "output_type": "execute_result"
    }
   ],
   "source": [
    "# MORE SUPER HAPPY FUN TIME\n",
    "\n",
    "n_trials = n_rows = 10_000\n",
    "n_coins = n_cols = 5\n",
    "\n",
    "heads = 1\n",
    "tails = 0\n",
    "\n",
    "outcomes = [heads, tails]\n",
    "\n",
    "flips = np.random.choice(outcomes, n_coins * n_trials).reshape(n_trials, n_coins)\n",
    "flips"
   ]
  },
  {
   "cell_type": "code",
   "execution_count": 160,
   "metadata": {},
   "outputs": [
    {
     "data": {
      "text/plain": [
       "array([3, 2, 3, ..., 2, 2, 1])"
      ]
     },
     "execution_count": 160,
     "metadata": {},
     "output_type": "execute_result"
    }
   ],
   "source": [
    "sum_by_flips = flips.sum(axis=1)\n",
    "sum_by_flips"
   ]
  },
  {
   "cell_type": "code",
   "execution_count": 161,
   "metadata": {},
   "outputs": [
    {
     "data": {
      "text/plain": [
       "0.3146"
      ]
     },
     "execution_count": 161,
     "metadata": {},
     "output_type": "execute_result"
    }
   ],
   "source": [
    "exactly_three = (sum_by_flips==3).mean()\n",
    "exactly_three"
   ]
  },
  {
   "cell_type": "markdown",
   "metadata": {},
   "source": [
    "#### Bonus Exercises\n",
    "- [Mage Duel](https://gist.github.com/ryanorsinger/2996446f02c1bf30fcb3f8fdb88bd51d)\n",
    "- [Chuck a Luck](https://gist.github.com/ryanorsinger/eac1d7b7e978f90b8390bdc056312123)"
   ]
  },
  {
   "cell_type": "code",
   "execution_count": null,
   "metadata": {},
   "outputs": [],
   "source": []
  },
  {
   "cell_type": "code",
   "execution_count": null,
   "metadata": {},
   "outputs": [],
   "source": []
  }
 ],
 "metadata": {
  "kernelspec": {
   "display_name": "Python 3",
   "language": "python",
   "name": "python3"
  },
  "language_info": {
   "codemirror_mode": {
    "name": "ipython",
    "version": 3
   },
   "file_extension": ".py",
   "mimetype": "text/x-python",
   "name": "python",
   "nbconvert_exporter": "python",
   "pygments_lexer": "ipython3",
   "version": "3.8.5"
  }
 },
 "nbformat": 4,
 "nbformat_minor": 4
}
