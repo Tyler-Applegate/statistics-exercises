{
 "cells": [
  {
   "cell_type": "markdown",
   "metadata": {},
   "source": [
    "Exercises\n",
    "Do your work for this exercise in a jupyter notebook named hypothesis_testing.ipynb.\n",
    "\n",
    "For each of the following questions, formulate a null and alternative hypothesis (be as specific as you can be), then give an example of what a true positive, true negative, type I and type II errors would look like. Note that some of the questions are intentionally phrased in a vague way. It is your job to reword these as more precise questions that could be tested."
   ]
  },
  {
   "cell_type": "markdown",
   "metadata": {},
   "source": [
    "- do I need to reword the question?\n",
    "- what are the variables?\n",
    "- what type are the variables?\n",
    "- formulate null hypothesis\n",
    "- formulate alt hypothesis\n",
    "- example of True Positive\n",
    "- Example of True Negative\n",
    "- example of Type 1 error (False Positive)\n",
    "- example of Type 2 error (False Negative)\n",
    "- what type of tests should I run?"
   ]
  },
  {
   "cell_type": "markdown",
   "metadata": {},
   "source": [
    "### 1. Has the network latency gone up since we switched internet service providers?\n",
    "##### do I need to reword the question?\n",
    "- Has there been a statistically significant increase in network latency since we switched ISPs?\n",
    "##### what are the variables?\n",
    "- old_isp\n",
    "- new_isp\n",
    "- network_latency\n",
    "##### what type are the variables?\n",
    "- old_isp = categorical/discrete\n",
    "- new_isp = categorical/discrete\n",
    "- network_latency = numerical/continuous\n",
    "##### formulate null hypothesis\n",
    "- H0 = no stat significant change in network latency since we switched ISPs\n",
    "##### formulate alt hypothesis\n",
    "- Ha = there has been a significant change in network latency since we switched ISPs\n",
    "##### formulate alt hypothesis\n",
    "- Ha = there has been a significant change in network latency since we switched ISPs\n",
    "##### example of True Positive\n",
    "- H0 = False\n",
    "- There is a significant change in network latency after switching\n",
    "##### Example of True Negative\n",
    "- H0 = True\n",
    "- There is no significant change in network latency after switching\n",
    "##### example of Type 1 error (False Positive)\n",
    "- H0 = True, but we get data that says H0 = False\n",
    "- we say there is significant change, when in reality there is not\n",
    "##### example of Type 2 error (False Negative)\n",
    "- H0 = False, but we get data that says H0 = True\n",
    "- we say there is no significant change, when in reality there is\n",
    "##### what type of test(s) would I run?"
   ]
  },
  {
   "cell_type": "markdown",
   "metadata": {},
   "source": [
    "### 2. Is the website redesign any good?\n",
    "##### do I need to reword the question?\n",
    "- how do we quantify changes to website redesign?\n",
    "- Is there a statistically significant increase in time spent on website after redesign?\n",
    "##### what are the variables?\n",
    "- old_website = categorical / discrete\n",
    "- new_website = categorical / discrete\n",
    "- time_onsite = numerical / continuous\n",
    "##### what type are the variables?\n",
    "##### formulate null hypothesis\n",
    "- H0 = there is no significant change in time on_site after website redesign\n",
    "##### formulate alt hypothesis\n",
    "- Ha = there is a significant increase in time on_site after website redesign\n",
    "##### example of True Positive\n",
    "- H0 = False\n",
    "- There is a significant increase in time_onsite\n",
    "##### Example of True Negative\n",
    "- H0 = True\n",
    "- There is no significant change in time_onsite after redesign\n",
    "##### example of Type 1 error (False Positive)\n",
    "- H0 = True, but our data says H0 = False\n",
    "- There is no significant change in time_onsite, but our data suggests that there is significant change\n",
    "##### example of Type 2 error (False Negative)\n",
    "- H0 = False, but our data says H0 = True\n",
    "- There is a significant change in time_onsite, but our data suggests no significant change\n",
    "##### what type of test(s) would I run?"
   ]
  },
  {
   "cell_type": "markdown",
   "metadata": {},
   "source": [
    "### 3. Is our television ad driving more sales?\n",
    "##### do I need to reword the question?\n",
    "- Has our tv ad led to a statistically significant increase in sales revenue? (measuring in avg weekly revenue?)\n",
    "##### what are the variables?\n",
    "- pre_ad\n",
    "- post_ad\n",
    "- weekly_ad_rev\n",
    "##### what type are the variables?\n",
    "- pre_ad = categorical / discrete\n",
    "- post_ad = categorical / discrete\n",
    "- weekly_ad_rev = numerical / continuous\n",
    "##### formulate null hypothesis\n",
    "- H0 = there is no significant change in weekly revenue after new tv ad\n",
    "##### formulate alt hypothesis\n",
    "- H1 = there has been a statistically significant increase in weekly revenue after new sales ad\n",
    "- H2 = there has been a statistically significant decrease in weekly revenue after new tv ad\n",
    "##### example of True Positive\n",
    "- H0 = False\n",
    "- There is a statistically significant change in weekly revenue after the new tv ad\n",
    "##### Example of True Negative\n",
    "- H0 = True\n",
    "- There is no statistically significant change in weekly revenue after the new tv ad\n",
    "##### example of Type 1 error (False Positive)\n",
    "- H0 = True, but our data suggests H0 = False\n",
    "- There is no change, but our data suggests that there is\n",
    "##### example of Type 2 error (False Negative)\n",
    "- H0 = False, but our data suggests H0 = True\n",
    "- There is significant change, but our data suggests no change\n",
    "##### what type of test(s) would I run?"
   ]
  }
 ],
 "metadata": {
  "kernelspec": {
   "display_name": "Python 3.8.5 64-bit ('base': conda)",
   "language": "python",
   "name": "python385jvsc74a57bd0b64057e63add2b45b1ffc7eab9b09c8889b419c878e2fdf0d08f837f0fc857a7"
  },
  "language_info": {
   "codemirror_mode": {
    "name": "ipython",
    "version": 3
   },
   "file_extension": ".py",
   "mimetype": "text/x-python",
   "name": "python",
   "nbconvert_exporter": "python",
   "pygments_lexer": "ipython3",
   "version": "3.8.5"
  }
 },
 "nbformat": 4,
 "nbformat_minor": 4
}
