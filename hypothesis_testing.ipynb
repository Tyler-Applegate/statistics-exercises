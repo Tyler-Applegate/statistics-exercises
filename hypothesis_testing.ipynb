{
 "cells": [
  {
   "cell_type": "markdown",
   "metadata": {},
   "source": [
    "Exercises\n",
    "Do your work for this exercise in a jupyter notebook named hypothesis_testing.ipynb.\n",
    "\n",
    "For each of the following questions, formulate a null and alternative hypothesis (be as specific as you can be), then give an example of what a true positive, true negative, type I and type II errors would look like. Note that some of the questions are intentionally phrased in a vague way. It is your job to reword these as more precise questions that could be tested."
   ]
  },
  {
   "cell_type": "markdown",
   "metadata": {},
   "source": [
    "- do I need to reword the question?\n",
    "- what are the variables?\n",
    "- what type are the variables?\n",
    "- formulate null hypothesis\n",
    "- formulate alt hypothesis\n",
    "- example of True Positive\n",
    "- Example of True Negative\n",
    "- example of Type 1 error (False Positive)\n",
    "- example of Type 2 error (False Negative)\n",
    "- what type of tests should I run?"
   ]
  },
  {
   "cell_type": "markdown",
   "metadata": {},
   "source": [
    "### 1. Has the network latency gone up since we switched internet service providers?\n",
    "##### do I need to reword the question?\n",
    "- Has there been a statistically significant increase in network latency since we switched ISPs?\n",
    "##### what are the variables?\n",
    "- old_isp\n",
    "- new_isp\n",
    "- network_latency\n",
    "##### what type are the variables?\n",
    "- old_isp = categorical/discrete\n",
    "- new_isp = categorical/discrete\n",
    "- network_latency = numerical/continuous\n",
    "##### formulate null hypothesis\n",
    "- H0 = no stat significant change in network latency since we switched ISPs\n",
    "##### formulate alt hypothesis\n",
    "- Ha = there has been a significant increase in network latency since we switched ISPs\n",
    "##### formulate alt hypothesis\n",
    "- Ha = there has been a significant change in network latency since we switched ISPs\n",
    "##### example of True Positive\n",
    "- H0 = False\n",
    "- There is a significant change in network latency after switching\n",
    "##### Example of True Negative\n",
    "- H0 = True\n",
    "- There is no significant change in network latency after switching\n",
    "##### example of Type 1 error (False Positive)\n",
    "- H0 = True, but we get data that says H0 = False\n",
    "- we say there is significant change, when in reality there is not\n",
    "##### example of Type 2 error (False Negative)\n",
    "- H0 = False, but we get data that says H0 = True\n",
    "- we say there is no significant change, when in reality there is\n",
    "##### what type of test(s) would I run?"
   ]
  },
  {
   "cell_type": "markdown",
   "metadata": {},
   "source": [
    "### 2. Is the website redesign any good?\n",
    "##### do I need to reword the question?\n",
    "- how do we quantify changes to website redesign?\n",
    "- Is there a statistically significant increase in time spent on website after redesign?\n",
    "##### what are the variables?\n",
    "- old_website = categorical / discrete\n",
    "- new_website = categorical / discrete\n",
    "- time_onsite = numerical / continuous\n",
    "##### what type are the variables?\n",
    "##### formulate null hypothesis\n",
    "- H0 = there is no significant change in time on_site after website redesign\n",
    "##### formulate alt hypothesis\n",
    "- Ha = there is a significant increase in time on_site after website redesign\n",
    "##### example of True Positive\n",
    "- H0 = False\n",
    "- There is a significant increase in time_onsite\n",
    "##### Example of True Negative\n",
    "- H0 = True\n",
    "- There is no significant change in time_onsite after redesign\n",
    "##### example of Type 1 error (False Positive)\n",
    "- H0 = True, but our data says H0 = False\n",
    "- There is no significant change in time_onsite, but our data suggests that there is significant change\n",
    "##### example of Type 2 error (False Negative)\n",
    "- H0 = False, but our data says H0 = True\n",
    "- There is a significant change in time_onsite, but our data suggests no significant change\n",
    "##### what type of test(s) would I run?"
   ]
  },
  {
   "cell_type": "markdown",
   "metadata": {},
   "source": [
    "### 3. Is our television ad driving more sales?\n",
    "##### do I need to reword the question?\n",
    "- Has our tv ad led to a statistically significant increase in sales revenue? (measuring in avg weekly revenue?)\n",
    "##### what are the variables?\n",
    "- pre_ad\n",
    "- post_ad\n",
    "- weekly_ad_rev\n",
    "##### what type are the variables?\n",
    "- pre_ad = categorical / discrete\n",
    "- post_ad = categorical / discrete\n",
    "- weekly_ad_rev = numerical / continuous\n",
    "##### formulate null hypothesis\n",
    "- H0 = there is no significant change in weekly revenue after new tv ad\n",
    "##### formulate alt hypothesis\n",
    "- H1 = there has been a statistically significant increase in weekly revenue after new sales ad\n",
    "- H2 = there has been a statistically significant decrease in weekly revenue after new tv ad\n",
    "##### example of True Positive\n",
    "- H0 = False\n",
    "- There is a statistically significant change in weekly revenue after the new tv ad\n",
    "##### Example of True Negative\n",
    "- H0 = True\n",
    "- There is no statistically significant change in weekly revenue after the new tv ad\n",
    "##### example of Type 1 error (False Positive)\n",
    "- H0 = True, but our data suggests H0 = False\n",
    "- There is no change, but our data suggests that there is\n",
    "##### example of Type 2 error (False Negative)\n",
    "- H0 = False, but our data suggests H0 = True\n",
    "- There is significant change, but our data suggests no change\n",
    "##### what type of test(s) would I run?"
   ]
  },
  {
   "cell_type": "markdown",
   "metadata": {},
   "source": [
    "# T-Test Time"
   ]
  },
  {
   "cell_type": "markdown",
   "metadata": {},
   "source": [
    "Exercises\n",
    "Continue working in your hypothesis_testing notebook."
   ]
  },
  {
   "cell_type": "code",
   "execution_count": 1,
   "metadata": {},
   "outputs": [],
   "source": [
    "import numpy as np\n",
    "import seaborn as sns\n",
    "import scipy.stats as stats\n",
    "import pandas as pd\n",
    "import matplotlib.pyplot as plt"
   ]
  },
  {
   "cell_type": "markdown",
   "metadata": {},
   "source": [
    "1. Ace Realty wants to determine whether the average time it takes to sell homes is different for its two offices. A sample of 40 sales from office #1 revealed a mean of 90 days and a standard deviation of 15 days. A sample of 50 sales from office #2 revealed a mean of 100 days and a standard deviation of 20 days. Use a .05 level of significance."
   ]
  },
  {
   "cell_type": "markdown",
   "metadata": {},
   "source": [
    "- do I need to reword the question?\n",
    "    - Is there a statistically significent difference in sales time between office1 and office2?\n",
    "- what are the variables?\n",
    "- what type are the variables?\n",
    "    - office1 = categorical / discrete\n",
    "    - office2 = categorical / discrete\n",
    "    - time_to_sell = numerical / continuous\n",
    "- formulate null hypothesis\n",
    "    - $H_{0}$: There is no difference in sales time between office1 and office2.\n",
    "- formulate alt hypothesis\n",
    "    - $H_{a}$: There is a statistically significant difference in sales time between office1 and office2.\n",
    "- example of True Positive\n",
    "    - $H_{0}$: False, so we reject $H_{0}$, There is a statistically significant difference in sales time between office1 and office2, and our data backs that up.\n",
    "- Example of True Negative\n",
    "    - $H_{0}$: True, so we accept $H_{0}$, There is no difference in sales time, and our data backs this up.\n",
    "- example of Type 1 error (False Positive)\n",
    "    - $H_{0}$: True, (There is no difference) but our data suggests it is False (We see a difference), so we incorrectly reject $H_{0}$\n",
    "- example of Type 2 error (False Negative)\n",
    "    - $H_{0}$: False, (There is a differnce) but our data suggests it is True (There is no difference), so we incorrectly accept the $H_{0}$\n",
    "- what type of tests should I run?"
   ]
  },
  {
   "cell_type": "markdown",
   "metadata": {},
   "source": [
    "1. Ace Realty wants to determine whether the average time it takes to sell homes is different for its two offices. A sample of 40 sales from office #1 revealed a mean of 90 days and a standard deviation of 15 days. A sample of 50 sales from office #2 revealed a mean of 100 days and a standard deviation of 20 days. Use a .05 level of significance."
   ]
  },
  {
   "cell_type": "code",
   "execution_count": 3,
   "metadata": {},
   "outputs": [],
   "source": [
    "# office1 variables\n",
    "mean1 = 90\n",
    "std1 = 15\n",
    "ct1 = 40\n",
    "# office2 variables\n",
    "mean2 = 100\n",
    "std2 = 20\n",
    "ct2 = 50\n",
    "# others\n",
    "alpha = 0.05\n",
    "# check variance\n",
    "\n",
    "\n"
   ]
  },
  {
   "cell_type": "code",
   "execution_count": 4,
   "metadata": {},
   "outputs": [
    {
     "data": {
      "text/plain": [
       "(-2.7091418459143854, 0.00811206270346016, 0.05)"
      ]
     },
     "execution_count": 4,
     "metadata": {},
     "output_type": "execute_result"
    }
   ],
   "source": [
    "t, p = stats.ttest_ind_from_stats(mean1, std1, ct1, mean2, std2, ct2, equal_var = False)\n",
    "\n",
    "t, p, alpha"
   ]
  },
  {
   "cell_type": "code",
   "execution_count": null,
   "metadata": {},
   "outputs": [],
   "source": [
    "# What does it mean???\n",
    "# Office1 sells on average 2.7 days faster (less) than office2\n",
    "# the p value < alpha, so we know this is not by chance\n",
    "\n",
    "# This is an example of True Positive\n"
   ]
  },
  {
   "cell_type": "markdown",
   "metadata": {},
   "source": [
    "$H_{0}$: False (There is a difference), and our data backs up the fact that there is a difference in sales time"
   ]
  },
  {
   "cell_type": "markdown",
   "metadata": {},
   "source": [
    "2. Load the mpg dataset and use it to answer the following questions:"
   ]
  },
  {
   "cell_type": "code",
   "execution_count": 6,
   "metadata": {},
   "outputs": [
    {
     "data": {
      "text/html": [
       "<div>\n",
       "<style scoped>\n",
       "    .dataframe tbody tr th:only-of-type {\n",
       "        vertical-align: middle;\n",
       "    }\n",
       "\n",
       "    .dataframe tbody tr th {\n",
       "        vertical-align: top;\n",
       "    }\n",
       "\n",
       "    .dataframe thead th {\n",
       "        text-align: right;\n",
       "    }\n",
       "</style>\n",
       "<table border=\"1\" class=\"dataframe\">\n",
       "  <thead>\n",
       "    <tr style=\"text-align: right;\">\n",
       "      <th></th>\n",
       "      <th>mpg</th>\n",
       "      <th>cylinders</th>\n",
       "      <th>displacement</th>\n",
       "      <th>horsepower</th>\n",
       "      <th>weight</th>\n",
       "      <th>acceleration</th>\n",
       "      <th>model_year</th>\n",
       "      <th>origin</th>\n",
       "      <th>name</th>\n",
       "    </tr>\n",
       "  </thead>\n",
       "  <tbody>\n",
       "    <tr>\n",
       "      <th>0</th>\n",
       "      <td>18.0</td>\n",
       "      <td>8</td>\n",
       "      <td>307.0</td>\n",
       "      <td>130.0</td>\n",
       "      <td>3504</td>\n",
       "      <td>12.0</td>\n",
       "      <td>70</td>\n",
       "      <td>usa</td>\n",
       "      <td>chevrolet chevelle malibu</td>\n",
       "    </tr>\n",
       "    <tr>\n",
       "      <th>1</th>\n",
       "      <td>15.0</td>\n",
       "      <td>8</td>\n",
       "      <td>350.0</td>\n",
       "      <td>165.0</td>\n",
       "      <td>3693</td>\n",
       "      <td>11.5</td>\n",
       "      <td>70</td>\n",
       "      <td>usa</td>\n",
       "      <td>buick skylark 320</td>\n",
       "    </tr>\n",
       "    <tr>\n",
       "      <th>2</th>\n",
       "      <td>18.0</td>\n",
       "      <td>8</td>\n",
       "      <td>318.0</td>\n",
       "      <td>150.0</td>\n",
       "      <td>3436</td>\n",
       "      <td>11.0</td>\n",
       "      <td>70</td>\n",
       "      <td>usa</td>\n",
       "      <td>plymouth satellite</td>\n",
       "    </tr>\n",
       "    <tr>\n",
       "      <th>3</th>\n",
       "      <td>16.0</td>\n",
       "      <td>8</td>\n",
       "      <td>304.0</td>\n",
       "      <td>150.0</td>\n",
       "      <td>3433</td>\n",
       "      <td>12.0</td>\n",
       "      <td>70</td>\n",
       "      <td>usa</td>\n",
       "      <td>amc rebel sst</td>\n",
       "    </tr>\n",
       "    <tr>\n",
       "      <th>4</th>\n",
       "      <td>17.0</td>\n",
       "      <td>8</td>\n",
       "      <td>302.0</td>\n",
       "      <td>140.0</td>\n",
       "      <td>3449</td>\n",
       "      <td>10.5</td>\n",
       "      <td>70</td>\n",
       "      <td>usa</td>\n",
       "      <td>ford torino</td>\n",
       "    </tr>\n",
       "  </tbody>\n",
       "</table>\n",
       "</div>"
      ],
      "text/plain": [
       "    mpg  cylinders  displacement  horsepower  weight  acceleration  \\\n",
       "0  18.0          8         307.0       130.0    3504          12.0   \n",
       "1  15.0          8         350.0       165.0    3693          11.5   \n",
       "2  18.0          8         318.0       150.0    3436          11.0   \n",
       "3  16.0          8         304.0       150.0    3433          12.0   \n",
       "4  17.0          8         302.0       140.0    3449          10.5   \n",
       "\n",
       "   model_year origin                       name  \n",
       "0          70    usa  chevrolet chevelle malibu  \n",
       "1          70    usa          buick skylark 320  \n",
       "2          70    usa         plymouth satellite  \n",
       "3          70    usa              amc rebel sst  \n",
       "4          70    usa                ford torino  "
      ]
     },
     "execution_count": 6,
     "metadata": {},
     "output_type": "execute_result"
    }
   ],
   "source": [
    "mpg_df = sns.load_dataset('mpg')\n",
    "mpg_df.head()"
   ]
  },
  {
   "cell_type": "markdown",
   "metadata": {},
   "source": [
    "2a. Is there a difference in fuel-efficiency in cars from 2008 vs 1999?"
   ]
  },
  {
   "cell_type": "code",
   "execution_count": null,
   "metadata": {},
   "outputs": [],
   "source": []
  },
  {
   "cell_type": "markdown",
   "metadata": {},
   "source": [
    "2b. Are compact cars more fuel-efficient than the average car?"
   ]
  },
  {
   "cell_type": "code",
   "execution_count": null,
   "metadata": {},
   "outputs": [],
   "source": []
  },
  {
   "cell_type": "markdown",
   "metadata": {},
   "source": [
    "2c. Do manual cars get better gas mileage than automatic cars?"
   ]
  },
  {
   "cell_type": "code",
   "execution_count": null,
   "metadata": {},
   "outputs": [],
   "source": []
  }
 ],
 "metadata": {
  "kernelspec": {
   "display_name": "Python 3.8.5 64-bit ('base': conda)",
   "language": "python",
   "name": "python385jvsc74a57bd0b64057e63add2b45b1ffc7eab9b09c8889b419c878e2fdf0d08f837f0fc857a7"
  },
  "language_info": {
   "codemirror_mode": {
    "name": "ipython",
    "version": 3
   },
   "file_extension": ".py",
   "mimetype": "text/x-python",
   "name": "python",
   "nbconvert_exporter": "python",
   "pygments_lexer": "ipython3",
   "version": "3.8.5"
  }
 },
 "nbformat": 4,
 "nbformat_minor": 4
}
